{
  "nbformat": 4,
  "nbformat_minor": 0,
  "metadata": {
    "colab": {
      "name": "Covid19_forecasting_LSTM_CNN_MLP.ipynb",
      "provenance": [],
      "include_colab_link": true
    },
    "kernelspec": {
      "name": "python3",
      "display_name": "Python 3"
    }
  },
  "cells": [
    {
      "cell_type": "markdown",
      "metadata": {
        "id": "view-in-github",
        "colab_type": "text"
      },
      "source": [
        "<a href=\"https://colab.research.google.com/github/FirangizSadiyeva/Covid-19/blob/main/Covid19_forecasting_LSTM_CNN_MLP.ipynb\" target=\"_parent\"><img src=\"https://colab.research.google.com/assets/colab-badge.svg\" alt=\"Open In Colab\"/></a>"
      ]
    },
    {
      "cell_type": "code",
      "metadata": {
        "id": "Os1QwrBb9P9x",
        "colab": {
          "base_uri": "https://localhost:8080/"
        },
        "outputId": "c2722cd3-e1c4-4c94-e00c-5b2b93e2b921"
      },
      "source": [
        "!pip install matplotlib-venn\r\n",
        "\r\n",
        "import pandas as pd\r\n",
        "import numpy as np\r\n",
        "import itertools\r\n",
        "import seaborn as sns\r\n",
        "import matplotlib.pyplot as plt\r\n",
        "%matplotlib inline\r\n",
        "import plotly.express as px\r\n",
        "import statsmodels.api as sm\r\n",
        "import configparser\r\n",
        "from datetime import timedelta\r\n",
        "from statsmodels.tsa.api import Holt\r\n",
        "from statsmodels.tsa.stattools import adfuller, acf, pacf,arma_order_select_ic\r\n",
        "from statsmodels.graphics.tsaplots import plot_acf, plot_pacf\r\n",
        "from statsmodels.tsa.arima_model import ARIMA\r\n",
        "import warnings\r\n",
        "warnings.simplefilter('ignore')"
      ],
      "execution_count": 1,
      "outputs": [
        {
          "output_type": "stream",
          "text": [
            "Requirement already satisfied: matplotlib-venn in /usr/local/lib/python3.6/dist-packages (0.11.6)\n",
            "Requirement already satisfied: matplotlib in /usr/local/lib/python3.6/dist-packages (from matplotlib-venn) (3.2.2)\n",
            "Requirement already satisfied: numpy in /usr/local/lib/python3.6/dist-packages (from matplotlib-venn) (1.19.5)\n",
            "Requirement already satisfied: scipy in /usr/local/lib/python3.6/dist-packages (from matplotlib-venn) (1.4.1)\n",
            "Requirement already satisfied: pyparsing!=2.0.4,!=2.1.2,!=2.1.6,>=2.0.1 in /usr/local/lib/python3.6/dist-packages (from matplotlib->matplotlib-venn) (2.4.7)\n",
            "Requirement already satisfied: python-dateutil>=2.1 in /usr/local/lib/python3.6/dist-packages (from matplotlib->matplotlib-venn) (2.8.1)\n",
            "Requirement already satisfied: kiwisolver>=1.0.1 in /usr/local/lib/python3.6/dist-packages (from matplotlib->matplotlib-venn) (1.3.1)\n",
            "Requirement already satisfied: cycler>=0.10 in /usr/local/lib/python3.6/dist-packages (from matplotlib->matplotlib-venn) (0.10.0)\n",
            "Requirement already satisfied: six>=1.5 in /usr/local/lib/python3.6/dist-packages (from python-dateutil>=2.1->matplotlib->matplotlib-venn) (1.15.0)\n"
          ],
          "name": "stdout"
        },
        {
          "output_type": "stream",
          "text": [
            "/usr/local/lib/python3.6/dist-packages/statsmodels/tools/_testing.py:19: FutureWarning:\n",
            "\n",
            "pandas.util.testing is deprecated. Use the functions in the public API at pandas.testing instead.\n",
            "\n"
          ],
          "name": "stderr"
        }
      ]
    },
    {
      "cell_type": "code",
      "metadata": {
        "id": "yD3TP-f8UGjT"
      },
      "source": [
        "\r\n",
        "import warnings\r\n",
        "import matplotlib.pyplot as plt\r\n",
        "from keras import optimizers\r\n",
        "from keras.utils import plot_model\r\n",
        "from keras.models import Sequential, Model\r\n",
        "from keras.layers.convolutional import Conv1D, MaxPooling1D\r\n",
        "from keras.layers import Dense, LSTM, RepeatVector, TimeDistributed, Flatten\r\n",
        "from sklearn.metrics import mean_squared_error\r\n",
        "from sklearn.model_selection import train_test_split\r\n"
      ],
      "execution_count": 2,
      "outputs": []
    },
    {
      "cell_type": "code",
      "metadata": {
        "id": "eRjObv5pUe9M",
        "colab": {
          "base_uri": "https://localhost:8080/",
          "height": 513
        },
        "outputId": "575bb82e-ffab-41a5-f15d-67b22a6f89ff"
      },
      "source": [
        "!pip install chart_studio\r\n",
        "!pip install plotly==4.14.3\r\n"
      ],
      "execution_count": 3,
      "outputs": [
        {
          "output_type": "stream",
          "text": [
            "Collecting chart_studio\n",
            "\u001b[?25l  Downloading https://files.pythonhosted.org/packages/ca/ce/330794a6b6ca4b9182c38fc69dd2a9cbff60fd49421cb8648ee5fee352dc/chart_studio-1.1.0-py3-none-any.whl (64kB)\n",
            "\r\u001b[K     |█████                           | 10kB 13.6MB/s eta 0:00:01\r\u001b[K     |██████████▏                     | 20kB 17.6MB/s eta 0:00:01\r\u001b[K     |███████████████▎                | 30kB 9.6MB/s eta 0:00:01\r\u001b[K     |████████████████████▍           | 40kB 8.2MB/s eta 0:00:01\r\u001b[K     |█████████████████████████▍      | 51kB 4.4MB/s eta 0:00:01\r\u001b[K     |██████████████████████████████▌ | 61kB 4.5MB/s eta 0:00:01\r\u001b[K     |████████████████████████████████| 71kB 3.4MB/s \n",
            "\u001b[?25hRequirement already satisfied: plotly in /usr/local/lib/python3.6/dist-packages (from chart_studio) (4.4.1)\n",
            "Requirement already satisfied: retrying>=1.3.3 in /usr/local/lib/python3.6/dist-packages (from chart_studio) (1.3.3)\n",
            "Requirement already satisfied: requests in /usr/local/lib/python3.6/dist-packages (from chart_studio) (2.23.0)\n",
            "Requirement already satisfied: six in /usr/local/lib/python3.6/dist-packages (from chart_studio) (1.15.0)\n",
            "Requirement already satisfied: urllib3!=1.25.0,!=1.25.1,<1.26,>=1.21.1 in /usr/local/lib/python3.6/dist-packages (from requests->chart_studio) (1.24.3)\n",
            "Requirement already satisfied: chardet<4,>=3.0.2 in /usr/local/lib/python3.6/dist-packages (from requests->chart_studio) (3.0.4)\n",
            "Requirement already satisfied: certifi>=2017.4.17 in /usr/local/lib/python3.6/dist-packages (from requests->chart_studio) (2020.12.5)\n",
            "Requirement already satisfied: idna<3,>=2.5 in /usr/local/lib/python3.6/dist-packages (from requests->chart_studio) (2.10)\n",
            "Installing collected packages: chart-studio\n",
            "Successfully installed chart-studio-1.1.0\n",
            "Collecting plotly==4.14.3\n",
            "\u001b[?25l  Downloading https://files.pythonhosted.org/packages/1f/f6/bd3c17c8003b6641df1228e80e1acac97ed8402635e46c2571f8e1ef63af/plotly-4.14.3-py2.py3-none-any.whl (13.2MB)\n",
            "\u001b[K     |████████████████████████████████| 13.2MB 339kB/s \n",
            "\u001b[?25hRequirement already satisfied: retrying>=1.3.3 in /usr/local/lib/python3.6/dist-packages (from plotly==4.14.3) (1.3.3)\n",
            "Requirement already satisfied: six in /usr/local/lib/python3.6/dist-packages (from plotly==4.14.3) (1.15.0)\n",
            "Installing collected packages: plotly\n",
            "  Found existing installation: plotly 4.4.1\n",
            "    Uninstalling plotly-4.4.1:\n",
            "      Successfully uninstalled plotly-4.4.1\n",
            "Successfully installed plotly-4.14.3\n"
          ],
          "name": "stdout"
        },
        {
          "output_type": "display_data",
          "data": {
            "application/vnd.colab-display-data+json": {
              "pip_warning": {
                "packages": [
                  "_plotly_utils",
                  "plotly"
                ]
              }
            }
          },
          "metadata": {
            "tags": []
          }
        }
      ]
    },
    {
      "cell_type": "code",
      "metadata": {
        "id": "O4cyKEbmXP4h"
      },
      "source": [
        "#import plotly.plotly as py\r\n",
        "#import plotly.graph_objs as go\r\n",
        "from plotly.offline import init_notebook_mode, iplot\r\n"
      ],
      "execution_count": 4,
      "outputs": []
    },
    {
      "cell_type": "code",
      "metadata": {
        "id": "wL_siHnWHpZl"
      },
      "source": [
        "corona_confirmed_df = pd.read_csv('https://raw.githubusercontent.com/CSSEGISandData/COVID-19/master/csse_covid_19_data/csse_covid_19_time_series/time_series_covid19_confirmed_global.csv')\r\n",
        "corona_deaths_df = pd.read_csv('https://raw.githubusercontent.com/CSSEGISandData/COVID-19/master/csse_covid_19_data/csse_covid_19_time_series/time_series_covid19_deaths_global.csv')\r\n",
        "corona_recovered_df = pd.read_csv('https://raw.githubusercontent.com/CSSEGISandData/COVID-19/master/csse_covid_19_data/csse_covid_19_time_series/time_series_covid19_recovered_global.csv')"
      ],
      "execution_count": 5,
      "outputs": []
    },
    {
      "cell_type": "code",
      "metadata": {
        "id": "8NM0pcgVHxcE"
      },
      "source": [
        "corona_confirmed_df=corona_confirmed_df.melt(id_vars=['Province/State','Country/Region','Lat','Long'])\r\n",
        "corona_confirmed_df=corona_confirmed_df.rename({'variable':'Date','value':'confirmed'}, axis='columns')\r\n",
        "corona_deaths_df=corona_deaths_df.melt(id_vars=['Province/State','Country/Region','Lat','Long'])\r\n",
        "corona_deaths_df=corona_deaths_df.rename({'variable':'Date','value':'deaths'}, axis='columns')\r\n",
        "corona_recovered_df=corona_recovered_df.melt(id_vars=['Province/State','Country/Region','Lat','Long'])\r\n",
        "corona_recovered_df=corona_recovered_df.rename({'variable':'Date','value':'recovered'}, axis='columns')"
      ],
      "execution_count": 6,
      "outputs": []
    },
    {
      "cell_type": "code",
      "metadata": {
        "id": "f4xtzIOjIVbF"
      },
      "source": [
        "combined_df = [corona_confirmed_df, corona_deaths_df, corona_recovered_df]\r\n",
        "combined_df = [df.set_index(['Province/State','Country/Region','Lat','Long','Date']) for df in combined_df]\r\n",
        "combined_df=combined_df[0].join(combined_df[1:])"
      ],
      "execution_count": 7,
      "outputs": []
    },
    {
      "cell_type": "code",
      "metadata": {
        "id": "qMc3V_yKIeR0"
      },
      "source": [
        "combined_df=combined_df.reset_index()"
      ],
      "execution_count": 8,
      "outputs": []
    },
    {
      "cell_type": "code",
      "metadata": {
        "id": "krwCCCzAIfow"
      },
      "source": [
        "combined_df[['Lat', 'Long', 'confirmed', 'deaths', 'recovered']] = combined_df[['Lat', 'Long', 'confirmed', 'deaths', 'recovered']].apply(pd.to_numeric)\r\n",
        "combined_df[['Date']] = combined_df[['Date']].apply(pd.to_datetime)\r\n",
        "combined_df[['confirmed']] = combined_df[['confirmed']].apply(np.int64)\r\n",
        "combined_df[['deaths']] = combined_df[['deaths']].apply(np.int64)\r\n",
        "combined_df[['recovered']] = combined_df[['recovered']].apply(np.int64)"
      ],
      "execution_count": 9,
      "outputs": []
    },
    {
      "cell_type": "code",
      "metadata": {
        "id": "VZbjpBirIloF"
      },
      "source": [
        "combined_df=combined_df.rename({'Province/State':'State','Country/Region':'Country'}, axis ='columns')"
      ],
      "execution_count": 10,
      "outputs": []
    },
    {
      "cell_type": "code",
      "metadata": {
        "colab": {
          "base_uri": "https://localhost:8080/"
        },
        "id": "UIrOcpGMIqvX",
        "outputId": "5a3ee3ac-1dc5-4eb7-f451-08a78a9f0a65"
      },
      "source": [
        "print(\"Size/Shape of the dataset\",combined_df.shape)\r\n",
        "print(\"Checking for null values\",combined_df.isnull().sum())\r\n",
        "print(\"Checking Data-type\", combined_df.dtypes)"
      ],
      "execution_count": 11,
      "outputs": [
        {
          "output_type": "stream",
          "text": [
            "Size/Shape of the dataset (105651, 8)\n",
            "Checking for null values State        73143\n",
            "Country          0\n",
            "Lat            387\n",
            "Long           387\n",
            "Date             0\n",
            "confirmed        0\n",
            "deaths           0\n",
            "recovered        0\n",
            "dtype: int64\n",
            "Checking Data-type State                object\n",
            "Country              object\n",
            "Lat                 float64\n",
            "Long                float64\n",
            "Date         datetime64[ns]\n",
            "confirmed             int64\n",
            "deaths                int64\n",
            "recovered             int64\n",
            "dtype: object\n"
          ],
          "name": "stdout"
        }
      ]
    },
    {
      "cell_type": "code",
      "metadata": {
        "id": "MthqelorIwvN"
      },
      "source": [
        "combined_df.to_csv(\"combined.csv\")"
      ],
      "execution_count": 12,
      "outputs": []
    },
    {
      "cell_type": "code",
      "metadata": {
        "id": "f95XUCGrJQcF"
      },
      "source": [
        "combined_df.drop([\"State\"],1,inplace=True)"
      ],
      "execution_count": 13,
      "outputs": []
    },
    {
      "cell_type": "code",
      "metadata": {
        "colab": {
          "base_uri": "https://localhost:8080/"
        },
        "id": "B0-vXBh9d-iG",
        "outputId": "0852407b-b9df-43b6-8f23-9f241e3082b6"
      },
      "source": [
        "combined_df.isnull().sum()"
      ],
      "execution_count": 14,
      "outputs": [
        {
          "output_type": "execute_result",
          "data": {
            "text/plain": [
              "Country        0\n",
              "Lat          387\n",
              "Long         387\n",
              "Date           0\n",
              "confirmed      0\n",
              "deaths         0\n",
              "recovered      0\n",
              "dtype: int64"
            ]
          },
          "metadata": {
            "tags": []
          },
          "execution_count": 14
        }
      ]
    },
    {
      "cell_type": "code",
      "metadata": {
        "id": "F3ycVIaQO5bx"
      },
      "source": [
        "#Use data until 14 days before as training\r\n",
        "x = len(combined_df)-14\r\n",
        "\r\n",
        "train = combined_df.iloc[:x]\r\n",
        "test = combined_df.iloc[x:]"
      ],
      "execution_count": 15,
      "outputs": []
    },
    {
      "cell_type": "code",
      "metadata": {
        "id": "ROwlVqcBO-ML",
        "colab": {
          "base_uri": "https://localhost:8080/",
          "height": 287
        },
        "outputId": "60829225-8c03-4a31-bff2-edb9787018ab"
      },
      "source": [
        "train.describe()"
      ],
      "execution_count": 16,
      "outputs": [
        {
          "output_type": "execute_result",
          "data": {
            "text/html": [
              "<div>\n",
              "<style scoped>\n",
              "    .dataframe tbody tr th:only-of-type {\n",
              "        vertical-align: middle;\n",
              "    }\n",
              "\n",
              "    .dataframe tbody tr th {\n",
              "        vertical-align: top;\n",
              "    }\n",
              "\n",
              "    .dataframe thead th {\n",
              "        text-align: right;\n",
              "    }\n",
              "</style>\n",
              "<table border=\"1\" class=\"dataframe\">\n",
              "  <thead>\n",
              "    <tr style=\"text-align: right;\">\n",
              "      <th></th>\n",
              "      <th>Lat</th>\n",
              "      <th>Long</th>\n",
              "      <th>confirmed</th>\n",
              "      <th>deaths</th>\n",
              "      <th>recovered</th>\n",
              "    </tr>\n",
              "  </thead>\n",
              "  <tbody>\n",
              "    <tr>\n",
              "      <th>count</th>\n",
              "      <td>105250.000000</td>\n",
              "      <td>105250.000000</td>\n",
              "      <td>1.056370e+05</td>\n",
              "      <td>105637.000000</td>\n",
              "      <td>1.056370e+05</td>\n",
              "    </tr>\n",
              "    <tr>\n",
              "      <th>mean</th>\n",
              "      <td>20.640232</td>\n",
              "      <td>23.166662</td>\n",
              "      <td>1.107786e+05</td>\n",
              "      <td>2947.345494</td>\n",
              "      <td>-7.095842e+17</td>\n",
              "    </tr>\n",
              "    <tr>\n",
              "      <th>std</th>\n",
              "      <td>25.134971</td>\n",
              "      <td>73.562272</td>\n",
              "      <td>8.055679e+05</td>\n",
              "      <td>17288.922211</td>\n",
              "      <td>2.457907e+18</td>\n",
              "    </tr>\n",
              "    <tr>\n",
              "      <th>min</th>\n",
              "      <td>-51.796300</td>\n",
              "      <td>-178.116500</td>\n",
              "      <td>0.000000e+00</td>\n",
              "      <td>0.000000</td>\n",
              "      <td>-9.223372e+18</td>\n",
              "    </tr>\n",
              "    <tr>\n",
              "      <th>25%</th>\n",
              "      <td>6.423800</td>\n",
              "      <td>-19.020800</td>\n",
              "      <td>4.100000e+01</td>\n",
              "      <td>0.000000</td>\n",
              "      <td>1.000000e+00</td>\n",
              "    </tr>\n",
              "    <tr>\n",
              "      <th>50%</th>\n",
              "      <td>21.916200</td>\n",
              "      <td>20.972650</td>\n",
              "      <td>9.180000e+02</td>\n",
              "      <td>11.000000</td>\n",
              "      <td>3.650000e+02</td>\n",
              "    </tr>\n",
              "    <tr>\n",
              "      <th>75%</th>\n",
              "      <td>41.143200</td>\n",
              "      <td>85.240100</td>\n",
              "      <td>1.360200e+04</td>\n",
              "      <td>247.000000</td>\n",
              "      <td>6.367000e+03</td>\n",
              "    </tr>\n",
              "    <tr>\n",
              "      <th>max</th>\n",
              "      <td>71.706900</td>\n",
              "      <td>178.065000</td>\n",
              "      <td>2.739046e+07</td>\n",
              "      <td>475291.000000</td>\n",
              "      <td>1.058923e+07</td>\n",
              "    </tr>\n",
              "  </tbody>\n",
              "</table>\n",
              "</div>"
            ],
            "text/plain": [
              "                 Lat           Long     confirmed         deaths     recovered\n",
              "count  105250.000000  105250.000000  1.056370e+05  105637.000000  1.056370e+05\n",
              "mean       20.640232      23.166662  1.107786e+05    2947.345494 -7.095842e+17\n",
              "std        25.134971      73.562272  8.055679e+05   17288.922211  2.457907e+18\n",
              "min       -51.796300    -178.116500  0.000000e+00       0.000000 -9.223372e+18\n",
              "25%         6.423800     -19.020800  4.100000e+01       0.000000  1.000000e+00\n",
              "50%        21.916200      20.972650  9.180000e+02      11.000000  3.650000e+02\n",
              "75%        41.143200      85.240100  1.360200e+04     247.000000  6.367000e+03\n",
              "max        71.706900     178.065000  2.739046e+07  475291.000000  1.058923e+07"
            ]
          },
          "metadata": {
            "tags": []
          },
          "execution_count": 16
        }
      ]
    },
    {
      "cell_type": "code",
      "metadata": {
        "id": "TTBPKp8MPA4K",
        "colab": {
          "base_uri": "https://localhost:8080/"
        },
        "outputId": "efefd52c-b033-4917-9b63-6bfcd583ce76"
      },
      "source": [
        "print('Min date from train set: %s' % train['Date'].min().date())\r\n",
        "print('Max date from train set: %s' % train['Date'].max().date())"
      ],
      "execution_count": 17,
      "outputs": [
        {
          "output_type": "stream",
          "text": [
            "Min date from train set: 2020-01-22\n",
            "Max date from train set: 2021-02-11\n"
          ],
          "name": "stdout"
        }
      ]
    },
    {
      "cell_type": "code",
      "metadata": {
        "id": "1mgTI012PLci",
        "colab": {
          "base_uri": "https://localhost:8080/"
        },
        "outputId": "1e287b70-9e83-4f83-a178-02220cbb24ae"
      },
      "source": [
        "lag_size = (test['Date'].max().date() - train['Date'].max().date()).days\r\n",
        "print('Max date from train set: %s' % train['Date'].max().date())\r\n",
        "print('Max date from test set: %s' % test['Date'].max().date())\r\n",
        "print('Forecast lag size', lag_size)"
      ],
      "execution_count": 18,
      "outputs": [
        {
          "output_type": "stream",
          "text": [
            "Max date from train set: 2021-02-11\n",
            "Max date from test set: 2021-02-11\n",
            "Forecast lag size 0\n"
          ],
          "name": "stdout"
        }
      ]
    },
    {
      "cell_type": "code",
      "metadata": {
        "id": "c4RTtVjlPXkC"
      },
      "source": [
        "daily_confirmed = train.groupby('Date', as_index=False)['confirmed'].sum()\r\n",
        "deaths_daily_confirmed = train.groupby(['deaths', 'Date'], as_index=False)['confirmed'].sum()\r\n",
        "recovered_daily_confirmed = train.groupby(['recovered', 'Date'], as_index=False)['confirmed'].sum()"
      ],
      "execution_count": 19,
      "outputs": []
    },
    {
      "cell_type": "code",
      "metadata": {
        "id": "8P73OgcWQJg7"
      },
      "source": [
        "train = train[(train['Date'] >= '2020-01-23')]"
      ],
      "execution_count": 20,
      "outputs": []
    },
    {
      "cell_type": "code",
      "metadata": {
        "id": "z3nPin_6QbA2",
        "colab": {
          "base_uri": "https://localhost:8080/",
          "height": 197
        },
        "outputId": "6ac04107-7094-4c6a-85bd-d0dba774105d"
      },
      "source": [
        "train_gp = train.sort_values('Date').groupby(['deaths', 'recovered', 'Date'], as_index=False)\r\n",
        "train_gp = train_gp.agg({'confirmed':['mean']})\r\n",
        "train_gp.columns = ['deaths', 'recovered', 'Date', 'confirmed']\r\n",
        "train_gp.head()"
      ],
      "execution_count": 21,
      "outputs": [
        {
          "output_type": "execute_result",
          "data": {
            "text/html": [
              "<div>\n",
              "<style scoped>\n",
              "    .dataframe tbody tr th:only-of-type {\n",
              "        vertical-align: middle;\n",
              "    }\n",
              "\n",
              "    .dataframe tbody tr th {\n",
              "        vertical-align: top;\n",
              "    }\n",
              "\n",
              "    .dataframe thead th {\n",
              "        text-align: right;\n",
              "    }\n",
              "</style>\n",
              "<table border=\"1\" class=\"dataframe\">\n",
              "  <thead>\n",
              "    <tr style=\"text-align: right;\">\n",
              "      <th></th>\n",
              "      <th>deaths</th>\n",
              "      <th>recovered</th>\n",
              "      <th>Date</th>\n",
              "      <th>confirmed</th>\n",
              "    </tr>\n",
              "  </thead>\n",
              "  <tbody>\n",
              "    <tr>\n",
              "      <th>0</th>\n",
              "      <td>0</td>\n",
              "      <td>-9223372036854775808</td>\n",
              "      <td>2020-01-23</td>\n",
              "      <td>0.250000</td>\n",
              "    </tr>\n",
              "    <tr>\n",
              "      <th>1</th>\n",
              "      <td>0</td>\n",
              "      <td>-9223372036854775808</td>\n",
              "      <td>2020-01-24</td>\n",
              "      <td>0.450000</td>\n",
              "    </tr>\n",
              "    <tr>\n",
              "      <th>2</th>\n",
              "      <td>0</td>\n",
              "      <td>-9223372036854775808</td>\n",
              "      <td>2020-01-25</td>\n",
              "      <td>1.600000</td>\n",
              "    </tr>\n",
              "    <tr>\n",
              "      <th>3</th>\n",
              "      <td>0</td>\n",
              "      <td>-9223372036854775808</td>\n",
              "      <td>2020-01-26</td>\n",
              "      <td>0.052632</td>\n",
              "    </tr>\n",
              "    <tr>\n",
              "      <th>4</th>\n",
              "      <td>0</td>\n",
              "      <td>-9223372036854775808</td>\n",
              "      <td>2020-01-27</td>\n",
              "      <td>0.052632</td>\n",
              "    </tr>\n",
              "  </tbody>\n",
              "</table>\n",
              "</div>"
            ],
            "text/plain": [
              "   deaths            recovered       Date  confirmed\n",
              "0       0 -9223372036854775808 2020-01-23   0.250000\n",
              "1       0 -9223372036854775808 2020-01-24   0.450000\n",
              "2       0 -9223372036854775808 2020-01-25   1.600000\n",
              "3       0 -9223372036854775808 2020-01-26   0.052632\n",
              "4       0 -9223372036854775808 2020-01-27   0.052632"
            ]
          },
          "metadata": {
            "tags": []
          },
          "execution_count": 21
        }
      ]
    },
    {
      "cell_type": "code",
      "metadata": {
        "id": "CN3lPpAiRn7C"
      },
      "source": [
        "def series_to_supervised(data, window=1, lag=1, dropnan=True):\r\n",
        "    cols, names = list(), list()\r\n",
        "    # Input sequence (t-n, ... t-1)\r\n",
        "    for i in range(window, 0, -1):\r\n",
        "        cols.append(data.shift(i))\r\n",
        "        names += [('%s(t-%d)' % (col, i)) for col in data.columns]\r\n",
        "    # Current timestep (t=0)\r\n",
        "    cols.append(data)\r\n",
        "    names += [('%s(t)' % (col)) for col in data.columns]\r\n",
        "    # Target timestep (t=lag)\r\n",
        "    cols.append(data.shift(-lag))\r\n",
        "    names += [('%s(t+%d)' % (col, lag)) for col in data.columns]\r\n",
        "    # Put it all together\r\n",
        "    agg = pd.concat(cols, axis=1)\r\n",
        "    agg.columns = names\r\n",
        "    # Drop rows with NaN values\r\n",
        "    if dropnan:\r\n",
        "        agg.dropna(inplace=True)\r\n",
        "    return agg"
      ],
      "execution_count": 22,
      "outputs": []
    },
    {
      "cell_type": "code",
      "metadata": {
        "id": "lw7K3XaeSBWo",
        "colab": {
          "base_uri": "https://localhost:8080/",
          "height": 263
        },
        "outputId": "81b8209c-c691-4f88-8caf-cea200441560"
      },
      "source": [
        "window = 29\r\n",
        "lag = lag_size\r\n",
        "series = series_to_supervised(train_gp.drop('Date', axis=1), window=window, lag=lag)\r\n",
        "series.head()"
      ],
      "execution_count": 23,
      "outputs": [
        {
          "output_type": "execute_result",
          "data": {
            "text/html": [
              "<div>\n",
              "<style scoped>\n",
              "    .dataframe tbody tr th:only-of-type {\n",
              "        vertical-align: middle;\n",
              "    }\n",
              "\n",
              "    .dataframe tbody tr th {\n",
              "        vertical-align: top;\n",
              "    }\n",
              "\n",
              "    .dataframe thead th {\n",
              "        text-align: right;\n",
              "    }\n",
              "</style>\n",
              "<table border=\"1\" class=\"dataframe\">\n",
              "  <thead>\n",
              "    <tr style=\"text-align: right;\">\n",
              "      <th></th>\n",
              "      <th>deaths(t-29)</th>\n",
              "      <th>recovered(t-29)</th>\n",
              "      <th>confirmed(t-29)</th>\n",
              "      <th>deaths(t-28)</th>\n",
              "      <th>recovered(t-28)</th>\n",
              "      <th>confirmed(t-28)</th>\n",
              "      <th>deaths(t-27)</th>\n",
              "      <th>recovered(t-27)</th>\n",
              "      <th>confirmed(t-27)</th>\n",
              "      <th>deaths(t-26)</th>\n",
              "      <th>recovered(t-26)</th>\n",
              "      <th>confirmed(t-26)</th>\n",
              "      <th>deaths(t-25)</th>\n",
              "      <th>recovered(t-25)</th>\n",
              "      <th>confirmed(t-25)</th>\n",
              "      <th>deaths(t-24)</th>\n",
              "      <th>recovered(t-24)</th>\n",
              "      <th>confirmed(t-24)</th>\n",
              "      <th>deaths(t-23)</th>\n",
              "      <th>recovered(t-23)</th>\n",
              "      <th>confirmed(t-23)</th>\n",
              "      <th>deaths(t-22)</th>\n",
              "      <th>recovered(t-22)</th>\n",
              "      <th>confirmed(t-22)</th>\n",
              "      <th>deaths(t-21)</th>\n",
              "      <th>recovered(t-21)</th>\n",
              "      <th>confirmed(t-21)</th>\n",
              "      <th>deaths(t-20)</th>\n",
              "      <th>recovered(t-20)</th>\n",
              "      <th>confirmed(t-20)</th>\n",
              "      <th>deaths(t-19)</th>\n",
              "      <th>recovered(t-19)</th>\n",
              "      <th>confirmed(t-19)</th>\n",
              "      <th>deaths(t-18)</th>\n",
              "      <th>recovered(t-18)</th>\n",
              "      <th>confirmed(t-18)</th>\n",
              "      <th>deaths(t-17)</th>\n",
              "      <th>recovered(t-17)</th>\n",
              "      <th>confirmed(t-17)</th>\n",
              "      <th>deaths(t-16)</th>\n",
              "      <th>...</th>\n",
              "      <th>confirmed(t-12)</th>\n",
              "      <th>deaths(t-11)</th>\n",
              "      <th>recovered(t-11)</th>\n",
              "      <th>confirmed(t-11)</th>\n",
              "      <th>deaths(t-10)</th>\n",
              "      <th>recovered(t-10)</th>\n",
              "      <th>confirmed(t-10)</th>\n",
              "      <th>deaths(t-9)</th>\n",
              "      <th>recovered(t-9)</th>\n",
              "      <th>confirmed(t-9)</th>\n",
              "      <th>deaths(t-8)</th>\n",
              "      <th>recovered(t-8)</th>\n",
              "      <th>confirmed(t-8)</th>\n",
              "      <th>deaths(t-7)</th>\n",
              "      <th>recovered(t-7)</th>\n",
              "      <th>confirmed(t-7)</th>\n",
              "      <th>deaths(t-6)</th>\n",
              "      <th>recovered(t-6)</th>\n",
              "      <th>confirmed(t-6)</th>\n",
              "      <th>deaths(t-5)</th>\n",
              "      <th>recovered(t-5)</th>\n",
              "      <th>confirmed(t-5)</th>\n",
              "      <th>deaths(t-4)</th>\n",
              "      <th>recovered(t-4)</th>\n",
              "      <th>confirmed(t-4)</th>\n",
              "      <th>deaths(t-3)</th>\n",
              "      <th>recovered(t-3)</th>\n",
              "      <th>confirmed(t-3)</th>\n",
              "      <th>deaths(t-2)</th>\n",
              "      <th>recovered(t-2)</th>\n",
              "      <th>confirmed(t-2)</th>\n",
              "      <th>deaths(t-1)</th>\n",
              "      <th>recovered(t-1)</th>\n",
              "      <th>confirmed(t-1)</th>\n",
              "      <th>deaths(t)</th>\n",
              "      <th>recovered(t)</th>\n",
              "      <th>confirmed(t)</th>\n",
              "      <th>deaths(t+0)</th>\n",
              "      <th>recovered(t+0)</th>\n",
              "      <th>confirmed(t+0)</th>\n",
              "    </tr>\n",
              "  </thead>\n",
              "  <tbody>\n",
              "    <tr>\n",
              "      <th>29</th>\n",
              "      <td>0.0</td>\n",
              "      <td>-9.223372e+18</td>\n",
              "      <td>0.250000</td>\n",
              "      <td>0.0</td>\n",
              "      <td>-9.223372e+18</td>\n",
              "      <td>0.450000</td>\n",
              "      <td>0.0</td>\n",
              "      <td>-9.223372e+18</td>\n",
              "      <td>1.600000</td>\n",
              "      <td>0.0</td>\n",
              "      <td>-9.223372e+18</td>\n",
              "      <td>0.052632</td>\n",
              "      <td>0.0</td>\n",
              "      <td>-9.223372e+18</td>\n",
              "      <td>0.052632</td>\n",
              "      <td>0.0</td>\n",
              "      <td>-9.223372e+18</td>\n",
              "      <td>0.105263</td>\n",
              "      <td>0.0</td>\n",
              "      <td>-9.223372e+18</td>\n",
              "      <td>0.105263</td>\n",
              "      <td>0.0</td>\n",
              "      <td>-9.223372e+18</td>\n",
              "      <td>0.105263</td>\n",
              "      <td>0.0</td>\n",
              "      <td>-9.223372e+18</td>\n",
              "      <td>0.210526</td>\n",
              "      <td>0.0</td>\n",
              "      <td>-9.223372e+18</td>\n",
              "      <td>0.210526</td>\n",
              "      <td>0.0</td>\n",
              "      <td>-9.223372e+18</td>\n",
              "      <td>0.210526</td>\n",
              "      <td>0.0</td>\n",
              "      <td>-9.223372e+18</td>\n",
              "      <td>0.210526</td>\n",
              "      <td>0.0</td>\n",
              "      <td>-9.223372e+18</td>\n",
              "      <td>0.210526</td>\n",
              "      <td>0.0</td>\n",
              "      <td>...</td>\n",
              "      <td>0.368421</td>\n",
              "      <td>0.0</td>\n",
              "      <td>-9.223372e+18</td>\n",
              "      <td>0.368421</td>\n",
              "      <td>0.0</td>\n",
              "      <td>-9.223372e+18</td>\n",
              "      <td>0.368421</td>\n",
              "      <td>0.0</td>\n",
              "      <td>-9.223372e+18</td>\n",
              "      <td>0.368421</td>\n",
              "      <td>0.0</td>\n",
              "      <td>-9.223372e+18</td>\n",
              "      <td>0.368421</td>\n",
              "      <td>0.0</td>\n",
              "      <td>-9.223372e+18</td>\n",
              "      <td>0.368421</td>\n",
              "      <td>0.0</td>\n",
              "      <td>-9.223372e+18</td>\n",
              "      <td>0.368421</td>\n",
              "      <td>0.0</td>\n",
              "      <td>-9.223372e+18</td>\n",
              "      <td>0.368421</td>\n",
              "      <td>0.0</td>\n",
              "      <td>-9.223372e+18</td>\n",
              "      <td>0.421053</td>\n",
              "      <td>0.0</td>\n",
              "      <td>-9.223372e+18</td>\n",
              "      <td>0.421053</td>\n",
              "      <td>0.0</td>\n",
              "      <td>-9.223372e+18</td>\n",
              "      <td>0.421053</td>\n",
              "      <td>0.0</td>\n",
              "      <td>-9.223372e+18</td>\n",
              "      <td>0.421053</td>\n",
              "      <td>0</td>\n",
              "      <td>-9223372036854775808</td>\n",
              "      <td>0.473684</td>\n",
              "      <td>0</td>\n",
              "      <td>-9223372036854775808</td>\n",
              "      <td>0.473684</td>\n",
              "    </tr>\n",
              "    <tr>\n",
              "      <th>30</th>\n",
              "      <td>0.0</td>\n",
              "      <td>-9.223372e+18</td>\n",
              "      <td>0.450000</td>\n",
              "      <td>0.0</td>\n",
              "      <td>-9.223372e+18</td>\n",
              "      <td>1.600000</td>\n",
              "      <td>0.0</td>\n",
              "      <td>-9.223372e+18</td>\n",
              "      <td>0.052632</td>\n",
              "      <td>0.0</td>\n",
              "      <td>-9.223372e+18</td>\n",
              "      <td>0.052632</td>\n",
              "      <td>0.0</td>\n",
              "      <td>-9.223372e+18</td>\n",
              "      <td>0.105263</td>\n",
              "      <td>0.0</td>\n",
              "      <td>-9.223372e+18</td>\n",
              "      <td>0.105263</td>\n",
              "      <td>0.0</td>\n",
              "      <td>-9.223372e+18</td>\n",
              "      <td>0.105263</td>\n",
              "      <td>0.0</td>\n",
              "      <td>-9.223372e+18</td>\n",
              "      <td>0.210526</td>\n",
              "      <td>0.0</td>\n",
              "      <td>-9.223372e+18</td>\n",
              "      <td>0.210526</td>\n",
              "      <td>0.0</td>\n",
              "      <td>-9.223372e+18</td>\n",
              "      <td>0.210526</td>\n",
              "      <td>0.0</td>\n",
              "      <td>-9.223372e+18</td>\n",
              "      <td>0.210526</td>\n",
              "      <td>0.0</td>\n",
              "      <td>-9.223372e+18</td>\n",
              "      <td>0.210526</td>\n",
              "      <td>0.0</td>\n",
              "      <td>-9.223372e+18</td>\n",
              "      <td>0.263158</td>\n",
              "      <td>0.0</td>\n",
              "      <td>...</td>\n",
              "      <td>0.368421</td>\n",
              "      <td>0.0</td>\n",
              "      <td>-9.223372e+18</td>\n",
              "      <td>0.368421</td>\n",
              "      <td>0.0</td>\n",
              "      <td>-9.223372e+18</td>\n",
              "      <td>0.368421</td>\n",
              "      <td>0.0</td>\n",
              "      <td>-9.223372e+18</td>\n",
              "      <td>0.368421</td>\n",
              "      <td>0.0</td>\n",
              "      <td>-9.223372e+18</td>\n",
              "      <td>0.368421</td>\n",
              "      <td>0.0</td>\n",
              "      <td>-9.223372e+18</td>\n",
              "      <td>0.368421</td>\n",
              "      <td>0.0</td>\n",
              "      <td>-9.223372e+18</td>\n",
              "      <td>0.368421</td>\n",
              "      <td>0.0</td>\n",
              "      <td>-9.223372e+18</td>\n",
              "      <td>0.421053</td>\n",
              "      <td>0.0</td>\n",
              "      <td>-9.223372e+18</td>\n",
              "      <td>0.421053</td>\n",
              "      <td>0.0</td>\n",
              "      <td>-9.223372e+18</td>\n",
              "      <td>0.421053</td>\n",
              "      <td>0.0</td>\n",
              "      <td>-9.223372e+18</td>\n",
              "      <td>0.421053</td>\n",
              "      <td>0.0</td>\n",
              "      <td>-9.223372e+18</td>\n",
              "      <td>0.473684</td>\n",
              "      <td>0</td>\n",
              "      <td>-9223372036854775808</td>\n",
              "      <td>0.473684</td>\n",
              "      <td>0</td>\n",
              "      <td>-9223372036854775808</td>\n",
              "      <td>0.473684</td>\n",
              "    </tr>\n",
              "    <tr>\n",
              "      <th>31</th>\n",
              "      <td>0.0</td>\n",
              "      <td>-9.223372e+18</td>\n",
              "      <td>1.600000</td>\n",
              "      <td>0.0</td>\n",
              "      <td>-9.223372e+18</td>\n",
              "      <td>0.052632</td>\n",
              "      <td>0.0</td>\n",
              "      <td>-9.223372e+18</td>\n",
              "      <td>0.052632</td>\n",
              "      <td>0.0</td>\n",
              "      <td>-9.223372e+18</td>\n",
              "      <td>0.105263</td>\n",
              "      <td>0.0</td>\n",
              "      <td>-9.223372e+18</td>\n",
              "      <td>0.105263</td>\n",
              "      <td>0.0</td>\n",
              "      <td>-9.223372e+18</td>\n",
              "      <td>0.105263</td>\n",
              "      <td>0.0</td>\n",
              "      <td>-9.223372e+18</td>\n",
              "      <td>0.210526</td>\n",
              "      <td>0.0</td>\n",
              "      <td>-9.223372e+18</td>\n",
              "      <td>0.210526</td>\n",
              "      <td>0.0</td>\n",
              "      <td>-9.223372e+18</td>\n",
              "      <td>0.210526</td>\n",
              "      <td>0.0</td>\n",
              "      <td>-9.223372e+18</td>\n",
              "      <td>0.210526</td>\n",
              "      <td>0.0</td>\n",
              "      <td>-9.223372e+18</td>\n",
              "      <td>0.210526</td>\n",
              "      <td>0.0</td>\n",
              "      <td>-9.223372e+18</td>\n",
              "      <td>0.263158</td>\n",
              "      <td>0.0</td>\n",
              "      <td>-9.223372e+18</td>\n",
              "      <td>0.263158</td>\n",
              "      <td>0.0</td>\n",
              "      <td>...</td>\n",
              "      <td>0.368421</td>\n",
              "      <td>0.0</td>\n",
              "      <td>-9.223372e+18</td>\n",
              "      <td>0.368421</td>\n",
              "      <td>0.0</td>\n",
              "      <td>-9.223372e+18</td>\n",
              "      <td>0.368421</td>\n",
              "      <td>0.0</td>\n",
              "      <td>-9.223372e+18</td>\n",
              "      <td>0.368421</td>\n",
              "      <td>0.0</td>\n",
              "      <td>-9.223372e+18</td>\n",
              "      <td>0.368421</td>\n",
              "      <td>0.0</td>\n",
              "      <td>-9.223372e+18</td>\n",
              "      <td>0.368421</td>\n",
              "      <td>0.0</td>\n",
              "      <td>-9.223372e+18</td>\n",
              "      <td>0.421053</td>\n",
              "      <td>0.0</td>\n",
              "      <td>-9.223372e+18</td>\n",
              "      <td>0.421053</td>\n",
              "      <td>0.0</td>\n",
              "      <td>-9.223372e+18</td>\n",
              "      <td>0.421053</td>\n",
              "      <td>0.0</td>\n",
              "      <td>-9.223372e+18</td>\n",
              "      <td>0.421053</td>\n",
              "      <td>0.0</td>\n",
              "      <td>-9.223372e+18</td>\n",
              "      <td>0.473684</td>\n",
              "      <td>0.0</td>\n",
              "      <td>-9.223372e+18</td>\n",
              "      <td>0.473684</td>\n",
              "      <td>0</td>\n",
              "      <td>-9223372036854775808</td>\n",
              "      <td>0.473684</td>\n",
              "      <td>0</td>\n",
              "      <td>-9223372036854775808</td>\n",
              "      <td>0.473684</td>\n",
              "    </tr>\n",
              "    <tr>\n",
              "      <th>32</th>\n",
              "      <td>0.0</td>\n",
              "      <td>-9.223372e+18</td>\n",
              "      <td>0.052632</td>\n",
              "      <td>0.0</td>\n",
              "      <td>-9.223372e+18</td>\n",
              "      <td>0.052632</td>\n",
              "      <td>0.0</td>\n",
              "      <td>-9.223372e+18</td>\n",
              "      <td>0.105263</td>\n",
              "      <td>0.0</td>\n",
              "      <td>-9.223372e+18</td>\n",
              "      <td>0.105263</td>\n",
              "      <td>0.0</td>\n",
              "      <td>-9.223372e+18</td>\n",
              "      <td>0.105263</td>\n",
              "      <td>0.0</td>\n",
              "      <td>-9.223372e+18</td>\n",
              "      <td>0.210526</td>\n",
              "      <td>0.0</td>\n",
              "      <td>-9.223372e+18</td>\n",
              "      <td>0.210526</td>\n",
              "      <td>0.0</td>\n",
              "      <td>-9.223372e+18</td>\n",
              "      <td>0.210526</td>\n",
              "      <td>0.0</td>\n",
              "      <td>-9.223372e+18</td>\n",
              "      <td>0.210526</td>\n",
              "      <td>0.0</td>\n",
              "      <td>-9.223372e+18</td>\n",
              "      <td>0.210526</td>\n",
              "      <td>0.0</td>\n",
              "      <td>-9.223372e+18</td>\n",
              "      <td>0.263158</td>\n",
              "      <td>0.0</td>\n",
              "      <td>-9.223372e+18</td>\n",
              "      <td>0.263158</td>\n",
              "      <td>0.0</td>\n",
              "      <td>-9.223372e+18</td>\n",
              "      <td>0.368421</td>\n",
              "      <td>0.0</td>\n",
              "      <td>...</td>\n",
              "      <td>0.368421</td>\n",
              "      <td>0.0</td>\n",
              "      <td>-9.223372e+18</td>\n",
              "      <td>0.368421</td>\n",
              "      <td>0.0</td>\n",
              "      <td>-9.223372e+18</td>\n",
              "      <td>0.368421</td>\n",
              "      <td>0.0</td>\n",
              "      <td>-9.223372e+18</td>\n",
              "      <td>0.368421</td>\n",
              "      <td>0.0</td>\n",
              "      <td>-9.223372e+18</td>\n",
              "      <td>0.368421</td>\n",
              "      <td>0.0</td>\n",
              "      <td>-9.223372e+18</td>\n",
              "      <td>0.421053</td>\n",
              "      <td>0.0</td>\n",
              "      <td>-9.223372e+18</td>\n",
              "      <td>0.421053</td>\n",
              "      <td>0.0</td>\n",
              "      <td>-9.223372e+18</td>\n",
              "      <td>0.421053</td>\n",
              "      <td>0.0</td>\n",
              "      <td>-9.223372e+18</td>\n",
              "      <td>0.421053</td>\n",
              "      <td>0.0</td>\n",
              "      <td>-9.223372e+18</td>\n",
              "      <td>0.473684</td>\n",
              "      <td>0.0</td>\n",
              "      <td>-9.223372e+18</td>\n",
              "      <td>0.473684</td>\n",
              "      <td>0.0</td>\n",
              "      <td>-9.223372e+18</td>\n",
              "      <td>0.473684</td>\n",
              "      <td>0</td>\n",
              "      <td>-9223372036854775808</td>\n",
              "      <td>0.526316</td>\n",
              "      <td>0</td>\n",
              "      <td>-9223372036854775808</td>\n",
              "      <td>0.526316</td>\n",
              "    </tr>\n",
              "    <tr>\n",
              "      <th>33</th>\n",
              "      <td>0.0</td>\n",
              "      <td>-9.223372e+18</td>\n",
              "      <td>0.052632</td>\n",
              "      <td>0.0</td>\n",
              "      <td>-9.223372e+18</td>\n",
              "      <td>0.105263</td>\n",
              "      <td>0.0</td>\n",
              "      <td>-9.223372e+18</td>\n",
              "      <td>0.105263</td>\n",
              "      <td>0.0</td>\n",
              "      <td>-9.223372e+18</td>\n",
              "      <td>0.105263</td>\n",
              "      <td>0.0</td>\n",
              "      <td>-9.223372e+18</td>\n",
              "      <td>0.210526</td>\n",
              "      <td>0.0</td>\n",
              "      <td>-9.223372e+18</td>\n",
              "      <td>0.210526</td>\n",
              "      <td>0.0</td>\n",
              "      <td>-9.223372e+18</td>\n",
              "      <td>0.210526</td>\n",
              "      <td>0.0</td>\n",
              "      <td>-9.223372e+18</td>\n",
              "      <td>0.210526</td>\n",
              "      <td>0.0</td>\n",
              "      <td>-9.223372e+18</td>\n",
              "      <td>0.210526</td>\n",
              "      <td>0.0</td>\n",
              "      <td>-9.223372e+18</td>\n",
              "      <td>0.263158</td>\n",
              "      <td>0.0</td>\n",
              "      <td>-9.223372e+18</td>\n",
              "      <td>0.263158</td>\n",
              "      <td>0.0</td>\n",
              "      <td>-9.223372e+18</td>\n",
              "      <td>0.368421</td>\n",
              "      <td>0.0</td>\n",
              "      <td>-9.223372e+18</td>\n",
              "      <td>0.368421</td>\n",
              "      <td>0.0</td>\n",
              "      <td>...</td>\n",
              "      <td>0.368421</td>\n",
              "      <td>0.0</td>\n",
              "      <td>-9.223372e+18</td>\n",
              "      <td>0.368421</td>\n",
              "      <td>0.0</td>\n",
              "      <td>-9.223372e+18</td>\n",
              "      <td>0.368421</td>\n",
              "      <td>0.0</td>\n",
              "      <td>-9.223372e+18</td>\n",
              "      <td>0.368421</td>\n",
              "      <td>0.0</td>\n",
              "      <td>-9.223372e+18</td>\n",
              "      <td>0.421053</td>\n",
              "      <td>0.0</td>\n",
              "      <td>-9.223372e+18</td>\n",
              "      <td>0.421053</td>\n",
              "      <td>0.0</td>\n",
              "      <td>-9.223372e+18</td>\n",
              "      <td>0.421053</td>\n",
              "      <td>0.0</td>\n",
              "      <td>-9.223372e+18</td>\n",
              "      <td>0.421053</td>\n",
              "      <td>0.0</td>\n",
              "      <td>-9.223372e+18</td>\n",
              "      <td>0.473684</td>\n",
              "      <td>0.0</td>\n",
              "      <td>-9.223372e+18</td>\n",
              "      <td>0.473684</td>\n",
              "      <td>0.0</td>\n",
              "      <td>-9.223372e+18</td>\n",
              "      <td>0.473684</td>\n",
              "      <td>0.0</td>\n",
              "      <td>-9.223372e+18</td>\n",
              "      <td>0.526316</td>\n",
              "      <td>0</td>\n",
              "      <td>-9223372036854775808</td>\n",
              "      <td>0.578947</td>\n",
              "      <td>0</td>\n",
              "      <td>-9223372036854775808</td>\n",
              "      <td>0.578947</td>\n",
              "    </tr>\n",
              "  </tbody>\n",
              "</table>\n",
              "<p>5 rows × 93 columns</p>\n",
              "</div>"
            ],
            "text/plain": [
              "    deaths(t-29)  recovered(t-29)  ...       recovered(t+0)  confirmed(t+0)\n",
              "29           0.0    -9.223372e+18  ... -9223372036854775808        0.473684\n",
              "30           0.0    -9.223372e+18  ... -9223372036854775808        0.473684\n",
              "31           0.0    -9.223372e+18  ... -9223372036854775808        0.473684\n",
              "32           0.0    -9.223372e+18  ... -9223372036854775808        0.526316\n",
              "33           0.0    -9.223372e+18  ... -9223372036854775808        0.578947\n",
              "\n",
              "[5 rows x 93 columns]"
            ]
          },
          "metadata": {
            "tags": []
          },
          "execution_count": 23
        }
      ]
    },
    {
      "cell_type": "code",
      "metadata": {
        "id": "iFb6aj7sSIV4"
      },
      "source": [
        "last_deaths = 'deaths(t-%d)' % window\r\n",
        "last_recovered = 'recovered(t-%d)' % window\r\n",
        "series = series[(series['recovered(t)'] == series[last_recovered])]\r\n",
        "series = series[(series['deaths(t)'] == series[last_deaths])]"
      ],
      "execution_count": 24,
      "outputs": []
    },
    {
      "cell_type": "code",
      "metadata": {
        "id": "diWwWXi-SlUu"
      },
      "source": [
        "columns_to_drop = [('%s(t+%d)' % (col, lag)) for col in ['deaths', 'recovered']]\r\n",
        "for i in range(window, 0, -1):\r\n",
        "    columns_to_drop += [('%s(t-%d)' % (col, i)) for col in ['deaths', 'recovered']]\r\n",
        "series.drop(columns_to_drop, axis=1, inplace=True)\r\n",
        "series.drop(['deaths(t)', 'recovered(t)'], axis=1, inplace=True)"
      ],
      "execution_count": 25,
      "outputs": []
    },
    {
      "cell_type": "code",
      "metadata": {
        "id": "CMHzkGl1S1M-",
        "colab": {
          "base_uri": "https://localhost:8080/",
          "height": 270
        },
        "outputId": "3a3131f9-b8bc-4208-cb9b-d6d21d4b4bc5"
      },
      "source": [
        "# Label\r\n",
        "labels_col = 'confirmed(t+%d)' % lag_size\r\n",
        "labels = series[labels_col]\r\n",
        "series = series.drop(labels_col, axis=1)\r\n",
        "\r\n",
        "X_train, X_valid, Y_train, Y_valid = train_test_split(series, labels.values, test_size=0.4, random_state=0)\r\n",
        "print('Train set shape', X_train.shape)\r\n",
        "print('Validation set shape', X_valid.shape)\r\n",
        "X_train.head()"
      ],
      "execution_count": 26,
      "outputs": [
        {
          "output_type": "stream",
          "text": [
            "Train set shape (6988, 30)\n",
            "Validation set shape (4660, 30)\n"
          ],
          "name": "stdout"
        },
        {
          "output_type": "execute_result",
          "data": {
            "text/html": [
              "<div>\n",
              "<style scoped>\n",
              "    .dataframe tbody tr th:only-of-type {\n",
              "        vertical-align: middle;\n",
              "    }\n",
              "\n",
              "    .dataframe tbody tr th {\n",
              "        vertical-align: top;\n",
              "    }\n",
              "\n",
              "    .dataframe thead th {\n",
              "        text-align: right;\n",
              "    }\n",
              "</style>\n",
              "<table border=\"1\" class=\"dataframe\">\n",
              "  <thead>\n",
              "    <tr style=\"text-align: right;\">\n",
              "      <th></th>\n",
              "      <th>confirmed(t-29)</th>\n",
              "      <th>confirmed(t-28)</th>\n",
              "      <th>confirmed(t-27)</th>\n",
              "      <th>confirmed(t-26)</th>\n",
              "      <th>confirmed(t-25)</th>\n",
              "      <th>confirmed(t-24)</th>\n",
              "      <th>confirmed(t-23)</th>\n",
              "      <th>confirmed(t-22)</th>\n",
              "      <th>confirmed(t-21)</th>\n",
              "      <th>confirmed(t-20)</th>\n",
              "      <th>confirmed(t-19)</th>\n",
              "      <th>confirmed(t-18)</th>\n",
              "      <th>confirmed(t-17)</th>\n",
              "      <th>confirmed(t-16)</th>\n",
              "      <th>confirmed(t-15)</th>\n",
              "      <th>confirmed(t-14)</th>\n",
              "      <th>confirmed(t-13)</th>\n",
              "      <th>confirmed(t-12)</th>\n",
              "      <th>confirmed(t-11)</th>\n",
              "      <th>confirmed(t-10)</th>\n",
              "      <th>confirmed(t-9)</th>\n",
              "      <th>confirmed(t-8)</th>\n",
              "      <th>confirmed(t-7)</th>\n",
              "      <th>confirmed(t-6)</th>\n",
              "      <th>confirmed(t-5)</th>\n",
              "      <th>confirmed(t-4)</th>\n",
              "      <th>confirmed(t-3)</th>\n",
              "      <th>confirmed(t-2)</th>\n",
              "      <th>confirmed(t-1)</th>\n",
              "      <th>confirmed(t)</th>\n",
              "    </tr>\n",
              "  </thead>\n",
              "  <tbody>\n",
              "    <tr>\n",
              "      <th>22059</th>\n",
              "      <td>339.000000</td>\n",
              "      <td>340.000000</td>\n",
              "      <td>340.00000</td>\n",
              "      <td>343.000000</td>\n",
              "      <td>347.000000</td>\n",
              "      <td>351.000000</td>\n",
              "      <td>351.000000</td>\n",
              "      <td>352.000000</td>\n",
              "      <td>353.000000</td>\n",
              "      <td>354.000000</td>\n",
              "      <td>355.000000</td>\n",
              "      <td>358.000000</td>\n",
              "      <td>358.000000</td>\n",
              "      <td>358.0</td>\n",
              "      <td>359.000000</td>\n",
              "      <td>364.000000</td>\n",
              "      <td>367.000000</td>\n",
              "      <td>372.000000</td>\n",
              "      <td>380.000000</td>\n",
              "      <td>382.000000</td>\n",
              "      <td>382.000000</td>\n",
              "      <td>383.000000</td>\n",
              "      <td>384.000000</td>\n",
              "      <td>384.0000</td>\n",
              "      <td>384.000000</td>\n",
              "      <td>384.000000</td>\n",
              "      <td>387.0</td>\n",
              "      <td>389.000000</td>\n",
              "      <td>390.000000</td>\n",
              "      <td>390.000000</td>\n",
              "    </tr>\n",
              "    <tr>\n",
              "      <th>1940</th>\n",
              "      <td>14.000000</td>\n",
              "      <td>14.000000</td>\n",
              "      <td>7.00000</td>\n",
              "      <td>7.000000</td>\n",
              "      <td>7.000000</td>\n",
              "      <td>7.000000</td>\n",
              "      <td>7.000000</td>\n",
              "      <td>7.000000</td>\n",
              "      <td>7.000000</td>\n",
              "      <td>7.000000</td>\n",
              "      <td>7.000000</td>\n",
              "      <td>7.000000</td>\n",
              "      <td>7.000000</td>\n",
              "      <td>7.0</td>\n",
              "      <td>7.000000</td>\n",
              "      <td>9.000000</td>\n",
              "      <td>11.000000</td>\n",
              "      <td>15.000000</td>\n",
              "      <td>20.000000</td>\n",
              "      <td>21.000000</td>\n",
              "      <td>21.000000</td>\n",
              "      <td>21.000000</td>\n",
              "      <td>21.000000</td>\n",
              "      <td>21.0000</td>\n",
              "      <td>21.000000</td>\n",
              "      <td>5.000000</td>\n",
              "      <td>5.0</td>\n",
              "      <td>6.000000</td>\n",
              "      <td>9.000000</td>\n",
              "      <td>9.000000</td>\n",
              "    </tr>\n",
              "    <tr>\n",
              "      <th>467</th>\n",
              "      <td>8.801418</td>\n",
              "      <td>9.219697</td>\n",
              "      <td>8.01626</td>\n",
              "      <td>9.420168</td>\n",
              "      <td>10.626087</td>\n",
              "      <td>9.781818</td>\n",
              "      <td>11.914286</td>\n",
              "      <td>12.767677</td>\n",
              "      <td>15.610526</td>\n",
              "      <td>11.241379</td>\n",
              "      <td>11.457831</td>\n",
              "      <td>11.012821</td>\n",
              "      <td>12.324324</td>\n",
              "      <td>10.0</td>\n",
              "      <td>10.924242</td>\n",
              "      <td>9.885246</td>\n",
              "      <td>11.092593</td>\n",
              "      <td>10.980769</td>\n",
              "      <td>11.808511</td>\n",
              "      <td>11.409091</td>\n",
              "      <td>12.142857</td>\n",
              "      <td>7.736842</td>\n",
              "      <td>8.333333</td>\n",
              "      <td>8.6875</td>\n",
              "      <td>9.266667</td>\n",
              "      <td>9.433333</td>\n",
              "      <td>9.7</td>\n",
              "      <td>8.607143</td>\n",
              "      <td>8.821429</td>\n",
              "      <td>9.333333</td>\n",
              "    </tr>\n",
              "    <tr>\n",
              "      <th>560</th>\n",
              "      <td>0.000000</td>\n",
              "      <td>0.000000</td>\n",
              "      <td>0.00000</td>\n",
              "      <td>0.000000</td>\n",
              "      <td>0.000000</td>\n",
              "      <td>0.000000</td>\n",
              "      <td>0.000000</td>\n",
              "      <td>0.000000</td>\n",
              "      <td>0.000000</td>\n",
              "      <td>0.000000</td>\n",
              "      <td>0.000000</td>\n",
              "      <td>0.000000</td>\n",
              "      <td>0.000000</td>\n",
              "      <td>0.0</td>\n",
              "      <td>0.000000</td>\n",
              "      <td>0.000000</td>\n",
              "      <td>0.000000</td>\n",
              "      <td>0.000000</td>\n",
              "      <td>0.000000</td>\n",
              "      <td>0.000000</td>\n",
              "      <td>0.000000</td>\n",
              "      <td>0.000000</td>\n",
              "      <td>0.000000</td>\n",
              "      <td>0.0000</td>\n",
              "      <td>0.000000</td>\n",
              "      <td>0.000000</td>\n",
              "      <td>0.0</td>\n",
              "      <td>0.000000</td>\n",
              "      <td>0.000000</td>\n",
              "      <td>0.000000</td>\n",
              "    </tr>\n",
              "    <tr>\n",
              "      <th>18552</th>\n",
              "      <td>149.500000</td>\n",
              "      <td>150.500000</td>\n",
              "      <td>150.50000</td>\n",
              "      <td>150.500000</td>\n",
              "      <td>150.500000</td>\n",
              "      <td>150.500000</td>\n",
              "      <td>151.500000</td>\n",
              "      <td>151.500000</td>\n",
              "      <td>151.500000</td>\n",
              "      <td>151.500000</td>\n",
              "      <td>151.500000</td>\n",
              "      <td>152.000000</td>\n",
              "      <td>153.000000</td>\n",
              "      <td>154.0</td>\n",
              "      <td>154.000000</td>\n",
              "      <td>154.000000</td>\n",
              "      <td>154.000000</td>\n",
              "      <td>154.000000</td>\n",
              "      <td>154.500000</td>\n",
              "      <td>154.500000</td>\n",
              "      <td>155.000000</td>\n",
              "      <td>155.500000</td>\n",
              "      <td>159.000000</td>\n",
              "      <td>159.0000</td>\n",
              "      <td>159.000000</td>\n",
              "      <td>159.000000</td>\n",
              "      <td>159.0</td>\n",
              "      <td>260.000000</td>\n",
              "      <td>260.000000</td>\n",
              "      <td>260.000000</td>\n",
              "    </tr>\n",
              "  </tbody>\n",
              "</table>\n",
              "</div>"
            ],
            "text/plain": [
              "       confirmed(t-29)  confirmed(t-28)  ...  confirmed(t-1)  confirmed(t)\n",
              "22059       339.000000       340.000000  ...      390.000000    390.000000\n",
              "1940         14.000000        14.000000  ...        9.000000      9.000000\n",
              "467           8.801418         9.219697  ...        8.821429      9.333333\n",
              "560           0.000000         0.000000  ...        0.000000      0.000000\n",
              "18552       149.500000       150.500000  ...      260.000000    260.000000\n",
              "\n",
              "[5 rows x 30 columns]"
            ]
          },
          "metadata": {
            "tags": []
          },
          "execution_count": 26
        }
      ]
    },
    {
      "cell_type": "code",
      "metadata": {
        "id": "k7YO41nUTE91"
      },
      "source": [
        "epochs = 40\r\n",
        "batch = 256\r\n",
        "lr = 0.0003\r\n",
        "adam = optimizers.Adam(lr)"
      ],
      "execution_count": 27,
      "outputs": []
    },
    {
      "cell_type": "code",
      "metadata": {
        "id": "RO-TvIG6XvB3",
        "colab": {
          "base_uri": "https://localhost:8080/"
        },
        "outputId": "ccce7c38-952c-4c8e-9db9-16b64a38199c"
      },
      "source": [
        "model_mlp = Sequential()\r\n",
        "model_mlp.add(Dense(100, activation='relu', input_dim=X_train.shape[1]))\r\n",
        "model_mlp.add(Dense(1))\r\n",
        "model_mlp.compile(loss='mse', optimizer=adam)\r\n",
        "model_mlp.summary()"
      ],
      "execution_count": 28,
      "outputs": [
        {
          "output_type": "stream",
          "text": [
            "Model: \"sequential\"\n",
            "_________________________________________________________________\n",
            "Layer (type)                 Output Shape              Param #   \n",
            "=================================================================\n",
            "dense (Dense)                (None, 100)               3100      \n",
            "_________________________________________________________________\n",
            "dense_1 (Dense)              (None, 1)                 101       \n",
            "=================================================================\n",
            "Total params: 3,201\n",
            "Trainable params: 3,201\n",
            "Non-trainable params: 0\n",
            "_________________________________________________________________\n"
          ],
          "name": "stdout"
        }
      ]
    },
    {
      "cell_type": "code",
      "metadata": {
        "id": "o2CPXFINX0j2",
        "colab": {
          "base_uri": "https://localhost:8080/"
        },
        "outputId": "29a78392-26f5-4b23-8072-2de5031d8a55"
      },
      "source": [
        "mlp_history = model_mlp.fit(X_train.values, Y_train, validation_data=(X_valid.values, Y_valid), epochs=epochs, verbose=2)"
      ],
      "execution_count": 29,
      "outputs": [
        {
          "output_type": "stream",
          "text": [
            "Epoch 1/40\n",
            "219/219 - 1s - loss: 9068111.0000 - val_loss: 2803.5686\n",
            "Epoch 2/40\n",
            "219/219 - 0s - loss: 3563.2454 - val_loss: 2436.7119\n",
            "Epoch 3/40\n",
            "219/219 - 0s - loss: 3515.4036 - val_loss: 2183.1326\n",
            "Epoch 4/40\n",
            "219/219 - 0s - loss: 3755.9927 - val_loss: 2093.3042\n",
            "Epoch 5/40\n",
            "219/219 - 0s - loss: 2997.6672 - val_loss: 2091.5964\n",
            "Epoch 6/40\n",
            "219/219 - 0s - loss: 2864.6077 - val_loss: 1889.0504\n",
            "Epoch 7/40\n",
            "219/219 - 0s - loss: 2652.0054 - val_loss: 1755.6495\n",
            "Epoch 8/40\n",
            "219/219 - 0s - loss: 4623.6699 - val_loss: 1838.5065\n",
            "Epoch 9/40\n",
            "219/219 - 0s - loss: 5884.9326 - val_loss: 2333.7214\n",
            "Epoch 10/40\n",
            "219/219 - 0s - loss: 3779.4702 - val_loss: 2365.2212\n",
            "Epoch 11/40\n",
            "219/219 - 0s - loss: 2535.9597 - val_loss: 1722.3020\n",
            "Epoch 12/40\n",
            "219/219 - 0s - loss: 3697.3655 - val_loss: 5231.2500\n",
            "Epoch 13/40\n",
            "219/219 - 0s - loss: 3725.1816 - val_loss: 8034.5381\n",
            "Epoch 14/40\n",
            "219/219 - 0s - loss: 22158.6738 - val_loss: 5080.5874\n",
            "Epoch 15/40\n",
            "219/219 - 0s - loss: 2937.9922 - val_loss: 1949.8497\n",
            "Epoch 16/40\n",
            "219/219 - 0s - loss: 4096.0078 - val_loss: 2105.6584\n",
            "Epoch 17/40\n",
            "219/219 - 0s - loss: 47775.7266 - val_loss: 424471.2812\n",
            "Epoch 18/40\n",
            "219/219 - 0s - loss: 150121.0000 - val_loss: 1714.9686\n",
            "Epoch 19/40\n",
            "219/219 - 0s - loss: 2709.5359 - val_loss: 1537.8428\n",
            "Epoch 20/40\n",
            "219/219 - 0s - loss: 2367.1633 - val_loss: 1252.3558\n",
            "Epoch 21/40\n",
            "219/219 - 0s - loss: 68095.3516 - val_loss: 423630.6875\n",
            "Epoch 22/40\n",
            "219/219 - 0s - loss: 196111.9375 - val_loss: 1691.9856\n",
            "Epoch 23/40\n",
            "219/219 - 0s - loss: 1710.4146 - val_loss: 1335.5333\n",
            "Epoch 24/40\n",
            "219/219 - 0s - loss: 3228.0959 - val_loss: 1272.0625\n",
            "Epoch 25/40\n",
            "219/219 - 0s - loss: 1475.3893 - val_loss: 1315.1364\n",
            "Epoch 26/40\n",
            "219/219 - 0s - loss: 100408.0859 - val_loss: 83665.1094\n",
            "Epoch 27/40\n",
            "219/219 - 0s - loss: 350071.7812 - val_loss: 1811888.8750\n",
            "Epoch 28/40\n",
            "219/219 - 0s - loss: 236347.3281 - val_loss: 1132.9407\n",
            "Epoch 29/40\n",
            "219/219 - 0s - loss: 14312.8682 - val_loss: 67522.8672\n",
            "Epoch 30/40\n",
            "219/219 - 0s - loss: 23760.8555 - val_loss: 885.4164\n",
            "Epoch 31/40\n",
            "219/219 - 0s - loss: 146196.8750 - val_loss: 8183.4023\n",
            "Epoch 32/40\n",
            "219/219 - 0s - loss: 1330.6813 - val_loss: 683.8666\n",
            "Epoch 33/40\n",
            "219/219 - 0s - loss: 4613.3018 - val_loss: 1594.0198\n",
            "Epoch 34/40\n",
            "219/219 - 0s - loss: 7338.6704 - val_loss: 1969.9309\n",
            "Epoch 35/40\n",
            "219/219 - 0s - loss: 9423.5693 - val_loss: 5464.9204\n",
            "Epoch 36/40\n",
            "219/219 - 0s - loss: 818639.1875 - val_loss: 1615087.0000\n",
            "Epoch 37/40\n",
            "219/219 - 0s - loss: 1276281.1250 - val_loss: 771.9205\n",
            "Epoch 38/40\n",
            "219/219 - 0s - loss: 853.0206 - val_loss: 675.1301\n",
            "Epoch 39/40\n",
            "219/219 - 0s - loss: 2588.5664 - val_loss: 14115.4639\n",
            "Epoch 40/40\n",
            "219/219 - 0s - loss: 47573.3477 - val_loss: 1153.8036\n"
          ],
          "name": "stdout"
        }
      ]
    },
    {
      "cell_type": "code",
      "metadata": {
        "id": "aiHHQONPX5iG",
        "colab": {
          "base_uri": "https://localhost:8080/"
        },
        "outputId": "06e3ee96-506d-40e1-e689-84a3184ae15c"
      },
      "source": [
        "X_train_series = X_train.values.reshape((X_train.shape[0], X_train.shape[1], 1))\r\n",
        "X_valid_series = X_valid.values.reshape((X_valid.shape[0], X_valid.shape[1], 1))\r\n",
        "print('Train set shape', X_train_series.shape)\r\n",
        "print('Validation set shape', X_valid_series.shape)"
      ],
      "execution_count": 30,
      "outputs": [
        {
          "output_type": "stream",
          "text": [
            "Train set shape (6988, 30, 1)\n",
            "Validation set shape (4660, 30, 1)\n"
          ],
          "name": "stdout"
        }
      ]
    },
    {
      "cell_type": "code",
      "metadata": {
        "id": "ILegV4H2YF8N",
        "colab": {
          "base_uri": "https://localhost:8080/"
        },
        "outputId": "1bb2d696-f259-4574-f654-f50d50b9edd8"
      },
      "source": [
        "model_cnn = Sequential()\r\n",
        "model_cnn.add(Conv1D(filters=64, kernel_size=2, activation='relu', input_shape=(X_train_series.shape[1], X_train_series.shape[2])))\r\n",
        "model_cnn.add(MaxPooling1D(pool_size=2))\r\n",
        "model_cnn.add(Flatten())\r\n",
        "model_cnn.add(Dense(50, activation='relu'))\r\n",
        "model_cnn.add(Dense(1))\r\n",
        "model_cnn.compile(loss='mse', optimizer=adam)\r\n",
        "model_cnn.summary()"
      ],
      "execution_count": 31,
      "outputs": [
        {
          "output_type": "stream",
          "text": [
            "Model: \"sequential_1\"\n",
            "_________________________________________________________________\n",
            "Layer (type)                 Output Shape              Param #   \n",
            "=================================================================\n",
            "conv1d (Conv1D)              (None, 29, 64)            192       \n",
            "_________________________________________________________________\n",
            "max_pooling1d (MaxPooling1D) (None, 14, 64)            0         \n",
            "_________________________________________________________________\n",
            "flatten (Flatten)            (None, 896)               0         \n",
            "_________________________________________________________________\n",
            "dense_2 (Dense)              (None, 50)                44850     \n",
            "_________________________________________________________________\n",
            "dense_3 (Dense)              (None, 1)                 51        \n",
            "=================================================================\n",
            "Total params: 45,093\n",
            "Trainable params: 45,093\n",
            "Non-trainable params: 0\n",
            "_________________________________________________________________\n"
          ],
          "name": "stdout"
        }
      ]
    },
    {
      "cell_type": "code",
      "metadata": {
        "id": "iIYB71rTYKuk",
        "colab": {
          "base_uri": "https://localhost:8080/"
        },
        "outputId": "635a2be5-c014-4a6b-b856-6b58739aa385"
      },
      "source": [
        "cnn_history = model_cnn.fit(X_train_series, Y_train, validation_data=(X_valid_series, Y_valid), epochs=epochs, verbose=2)"
      ],
      "execution_count": 32,
      "outputs": [
        {
          "output_type": "stream",
          "text": [
            "Epoch 1/40\n",
            "219/219 - 1s - loss: 5049909.0000 - val_loss: 2346.4858\n",
            "Epoch 2/40\n",
            "219/219 - 1s - loss: 3475.3135 - val_loss: 2332.5017\n",
            "Epoch 3/40\n",
            "219/219 - 1s - loss: 3410.2969 - val_loss: 2303.2192\n",
            "Epoch 4/40\n",
            "219/219 - 1s - loss: 3351.8142 - val_loss: 2261.0540\n",
            "Epoch 5/40\n",
            "219/219 - 1s - loss: 3603.0818 - val_loss: 2275.7561\n",
            "Epoch 6/40\n",
            "219/219 - 1s - loss: 3475.9170 - val_loss: 2276.2927\n",
            "Epoch 7/40\n",
            "219/219 - 1s - loss: 4188.3398 - val_loss: 2247.1807\n",
            "Epoch 8/40\n",
            "219/219 - 1s - loss: 3183.4119 - val_loss: 2218.8962\n",
            "Epoch 9/40\n",
            "219/219 - 1s - loss: 3120.7295 - val_loss: 2190.1357\n",
            "Epoch 10/40\n",
            "219/219 - 1s - loss: 3470.7415 - val_loss: 2396.5435\n",
            "Epoch 11/40\n",
            "219/219 - 1s - loss: 3465.9788 - val_loss: 2205.5186\n",
            "Epoch 12/40\n",
            "219/219 - 1s - loss: 3087.0166 - val_loss: 2198.0312\n",
            "Epoch 13/40\n",
            "219/219 - 1s - loss: 3012.7183 - val_loss: 2223.6699\n",
            "Epoch 14/40\n",
            "219/219 - 1s - loss: 3013.7327 - val_loss: 2183.4226\n",
            "Epoch 15/40\n",
            "219/219 - 1s - loss: 2984.4600 - val_loss: 2214.1604\n",
            "Epoch 16/40\n",
            "219/219 - 1s - loss: 2930.8210 - val_loss: 2180.4539\n",
            "Epoch 17/40\n",
            "219/219 - 1s - loss: 4499.8096 - val_loss: 2250.9658\n",
            "Epoch 18/40\n",
            "219/219 - 1s - loss: 5051.2651 - val_loss: 60536.4727\n",
            "Epoch 19/40\n",
            "219/219 - 1s - loss: 20382.9785 - val_loss: 3638.2598\n",
            "Epoch 20/40\n",
            "219/219 - 1s - loss: 18668.2949 - val_loss: 69699.2266\n",
            "Epoch 21/40\n",
            "219/219 - 1s - loss: 180274.2969 - val_loss: 2026.0315\n",
            "Epoch 22/40\n",
            "219/219 - 1s - loss: 40388.7852 - val_loss: 2154.0654\n",
            "Epoch 23/40\n",
            "219/219 - 1s - loss: 2641.8176 - val_loss: 1995.8723\n",
            "Epoch 24/40\n",
            "219/219 - 1s - loss: 2650.3384 - val_loss: 1967.6450\n",
            "Epoch 25/40\n",
            "219/219 - 1s - loss: 62863.7031 - val_loss: 1983.6713\n",
            "Epoch 26/40\n",
            "219/219 - 1s - loss: 7157.7773 - val_loss: 2863.7883\n",
            "Epoch 27/40\n",
            "219/219 - 1s - loss: 6311.6113 - val_loss: 2071.4607\n",
            "Epoch 28/40\n",
            "219/219 - 1s - loss: 2537.3555 - val_loss: 2060.9509\n",
            "Epoch 29/40\n",
            "219/219 - 1s - loss: 51851.7656 - val_loss: 2823.6851\n",
            "Epoch 30/40\n",
            "219/219 - 1s - loss: 25388.4922 - val_loss: 197152.8281\n",
            "Epoch 31/40\n",
            "219/219 - 1s - loss: 11372.2275 - val_loss: 1976.7291\n",
            "Epoch 32/40\n",
            "219/219 - 1s - loss: 17654.4629 - val_loss: 479510.4688\n",
            "Epoch 33/40\n",
            "219/219 - 1s - loss: 429635.3125 - val_loss: 2323.1755\n",
            "Epoch 34/40\n",
            "219/219 - 1s - loss: 2472.1428 - val_loss: 2010.7709\n",
            "Epoch 35/40\n",
            "219/219 - 1s - loss: 2392.5920 - val_loss: 2010.2242\n",
            "Epoch 36/40\n",
            "219/219 - 1s - loss: 2350.3442 - val_loss: 2010.5901\n",
            "Epoch 37/40\n",
            "219/219 - 1s - loss: 2390.5989 - val_loss: 1946.4734\n",
            "Epoch 38/40\n",
            "219/219 - 1s - loss: 2319.5886 - val_loss: 2036.2062\n",
            "Epoch 39/40\n",
            "219/219 - 1s - loss: 2453.6934 - val_loss: 2302.6526\n",
            "Epoch 40/40\n",
            "219/219 - 1s - loss: 7206.1260 - val_loss: 3250.3674\n"
          ],
          "name": "stdout"
        }
      ]
    },
    {
      "cell_type": "code",
      "metadata": {
        "id": "n_UftvgbYOZ8",
        "colab": {
          "base_uri": "https://localhost:8080/"
        },
        "outputId": "973f5330-d6bc-4a2d-893f-19a12dbbae48"
      },
      "source": [
        "model_lstm = Sequential()\r\n",
        "model_lstm.add(LSTM(50, activation='relu', input_shape=(X_train_series.shape[1], X_train_series.shape[2])))\r\n",
        "model_lstm.add(Dense(1))\r\n",
        "model_lstm.compile(loss='mse', optimizer=adam)\r\n",
        "model_lstm.summary()"
      ],
      "execution_count": 33,
      "outputs": [
        {
          "output_type": "stream",
          "text": [
            "Model: \"sequential_2\"\n",
            "_________________________________________________________________\n",
            "Layer (type)                 Output Shape              Param #   \n",
            "=================================================================\n",
            "lstm (LSTM)                  (None, 50)                10400     \n",
            "_________________________________________________________________\n",
            "dense_4 (Dense)              (None, 1)                 51        \n",
            "=================================================================\n",
            "Total params: 10,451\n",
            "Trainable params: 10,451\n",
            "Non-trainable params: 0\n",
            "_________________________________________________________________\n"
          ],
          "name": "stdout"
        }
      ]
    },
    {
      "cell_type": "code",
      "metadata": {
        "id": "RoObxkhtYae0",
        "colab": {
          "base_uri": "https://localhost:8080/"
        },
        "outputId": "1de67070-a592-427e-d03f-9b2268b7d784"
      },
      "source": [
        "lstm_history = model_lstm.fit(X_train_series, Y_train, validation_data=(X_valid_series, Y_valid), epochs=epochs, verbose=2)"
      ],
      "execution_count": 34,
      "outputs": [
        {
          "output_type": "stream",
          "text": [
            "Epoch 1/40\n",
            "219/219 - 4s - loss: 43223440.0000 - val_loss: 17849098.0000\n",
            "Epoch 2/40\n",
            "219/219 - 3s - loss: 5150693.0000 - val_loss: 33091.3438\n",
            "Epoch 3/40\n",
            "219/219 - 3s - loss: 17008.7676 - val_loss: 23451.0996\n",
            "Epoch 4/40\n",
            "219/219 - 3s - loss: 22613.6875 - val_loss: 23570.1953\n",
            "Epoch 5/40\n",
            "219/219 - 3s - loss: 15026.1006 - val_loss: 23128.2480\n",
            "Epoch 6/40\n",
            "219/219 - 3s - loss: 15980.7168 - val_loss: 23449.3203\n",
            "Epoch 7/40\n",
            "219/219 - 3s - loss: 2198957.2500 - val_loss: 4617236.5000\n",
            "Epoch 8/40\n",
            "219/219 - 3s - loss: 1836057.7500 - val_loss: 2433691.7500\n",
            "Epoch 9/40\n",
            "219/219 - 3s - loss: 339638.6562 - val_loss: 8868.8604\n",
            "Epoch 10/40\n",
            "219/219 - 3s - loss: 5027.5015 - val_loss: 3232.6248\n",
            "Epoch 11/40\n",
            "219/219 - 3s - loss: 4116.5928 - val_loss: 3236.7063\n",
            "Epoch 12/40\n",
            "219/219 - 3s - loss: 4090.6860 - val_loss: 3022.6462\n",
            "Epoch 13/40\n",
            "219/219 - 3s - loss: 36415.8242 - val_loss: 6435.5034\n",
            "Epoch 14/40\n",
            "219/219 - 3s - loss: 611549.8125 - val_loss: 2604.0471\n",
            "Epoch 15/40\n",
            "219/219 - 3s - loss: 3452.8154 - val_loss: 2591.7549\n",
            "Epoch 16/40\n",
            "219/219 - 3s - loss: 4007998.2500 - val_loss: 12540799.0000\n",
            "Epoch 17/40\n",
            "219/219 - 3s - loss: 11397754.0000 - val_loss: 21731.3105\n",
            "Epoch 18/40\n",
            "219/219 - 3s - loss: 4014375.7500 - val_loss: 7346597.5000\n",
            "Epoch 19/40\n",
            "219/219 - 3s - loss: 7166828.5000 - val_loss: 3639800.2500\n",
            "Epoch 20/40\n",
            "219/219 - 3s - loss: 1943042.6250 - val_loss: 5934227.0000\n",
            "Epoch 21/40\n",
            "219/219 - 3s - loss: 5765413.0000 - val_loss: 990466.6250\n",
            "Epoch 22/40\n",
            "219/219 - 3s - loss: 682329.8125 - val_loss: 340785.1875\n",
            "Epoch 23/40\n",
            "219/219 - 3s - loss: 136873.5156 - val_loss: 41328.8828\n",
            "Epoch 24/40\n",
            "219/219 - 3s - loss: 185626.2969 - val_loss: 538757.0625\n",
            "Epoch 25/40\n",
            "219/219 - 3s - loss: 86670.1406 - val_loss: 10658.1953\n",
            "Epoch 26/40\n",
            "219/219 - 3s - loss: 6413.7734 - val_loss: 3539.2083\n",
            "Epoch 27/40\n",
            "219/219 - 3s - loss: 25023.8945 - val_loss: 32496.7891\n",
            "Epoch 28/40\n",
            "219/219 - 3s - loss: 9624.2852 - val_loss: 3703.0317\n",
            "Epoch 29/40\n",
            "219/219 - 3s - loss: 4080.7488 - val_loss: 4005.0684\n",
            "Epoch 30/40\n",
            "219/219 - 3s - loss: 4594.5269 - val_loss: 4213.6318\n",
            "Epoch 31/40\n",
            "219/219 - 3s - loss: 4396.3140 - val_loss: 4102.3931\n",
            "Epoch 32/40\n",
            "219/219 - 3s - loss: 71175.3750 - val_loss: 63588.1328\n",
            "Epoch 33/40\n",
            "219/219 - 3s - loss: 27899.3906 - val_loss: 12270.7461\n",
            "Epoch 34/40\n",
            "219/219 - 3s - loss: 19572.8320 - val_loss: 5344.3521\n",
            "Epoch 35/40\n",
            "219/219 - 3s - loss: 4738.6816 - val_loss: 3144.2720\n",
            "Epoch 36/40\n",
            "219/219 - 3s - loss: 3065.9922 - val_loss: 3345.1765\n",
            "Epoch 37/40\n",
            "219/219 - 3s - loss: 5489.7217 - val_loss: 7361.6182\n",
            "Epoch 38/40\n",
            "219/219 - 3s - loss: 5566.5459 - val_loss: 3950.2810\n",
            "Epoch 39/40\n",
            "219/219 - 3s - loss: 4408.8472 - val_loss: 4656.8442\n",
            "Epoch 40/40\n",
            "219/219 - 3s - loss: 4495.2354 - val_loss: 4712.6245\n"
          ],
          "name": "stdout"
        }
      ]
    },
    {
      "cell_type": "code",
      "metadata": {
        "id": "thyqR0DXYdUa",
        "colab": {
          "base_uri": "https://localhost:8080/"
        },
        "outputId": "7be72f07-ef62-4c77-be34-a699df0c3807"
      },
      "source": [
        "subsequences = 2\r\n",
        "timesteps = X_train_series.shape[1]//subsequences\r\n",
        "X_train_series_sub = X_train_series.reshape((X_train_series.shape[0], subsequences, timesteps, 1))\r\n",
        "X_valid_series_sub = X_valid_series.reshape((X_valid_series.shape[0], subsequences, timesteps, 1))\r\n",
        "print('Train set shape', X_train_series_sub.shape)\r\n",
        "print('Validation set shape', X_valid_series_sub.shape)"
      ],
      "execution_count": 35,
      "outputs": [
        {
          "output_type": "stream",
          "text": [
            "Train set shape (6988, 2, 15, 1)\n",
            "Validation set shape (4660, 2, 15, 1)\n"
          ],
          "name": "stdout"
        }
      ]
    },
    {
      "cell_type": "code",
      "metadata": {
        "id": "obum7U8rZB8b"
      },
      "source": [
        "model_cnn_lstm = Sequential()\r\n",
        "model_cnn_lstm.add(TimeDistributed(Conv1D(filters=64, kernel_size=1, activation='relu'), input_shape=(None, X_train_series_sub.shape[2], X_train_series_sub.shape[3])))\r\n",
        "model_cnn_lstm.add(TimeDistributed(MaxPooling1D(pool_size=2)))\r\n",
        "model_cnn_lstm.add(TimeDistributed(Flatten()))\r\n",
        "model_cnn_lstm.add(LSTM(50, activation='relu'))\r\n",
        "model_cnn_lstm.add(Dense(1))\r\n",
        "model_cnn_lstm.compile(loss='mse', optimizer=adam)"
      ],
      "execution_count": 36,
      "outputs": []
    },
    {
      "cell_type": "code",
      "metadata": {
        "id": "Fs73bsnsZFWT",
        "colab": {
          "base_uri": "https://localhost:8080/"
        },
        "outputId": "95ecbefa-7fb3-4f58-a55d-b4ea866a89bd"
      },
      "source": [
        "cnn_lstm_history = model_cnn_lstm.fit(X_train_series_sub, Y_train, validation_data=(X_valid_series_sub, Y_valid), epochs=epochs, verbose=2)\r\n"
      ],
      "execution_count": 37,
      "outputs": [
        {
          "output_type": "stream",
          "text": [
            "Epoch 1/40\n",
            "219/219 - 3s - loss: 1092471.7500 - val_loss: 15489.2549\n",
            "Epoch 2/40\n",
            "219/219 - 1s - loss: 20286.2871 - val_loss: 1818.4232\n",
            "Epoch 3/40\n",
            "219/219 - 1s - loss: 102786.4141 - val_loss: 1825.3315\n",
            "Epoch 4/40\n",
            "219/219 - 1s - loss: 3600.6311 - val_loss: 1932.3116\n",
            "Epoch 5/40\n",
            "219/219 - 1s - loss: 3439.9690 - val_loss: 8304.4512\n",
            "Epoch 6/40\n",
            "219/219 - 1s - loss: 7661.9731 - val_loss: 1834.1249\n",
            "Epoch 7/40\n",
            "219/219 - 1s - loss: 2851.7903 - val_loss: 2116.2971\n",
            "Epoch 8/40\n",
            "219/219 - 1s - loss: 2680.7324 - val_loss: 1897.8755\n",
            "Epoch 9/40\n",
            "219/219 - 1s - loss: 2717.7908 - val_loss: 1982.8284\n",
            "Epoch 10/40\n",
            "219/219 - 1s - loss: 5020.6675 - val_loss: 2354.3838\n",
            "Epoch 11/40\n",
            "219/219 - 1s - loss: 190922.0156 - val_loss: 2095.8201\n",
            "Epoch 12/40\n",
            "219/219 - 1s - loss: 2722.7261 - val_loss: 1804.5212\n",
            "Epoch 13/40\n",
            "219/219 - 1s - loss: 2861.0825 - val_loss: 1886.1560\n",
            "Epoch 14/40\n",
            "219/219 - 1s - loss: 102877.6797 - val_loss: 1270018.3750\n",
            "Epoch 15/40\n",
            "219/219 - 1s - loss: 242928.1562 - val_loss: 1596574.7500\n",
            "Epoch 16/40\n",
            "219/219 - 1s - loss: 64632.5352 - val_loss: 1810.0271\n",
            "Epoch 17/40\n",
            "219/219 - 1s - loss: 33641.3086 - val_loss: 32936.4453\n",
            "Epoch 18/40\n",
            "219/219 - 1s - loss: 73760.4688 - val_loss: 2012.9702\n",
            "Epoch 19/40\n",
            "219/219 - 1s - loss: 24018.7402 - val_loss: 8427.2285\n",
            "Epoch 20/40\n",
            "219/219 - 1s - loss: 16488.3203 - val_loss: 49623.3398\n",
            "Epoch 21/40\n",
            "219/219 - 1s - loss: 19372.1055 - val_loss: 1905.7279\n",
            "Epoch 22/40\n",
            "219/219 - 1s - loss: 30618.0566 - val_loss: 23332.2207\n",
            "Epoch 23/40\n",
            "219/219 - 1s - loss: 23999.0117 - val_loss: 9533.6631\n",
            "Epoch 24/40\n",
            "219/219 - 1s - loss: 2881.7126 - val_loss: 1755.8606\n",
            "Epoch 25/40\n",
            "219/219 - 1s - loss: 89904.7344 - val_loss: 6269.7295\n",
            "Epoch 26/40\n",
            "219/219 - 1s - loss: 67863.5625 - val_loss: 684483.5000\n",
            "Epoch 27/40\n",
            "219/219 - 1s - loss: 22135.0605 - val_loss: 1589.2164\n",
            "Epoch 28/40\n",
            "219/219 - 1s - loss: 96997.7891 - val_loss: 9571.9092\n",
            "Epoch 29/40\n",
            "219/219 - 1s - loss: 4531.0610 - val_loss: 1892.9366\n",
            "Epoch 30/40\n",
            "219/219 - 1s - loss: 185974.5312 - val_loss: 2101.4893\n",
            "Epoch 31/40\n",
            "219/219 - 1s - loss: 3504.7759 - val_loss: 1748.7781\n",
            "Epoch 32/40\n",
            "219/219 - 1s - loss: 2675.7244 - val_loss: 1745.4924\n",
            "Epoch 33/40\n",
            "219/219 - 1s - loss: 4869.8330 - val_loss: 1666.0944\n",
            "Epoch 34/40\n",
            "219/219 - 1s - loss: 2612.3062 - val_loss: 1642.0673\n",
            "Epoch 35/40\n",
            "219/219 - 1s - loss: 2833.3916 - val_loss: 1663.9786\n",
            "Epoch 36/40\n",
            "219/219 - 1s - loss: 2729.4700 - val_loss: 1657.9633\n",
            "Epoch 37/40\n",
            "219/219 - 1s - loss: 3455.9382 - val_loss: 1610.5448\n",
            "Epoch 38/40\n",
            "219/219 - 1s - loss: 227849.5781 - val_loss: 2315.2258\n",
            "Epoch 39/40\n",
            "219/219 - 1s - loss: 32069.4004 - val_loss: 2190.6057\n",
            "Epoch 40/40\n",
            "219/219 - 1s - loss: 183746.3438 - val_loss: 9720.9639\n"
          ],
          "name": "stdout"
        }
      ]
    },
    {
      "cell_type": "code",
      "metadata": {
        "id": "Un4VdUkcZJWy",
        "colab": {
          "base_uri": "https://localhost:8080/",
          "height": 730
        },
        "outputId": "63e2d59d-3408-4868-c3a3-fca10f9e4288"
      },
      "source": [
        "fig, axes = plt.subplots(2, 2, sharex=True, sharey=True,figsize=(22,12))\r\n",
        "ax1, ax2 = axes[0]\r\n",
        "ax3, ax4 = axes[1]\r\n",
        "\r\n",
        "ax1.plot(mlp_history.history['loss'], label='Train loss')\r\n",
        "ax1.plot(mlp_history.history['val_loss'], label='Validation loss')\r\n",
        "ax1.legend(loc='best')\r\n",
        "ax1.set_title('MLP')\r\n",
        "ax1.set_xlabel('Epochs')\r\n",
        "ax1.set_ylabel('MSE')\r\n",
        "\r\n",
        "ax2.plot(cnn_history.history['loss'], label='Train loss')\r\n",
        "ax2.plot(cnn_history.history['val_loss'], label='Validation loss')\r\n",
        "ax2.legend(loc='best')\r\n",
        "ax2.set_title('CNN')\r\n",
        "ax2.set_xlabel('Epochs')\r\n",
        "ax2.set_ylabel('MSE')\r\n",
        "\r\n",
        "ax3.plot(lstm_history.history['loss'], label='Train loss')\r\n",
        "ax3.plot(lstm_history.history['val_loss'], label='Validation loss')\r\n",
        "ax3.legend(loc='best')\r\n",
        "ax3.set_title('LSTM')\r\n",
        "ax3.set_xlabel('Epochs')\r\n",
        "ax3.set_ylabel('MSE')\r\n",
        "\r\n",
        "ax4.plot(cnn_lstm_history.history['loss'], label='Train loss')\r\n",
        "ax4.plot(cnn_lstm_history.history['val_loss'], label='Validation loss')\r\n",
        "ax4.legend(loc='best')\r\n",
        "ax4.set_title('CNN-LSTM')\r\n",
        "ax4.set_xlabel('Epochs')\r\n",
        "ax4.set_ylabel('MSE')\r\n",
        "\r\n",
        "plt.show()"
      ],
      "execution_count": 38,
      "outputs": [
        {
          "output_type": "display_data",
          "data": {
            "image/png": "[encoded data removed]",
            "text/plain": [
              "<Figure size 1584x864 with 4 Axes>"
            ]
          },
          "metadata": {
            "tags": [],
            "needs_background": "light"
          }
        }
      ]
    },
    {
      "cell_type": "markdown",
      "metadata": {
        "id": "IhBOoxWbZhxz"
      },
      "source": [
        "MLP on train and validation"
      ]
    },
    {
      "cell_type": "code",
      "metadata": {
        "id": "c7J9YwNRZaLJ",
        "colab": {
          "base_uri": "https://localhost:8080/"
        },
        "outputId": "5c3658fd-a2d7-4595-f843-277e7790180c"
      },
      "source": [
        "mlp_train_pred = model_mlp.predict(X_train.values)\r\n",
        "mlp_valid_pred = model_mlp.predict(X_valid.values)\r\n",
        "print('Train rmse:', np.sqrt(mean_squared_error(Y_train, mlp_train_pred)))\r\n",
        "print('Validation rmse:', np.sqrt(mean_squared_error(Y_valid, mlp_valid_pred)))"
      ],
      "execution_count": 39,
      "outputs": [
        {
          "output_type": "stream",
          "text": [
            "Train rmse: 35.637782257237454\n",
            "Validation rmse: 33.96747439769939\n"
          ],
          "name": "stdout"
        }
      ]
    },
    {
      "cell_type": "markdown",
      "metadata": {
        "id": "J2xv-JENZpjS"
      },
      "source": [
        "CNN on train and validation"
      ]
    },
    {
      "cell_type": "code",
      "metadata": {
        "id": "JWI-a-a6ZlRB",
        "colab": {
          "base_uri": "https://localhost:8080/"
        },
        "outputId": "16694018-d765-4250-b371-87f37ece9d52"
      },
      "source": [
        "cnn_train_pred = model_cnn.predict(X_train_series)\r\n",
        "cnn_valid_pred = model_cnn.predict(X_valid_series)\r\n",
        "print('Train rmse:', np.sqrt(mean_squared_error(Y_train, cnn_train_pred)))\r\n",
        "print('Validation rmse:', np.sqrt(mean_squared_error(Y_valid, cnn_valid_pred)))"
      ],
      "execution_count": 40,
      "outputs": [
        {
          "output_type": "stream",
          "text": [
            "Train rmse: 59.88641230674003\n",
            "Validation rmse: 57.011920803037285\n"
          ],
          "name": "stdout"
        }
      ]
    },
    {
      "cell_type": "markdown",
      "metadata": {
        "id": "jV9jwlu6ZxNh"
      },
      "source": [
        "LSTM on train and validation"
      ]
    },
    {
      "cell_type": "code",
      "metadata": {
        "id": "TLgsmX17Ztjp",
        "colab": {
          "base_uri": "https://localhost:8080/"
        },
        "outputId": "7350f238-793a-4fb0-e0d7-f1f9e86cc076"
      },
      "source": [
        "lstm_train_pred = model_lstm.predict(X_train_series)\r\n",
        "lstm_valid_pred = model_cnn.predict(X_valid_series)\r\n",
        "print('Train rmse:', np.sqrt(mean_squared_error(Y_train, lstm_train_pred)))\r\n",
        "print('Validation rmse:', np.sqrt(mean_squared_error(Y_valid, lstm_valid_pred)))"
      ],
      "execution_count": 41,
      "outputs": [
        {
          "output_type": "stream",
          "text": [
            "Train rmse: 67.47420383221841\n",
            "Validation rmse: 57.011920803037285\n"
          ],
          "name": "stdout"
        }
      ]
    },
    {
      "cell_type": "markdown",
      "metadata": {
        "id": "aJ4FWDQHZ4Mp"
      },
      "source": [
        "CNN-LSTM on train and validation"
      ]
    },
    {
      "cell_type": "code",
      "metadata": {
        "id": "HfG2E2xFZ0XQ",
        "colab": {
          "base_uri": "https://localhost:8080/"
        },
        "outputId": "4382ffe9-4eed-4474-c06e-941cbcec8c36"
      },
      "source": [
        "cnn_lstm_train_pred = model_cnn_lstm.predict(X_train_series_sub)\r\n",
        "cnn_lstm_valid_pred = model_cnn_lstm.predict(X_valid_series_sub)\r\n",
        "print('Train rmse:', np.sqrt(mean_squared_error(Y_train, cnn_lstm_train_pred)))\r\n",
        "print('Validation rmse:', np.sqrt(mean_squared_error(Y_valid, cnn_lstm_valid_pred)))"
      ],
      "execution_count": 42,
      "outputs": [
        {
          "output_type": "stream",
          "text": [
            "Train rmse: 95.63887114493399\n",
            "Validation rmse: 98.59520021289381\n"
          ],
          "name": "stdout"
        }
      ]
    },
    {
      "cell_type": "code",
      "metadata": {
        "id": "7e5Iy61CaEX_"
      },
      "source": [
        "#https://www.kaggle.com/dimitreoliveira/deep-learning-for-time-series-forecasting/notebook"
      ],
      "execution_count": 43,
      "outputs": []
    }
  ]
}