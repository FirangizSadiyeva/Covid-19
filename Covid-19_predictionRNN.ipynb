{
  "nbformat": 4,
  "nbformat_minor": 0,
  "metadata": {
    "colab": {
      "name": "Untitled7.ipynb",
      "provenance": [],
      "authorship_tag": "ABX9TyOJugghAnyTyc/coaYsAdyl",
      "include_colab_link": true
    },
    "kernelspec": {
      "name": "python3",
      "display_name": "Python 3"
    }
  },
  "cells": [
    {
      "cell_type": "markdown",
      "metadata": {
        "id": "view-in-github",
        "colab_type": "text"
      },
      "source": [
        "<a href=\"https://colab.research.google.com/github/FirangizSadiyeva/Covid-19/blob/main/Covid-19_predictionRNN.ipynb\" target=\"_parent\"><img src=\"https://colab.research.google.com/assets/colab-badge.svg\" alt=\"Open In Colab\"/></a>"
      ]
    },
    {
      "cell_type": "code",
      "metadata": {
        "id": "6H7YTSaxw7EH"
      },
      "source": [
        "# -*- coding: utf-8 -*-\r\n",
        "\"\"\"\r\n",
        "Created on January 2021\r\n",
        "@author: FS\r\n",
        "\"\"\"\r\n",
        "import pandas as pd\r\n",
        "import numpy as np\r\n",
        "import itertools\r\n",
        "import seaborn as sns\r\n",
        "import matplotlib.pyplot as plt\r\n",
        "%matplotlib inline\r\n",
        "import plotly.express as px\r\n",
        "import statsmodels.api as sm\r\n",
        "import configparser\r\n",
        "from datetime import timedelta\r\n",
        "from statsmodels.tsa.api import Holt\r\n",
        "from statsmodels.tsa.stattools import adfuller, acf, pacf,arma_order_select_ic\r\n",
        "from statsmodels.graphics.tsaplots import plot_acf, plot_pacf\r\n",
        "from statsmodels.tsa.arima_model import ARIMA\r\n",
        "import warnings\r\n",
        "warnings.simplefilter('ignore')"
      ],
      "execution_count": 131,
      "outputs": []
    },
    {
      "cell_type": "code",
      "metadata": {
        "id": "Y-FYDGRxxY4D"
      },
      "source": [
        "corona_confirmed_df = pd.read_csv('https://raw.githubusercontent.com/CSSEGISandData/COVID-19/master/csse_covid_19_data/csse_covid_19_time_series/time_series_covid19_confirmed_global.csv')\r\n",
        "corona_deaths_df = pd.read_csv('https://raw.githubusercontent.com/CSSEGISandData/COVID-19/master/csse_covid_19_data/csse_covid_19_time_series/time_series_covid19_deaths_global.csv')\r\n",
        "corona_recovered_df = pd.read_csv('https://raw.githubusercontent.com/CSSEGISandData/COVID-19/master/csse_covid_19_data/csse_covid_19_time_series/time_series_covid19_recovered_global.csv')\r\n",
        "#corona_confirmed_df.head()"
      ],
      "execution_count": 132,
      "outputs": []
    },
    {
      "cell_type": "code",
      "metadata": {
        "id": "lrhEl_VVxjUS"
      },
      "source": [
        "corona_confirmed_df=corona_confirmed_df.melt(id_vars=['Province/State','Country/Region','Lat','Long'])\r\n",
        "corona_confirmed_df=corona_confirmed_df.rename({'variable':'Date','value':'confirmed'}, axis='columns')"
      ],
      "execution_count": 133,
      "outputs": []
    },
    {
      "cell_type": "code",
      "metadata": {
        "id": "8Is27nrXzd-1"
      },
      "source": [
        "corona_deaths_df=corona_deaths_df.melt(id_vars=['Province/State','Country/Region','Lat','Long'])\r\n",
        "corona_deaths_df=corona_deaths_df.rename({'variable':'Date','value':'deaths'}, axis='columns')"
      ],
      "execution_count": 134,
      "outputs": []
    },
    {
      "cell_type": "code",
      "metadata": {
        "id": "O1NgXkxdziy0"
      },
      "source": [
        "corona_recovered_df=corona_recovered_df.melt(id_vars=['Province/State','Country/Region','Lat','Long'])\r\n",
        "corona_recovered_df=corona_recovered_df.rename({'variable':'Date','value':'recovered'}, axis='columns')"
      ],
      "execution_count": 135,
      "outputs": []
    },
    {
      "cell_type": "code",
      "metadata": {
        "id": "inbv1XJ7znQD"
      },
      "source": [
        "combined_df = [corona_confirmed_df, corona_deaths_df, corona_recovered_df]\r\n",
        "combined_df = [df.set_index(['Province/State','Country/Region','Lat','Long','Date']) for df in combined_df]\r\n",
        "combined_df=combined_df[0].join(combined_df[1:])"
      ],
      "execution_count": 136,
      "outputs": []
    },
    {
      "cell_type": "code",
      "metadata": {
        "id": "AhrQuTk9ztrb"
      },
      "source": [
        "combined_df=combined_df.reset_index()"
      ],
      "execution_count": 137,
      "outputs": []
    },
    {
      "cell_type": "code",
      "metadata": {
        "id": "9ae4IiiSzwvj"
      },
      "source": [
        "combined_df[['Date']] = combined_df[['Date']].apply(pd.to_datetime)\r\n",
        "combined_df[['confirmed']] = combined_df[['confirmed']].apply(np.int64)\r\n",
        "combined_df[['deaths']] = combined_df[['deaths']].apply(np.int64)\r\n",
        "combined_df[['recovered']] = combined_df[['recovered']].apply(np.int64)"
      ],
      "execution_count": 138,
      "outputs": []
    },
    {
      "cell_type": "code",
      "metadata": {
        "id": "MJ4a8yYkz3wX"
      },
      "source": [
        "combined_df=combined_df.rename({'Province/State':'State','Country/Region':'Country'}, axis ='columns')"
      ],
      "execution_count": 139,
      "outputs": []
    },
    {
      "cell_type": "code",
      "metadata": {
        "id": "NIc1GFUAz89K"
      },
      "source": [
        "combined_df.drop([\"State\"],1,inplace=True)\r\n",
        "combined_df.drop([\"Lat\"],1,inplace=True)\r\n",
        "combined_df.drop([\"Long\"],1,inplace=True)"
      ],
      "execution_count": 140,
      "outputs": []
    },
    {
      "cell_type": "code",
      "metadata": {
        "colab": {
          "base_uri": "https://localhost:8080/"
        },
        "id": "LZWoUaEM0CCB",
        "outputId": "5a7ee782-e16a-4708-b1e3-8574600c325e"
      },
      "source": [
        "print(\"Size/Shape of the dataset\",combined_df.shape)\r\n",
        "print(\"Checking for null values\",combined_df.isnull().sum())\r\n",
        "print(\"Checking Data-type\", combined_df.dtypes)"
      ],
      "execution_count": 141,
      "outputs": [
        {
          "output_type": "stream",
          "text": [
            "Size/Shape of the dataset (101010, 5)\n",
            "Checking for null values Country      0\n",
            "Date         0\n",
            "confirmed    0\n",
            "deaths       0\n",
            "recovered    0\n",
            "dtype: int64\n",
            "Checking Data-type Country              object\n",
            "Date         datetime64[ns]\n",
            "confirmed             int64\n",
            "deaths                int64\n",
            "recovered             int64\n",
            "dtype: object\n"
          ],
          "name": "stdout"
        }
      ]
    },
    {
      "cell_type": "code",
      "metadata": {
        "colab": {
          "base_uri": "https://localhost:8080/"
        },
        "id": "CtWyC1ZG0H0F",
        "outputId": "09c8c702-f138-42ed-c09c-6e46a9fcabf1"
      },
      "source": [
        "combined_df.isnull().sum()"
      ],
      "execution_count": 142,
      "outputs": [
        {
          "output_type": "execute_result",
          "data": {
            "text/plain": [
              "Country      0\n",
              "Date         0\n",
              "confirmed    0\n",
              "deaths       0\n",
              "recovered    0\n",
              "dtype: int64"
            ]
          },
          "metadata": {
            "tags": []
          },
          "execution_count": 142
        }
      ]
    },
    {
      "cell_type": "code",
      "metadata": {
        "id": "6WlzkJFk0L0j"
      },
      "source": [
        "def pltCountry_cases_1(confirmed,*argv):\r\n",
        "    f, ax=plt.subplots(figsize=(16,5))\r\n",
        "    labels=argv\r\n",
        "    for a in argv: \r\n",
        "        country=combined_df.loc[(combined_df['Country']==a)]\r\n",
        "        plt.plot(country['Date'],country['confirmed'],linewidth=3)\r\n",
        "        plt.xticks(rotation=40)\r\n",
        "        plt.legend(labels)\r\n",
        "        ax.set(title='Evolution of the number of confirmed_cases' )"
      ],
      "execution_count": 143,
      "outputs": []
    },
    {
      "cell_type": "code",
      "metadata": {
        "id": "q5S2KS8e05LQ"
      },
      "source": [
        "\r\n",
        "def pltCountry_cases_2(recovered,*argv):\r\n",
        "    f, ax=plt.subplots(figsize=(16,5))\r\n",
        "    labels=argv\r\n",
        "    for a in argv: \r\n",
        "        country=combined_df.loc[(combined_df['Country']==a)]\r\n",
        "        plt.plot(country['Date'],country['recovered'],linewidth=3)\r\n",
        "        plt.xticks(rotation=40)\r\n",
        "        plt.legend(labels)\r\n",
        "        ax.set(title='Evolution of the number of recovered_cases' )"
      ],
      "execution_count": 144,
      "outputs": []
    },
    {
      "cell_type": "code",
      "metadata": {
        "id": "TDNPmG2T05_m"
      },
      "source": [
        "def pltCountry_cases_3(deaths,*argv):\r\n",
        "    f, ax=plt.subplots(figsize=(16,5))\r\n",
        "    labels=argv\r\n",
        "    for a in argv: \r\n",
        "        country=combined_df.loc[(combined_df['Country']==a)]\r\n",
        "        plt.plot(country['Date'],country['deaths'],linewidth=3)\r\n",
        "        plt.xticks(rotation=40)\r\n",
        "        plt.legend(labels)\r\n",
        "        ax.set(title='Evolution of the number of deaths_cases' )"
      ],
      "execution_count": 145,
      "outputs": []
    },
    {
      "cell_type": "code",
      "metadata": {
        "colab": {
          "base_uri": "https://localhost:8080/",
          "height": 360
        },
        "id": "o4NyJbW008-s",
        "outputId": "42d99a6f-2276-47b1-d2bb-5fd97608c11d"
      },
      "source": [
        "pltCountry_cases_1('confirmed','Azerbaijan')"
      ],
      "execution_count": 146,
      "outputs": [
        {
          "output_type": "display_data",
          "data": {
            "image/png": "[encoded data removed]",
            "text/plain": [
              "<Figure size 1152x360 with 1 Axes>"
            ]
          },
          "metadata": {
            "tags": [],
            "needs_background": "light"
          }
        }
      ]
    },
    {
      "cell_type": "code",
      "metadata": {
        "colab": {
          "base_uri": "https://localhost:8080/",
          "height": 360
        },
        "id": "Y6Lc6xER1AZp",
        "outputId": "43a624d8-4cb1-447c-f669-aca53393642f"
      },
      "source": [
        "pltCountry_cases_2('recovered','Azerbaijan')"
      ],
      "execution_count": 147,
      "outputs": [
        {
          "output_type": "display_data",
          "data": {
            "image/png": "[encoded data removed]",
            "text/plain": [
              "<Figure size 1152x360 with 1 Axes>"
            ]
          },
          "metadata": {
            "tags": [],
            "needs_background": "light"
          }
        }
      ]
    },
    {
      "cell_type": "code",
      "metadata": {
        "colab": {
          "base_uri": "https://localhost:8080/",
          "height": 360
        },
        "id": "CC-SMbm71DQ3",
        "outputId": "0b943ac5-e32d-4cd6-c7eb-25e1c4ac158d"
      },
      "source": [
        "pltCountry_cases_3('deaths','Azerbaijan')"
      ],
      "execution_count": 148,
      "outputs": [
        {
          "output_type": "display_data",
          "data": {
            "image/png": "[encoded data removed]",
            "text/plain": [
              "<Figure size 1152x360 with 1 Axes>"
            ]
          },
          "metadata": {
            "tags": [],
            "needs_background": "light"
          }
        }
      ]
    },
    {
      "cell_type": "markdown",
      "metadata": {
        "id": "b7_tGmtt1Jk7"
      },
      "source": [
        "For Azerbaijan"
      ]
    },
    {
      "cell_type": "code",
      "metadata": {
        "id": "gUsCnFbJ1yd0"
      },
      "source": [
        "import math\r\n",
        "import matplotlib.pyplot as plt\r\n",
        "import keras\r\n",
        "import pandas as pd\r\n",
        "import numpy as np\r\n",
        "from keras.models import Sequential\r\n",
        "from keras.layers import Dense\r\n",
        "from keras.layers import LSTM\r\n",
        "from keras.layers import Dropout\r\n",
        "from keras.layers import *\r\n",
        "from sklearn.preprocessing import MinMaxScaler\r\n",
        "from sklearn.metrics import mean_squared_error\r\n",
        "from sklearn.metrics import mean_absolute_error\r\n",
        "from sklearn.model_selection import train_test_split\r\n",
        "from keras.callbacks import EarlyStopping"
      ],
      "execution_count": 149,
      "outputs": []
    },
    {
      "cell_type": "code",
      "metadata": {
        "colab": {
          "base_uri": "https://localhost:8080/",
          "height": 416
        },
        "id": "QjfpUqGw1Lrk",
        "outputId": "4f20f677-bfd1-45f4-d290-9bb2ff1d13a5"
      },
      "source": [
        "combined_df= combined_df[combined_df['Country']=='Azerbaijan']\r\n",
        "combined_df"
      ],
      "execution_count": 150,
      "outputs": [
        {
          "output_type": "execute_result",
          "data": {
            "text/html": [
              "<div>\n",
              "<style scoped>\n",
              "    .dataframe tbody tr th:only-of-type {\n",
              "        vertical-align: middle;\n",
              "    }\n",
              "\n",
              "    .dataframe tbody tr th {\n",
              "        vertical-align: top;\n",
              "    }\n",
              "\n",
              "    .dataframe thead th {\n",
              "        text-align: right;\n",
              "    }\n",
              "</style>\n",
              "<table border=\"1\" class=\"dataframe\">\n",
              "  <thead>\n",
              "    <tr style=\"text-align: right;\">\n",
              "      <th></th>\n",
              "      <th>Country</th>\n",
              "      <th>Date</th>\n",
              "      <th>confirmed</th>\n",
              "      <th>deaths</th>\n",
              "      <th>recovered</th>\n",
              "    </tr>\n",
              "  </thead>\n",
              "  <tbody>\n",
              "    <tr>\n",
              "      <th>17</th>\n",
              "      <td>Azerbaijan</td>\n",
              "      <td>2020-01-22</td>\n",
              "      <td>0</td>\n",
              "      <td>0</td>\n",
              "      <td>0</td>\n",
              "    </tr>\n",
              "    <tr>\n",
              "      <th>290</th>\n",
              "      <td>Azerbaijan</td>\n",
              "      <td>2020-01-23</td>\n",
              "      <td>0</td>\n",
              "      <td>0</td>\n",
              "      <td>0</td>\n",
              "    </tr>\n",
              "    <tr>\n",
              "      <th>563</th>\n",
              "      <td>Azerbaijan</td>\n",
              "      <td>2020-01-24</td>\n",
              "      <td>0</td>\n",
              "      <td>0</td>\n",
              "      <td>0</td>\n",
              "    </tr>\n",
              "    <tr>\n",
              "      <th>836</th>\n",
              "      <td>Azerbaijan</td>\n",
              "      <td>2020-01-25</td>\n",
              "      <td>0</td>\n",
              "      <td>0</td>\n",
              "      <td>0</td>\n",
              "    </tr>\n",
              "    <tr>\n",
              "      <th>1109</th>\n",
              "      <td>Azerbaijan</td>\n",
              "      <td>2020-01-26</td>\n",
              "      <td>0</td>\n",
              "      <td>0</td>\n",
              "      <td>0</td>\n",
              "    </tr>\n",
              "    <tr>\n",
              "      <th>...</th>\n",
              "      <td>...</td>\n",
              "      <td>...</td>\n",
              "      <td>...</td>\n",
              "      <td>...</td>\n",
              "      <td>...</td>\n",
              "    </tr>\n",
              "    <tr>\n",
              "      <th>99662</th>\n",
              "      <td>Azerbaijan</td>\n",
              "      <td>2021-01-21</td>\n",
              "      <td>228246</td>\n",
              "      <td>3053</td>\n",
              "      <td>218387</td>\n",
              "    </tr>\n",
              "    <tr>\n",
              "      <th>99935</th>\n",
              "      <td>Azerbaijan</td>\n",
              "      <td>2021-01-22</td>\n",
              "      <td>228526</td>\n",
              "      <td>3064</td>\n",
              "      <td>219019</td>\n",
              "    </tr>\n",
              "    <tr>\n",
              "      <th>100208</th>\n",
              "      <td>Azerbaijan</td>\n",
              "      <td>2021-01-23</td>\n",
              "      <td>228688</td>\n",
              "      <td>3072</td>\n",
              "      <td>219724</td>\n",
              "    </tr>\n",
              "    <tr>\n",
              "      <th>100481</th>\n",
              "      <td>Azerbaijan</td>\n",
              "      <td>2021-01-24</td>\n",
              "      <td>228975</td>\n",
              "      <td>3082</td>\n",
              "      <td>220292</td>\n",
              "    </tr>\n",
              "    <tr>\n",
              "      <th>100754</th>\n",
              "      <td>Azerbaijan</td>\n",
              "      <td>2021-01-25</td>\n",
              "      <td>229032</td>\n",
              "      <td>3093</td>\n",
              "      <td>220565</td>\n",
              "    </tr>\n",
              "  </tbody>\n",
              "</table>\n",
              "<p>370 rows × 5 columns</p>\n",
              "</div>"
            ],
            "text/plain": [
              "           Country       Date  confirmed  deaths  recovered\n",
              "17      Azerbaijan 2020-01-22          0       0          0\n",
              "290     Azerbaijan 2020-01-23          0       0          0\n",
              "563     Azerbaijan 2020-01-24          0       0          0\n",
              "836     Azerbaijan 2020-01-25          0       0          0\n",
              "1109    Azerbaijan 2020-01-26          0       0          0\n",
              "...            ...        ...        ...     ...        ...\n",
              "99662   Azerbaijan 2021-01-21     228246    3053     218387\n",
              "99935   Azerbaijan 2021-01-22     228526    3064     219019\n",
              "100208  Azerbaijan 2021-01-23     228688    3072     219724\n",
              "100481  Azerbaijan 2021-01-24     228975    3082     220292\n",
              "100754  Azerbaijan 2021-01-25     229032    3093     220565\n",
              "\n",
              "[370 rows x 5 columns]"
            ]
          },
          "metadata": {
            "tags": []
          },
          "execution_count": 150
        }
      ]
    },
    {
      "cell_type": "code",
      "metadata": {
        "colab": {
          "base_uri": "https://localhost:8080/",
          "height": 416
        },
        "id": "8jH4kAnm1Ovb",
        "outputId": "69371e68-4241-4771-f64c-ad1916355cdd"
      },
      "source": [
        "combined_df.drop([\"Country\"],1,inplace=True)\r\n",
        "combined_df"
      ],
      "execution_count": 151,
      "outputs": [
        {
          "output_type": "execute_result",
          "data": {
            "text/html": [
              "<div>\n",
              "<style scoped>\n",
              "    .dataframe tbody tr th:only-of-type {\n",
              "        vertical-align: middle;\n",
              "    }\n",
              "\n",
              "    .dataframe tbody tr th {\n",
              "        vertical-align: top;\n",
              "    }\n",
              "\n",
              "    .dataframe thead th {\n",
              "        text-align: right;\n",
              "    }\n",
              "</style>\n",
              "<table border=\"1\" class=\"dataframe\">\n",
              "  <thead>\n",
              "    <tr style=\"text-align: right;\">\n",
              "      <th></th>\n",
              "      <th>Date</th>\n",
              "      <th>confirmed</th>\n",
              "      <th>deaths</th>\n",
              "      <th>recovered</th>\n",
              "    </tr>\n",
              "  </thead>\n",
              "  <tbody>\n",
              "    <tr>\n",
              "      <th>17</th>\n",
              "      <td>2020-01-22</td>\n",
              "      <td>0</td>\n",
              "      <td>0</td>\n",
              "      <td>0</td>\n",
              "    </tr>\n",
              "    <tr>\n",
              "      <th>290</th>\n",
              "      <td>2020-01-23</td>\n",
              "      <td>0</td>\n",
              "      <td>0</td>\n",
              "      <td>0</td>\n",
              "    </tr>\n",
              "    <tr>\n",
              "      <th>563</th>\n",
              "      <td>2020-01-24</td>\n",
              "      <td>0</td>\n",
              "      <td>0</td>\n",
              "      <td>0</td>\n",
              "    </tr>\n",
              "    <tr>\n",
              "      <th>836</th>\n",
              "      <td>2020-01-25</td>\n",
              "      <td>0</td>\n",
              "      <td>0</td>\n",
              "      <td>0</td>\n",
              "    </tr>\n",
              "    <tr>\n",
              "      <th>1109</th>\n",
              "      <td>2020-01-26</td>\n",
              "      <td>0</td>\n",
              "      <td>0</td>\n",
              "      <td>0</td>\n",
              "    </tr>\n",
              "    <tr>\n",
              "      <th>...</th>\n",
              "      <td>...</td>\n",
              "      <td>...</td>\n",
              "      <td>...</td>\n",
              "      <td>...</td>\n",
              "    </tr>\n",
              "    <tr>\n",
              "      <th>99662</th>\n",
              "      <td>2021-01-21</td>\n",
              "      <td>228246</td>\n",
              "      <td>3053</td>\n",
              "      <td>218387</td>\n",
              "    </tr>\n",
              "    <tr>\n",
              "      <th>99935</th>\n",
              "      <td>2021-01-22</td>\n",
              "      <td>228526</td>\n",
              "      <td>3064</td>\n",
              "      <td>219019</td>\n",
              "    </tr>\n",
              "    <tr>\n",
              "      <th>100208</th>\n",
              "      <td>2021-01-23</td>\n",
              "      <td>228688</td>\n",
              "      <td>3072</td>\n",
              "      <td>219724</td>\n",
              "    </tr>\n",
              "    <tr>\n",
              "      <th>100481</th>\n",
              "      <td>2021-01-24</td>\n",
              "      <td>228975</td>\n",
              "      <td>3082</td>\n",
              "      <td>220292</td>\n",
              "    </tr>\n",
              "    <tr>\n",
              "      <th>100754</th>\n",
              "      <td>2021-01-25</td>\n",
              "      <td>229032</td>\n",
              "      <td>3093</td>\n",
              "      <td>220565</td>\n",
              "    </tr>\n",
              "  </tbody>\n",
              "</table>\n",
              "<p>370 rows × 4 columns</p>\n",
              "</div>"
            ],
            "text/plain": [
              "             Date  confirmed  deaths  recovered\n",
              "17     2020-01-22          0       0          0\n",
              "290    2020-01-23          0       0          0\n",
              "563    2020-01-24          0       0          0\n",
              "836    2020-01-25          0       0          0\n",
              "1109   2020-01-26          0       0          0\n",
              "...           ...        ...     ...        ...\n",
              "99662  2021-01-21     228246    3053     218387\n",
              "99935  2021-01-22     228526    3064     219019\n",
              "100208 2021-01-23     228688    3072     219724\n",
              "100481 2021-01-24     228975    3082     220292\n",
              "100754 2021-01-25     229032    3093     220565\n",
              "\n",
              "[370 rows x 4 columns]"
            ]
          },
          "metadata": {
            "tags": []
          },
          "execution_count": 151
        }
      ]
    },
    {
      "cell_type": "code",
      "metadata": {
        "id": "5N3e5czf1hbe"
      },
      "source": [
        "# Importing the training set\r\n",
        "from sklearn.model_selection import train_test_split\r\n",
        "train, test = train_test_split(combined_df, test_size=0.2, random_state=42, shuffle=True)"
      ],
      "execution_count": 152,
      "outputs": []
    },
    {
      "cell_type": "code",
      "metadata": {
        "colab": {
          "base_uri": "https://localhost:8080/",
          "height": 416
        },
        "id": "ZGAlU3QQ86MP",
        "outputId": "939b95da-25ba-4b45-ed75-07ebc1cd6638"
      },
      "source": [
        "train"
      ],
      "execution_count": 153,
      "outputs": [
        {
          "output_type": "execute_result",
          "data": {
            "text/html": [
              "<div>\n",
              "<style scoped>\n",
              "    .dataframe tbody tr th:only-of-type {\n",
              "        vertical-align: middle;\n",
              "    }\n",
              "\n",
              "    .dataframe tbody tr th {\n",
              "        vertical-align: top;\n",
              "    }\n",
              "\n",
              "    .dataframe thead th {\n",
              "        text-align: right;\n",
              "    }\n",
              "</style>\n",
              "<table border=\"1\" class=\"dataframe\">\n",
              "  <thead>\n",
              "    <tr style=\"text-align: right;\">\n",
              "      <th></th>\n",
              "      <th>Date</th>\n",
              "      <th>confirmed</th>\n",
              "      <th>deaths</th>\n",
              "      <th>recovered</th>\n",
              "    </tr>\n",
              "  </thead>\n",
              "  <tbody>\n",
              "    <tr>\n",
              "      <th>94202</th>\n",
              "      <td>2021-01-01</td>\n",
              "      <td>219041</td>\n",
              "      <td>2670</td>\n",
              "      <td>188280</td>\n",
              "    </tr>\n",
              "    <tr>\n",
              "      <th>52433</th>\n",
              "      <td>2020-08-01</td>\n",
              "      <td>32157</td>\n",
              "      <td>454</td>\n",
              "      <td>26474</td>\n",
              "    </tr>\n",
              "    <tr>\n",
              "      <th>20492</th>\n",
              "      <td>2020-04-06</td>\n",
              "      <td>641</td>\n",
              "      <td>7</td>\n",
              "      <td>44</td>\n",
              "    </tr>\n",
              "    <tr>\n",
              "      <th>22949</th>\n",
              "      <td>2020-04-15</td>\n",
              "      <td>1253</td>\n",
              "      <td>13</td>\n",
              "      <td>404</td>\n",
              "    </tr>\n",
              "    <tr>\n",
              "      <th>97751</th>\n",
              "      <td>2021-01-14</td>\n",
              "      <td>226200</td>\n",
              "      <td>2971</td>\n",
              "      <td>213279</td>\n",
              "    </tr>\n",
              "    <tr>\n",
              "      <th>...</th>\n",
              "      <td>...</td>\n",
              "      <td>...</td>\n",
              "      <td>...</td>\n",
              "      <td>...</td>\n",
              "    </tr>\n",
              "    <tr>\n",
              "      <th>19400</th>\n",
              "      <td>2020-04-02</td>\n",
              "      <td>400</td>\n",
              "      <td>5</td>\n",
              "      <td>26</td>\n",
              "    </tr>\n",
              "    <tr>\n",
              "      <th>28955</th>\n",
              "      <td>2020-05-07</td>\n",
              "      <td>2204</td>\n",
              "      <td>28</td>\n",
              "      <td>1551</td>\n",
              "    </tr>\n",
              "    <tr>\n",
              "      <th>73727</th>\n",
              "      <td>2020-10-18</td>\n",
              "      <td>44964</td>\n",
              "      <td>626</td>\n",
              "      <td>40037</td>\n",
              "    </tr>\n",
              "    <tr>\n",
              "      <th>95021</th>\n",
              "      <td>2021-01-04</td>\n",
              "      <td>220599</td>\n",
              "      <td>2761</td>\n",
              "      <td>196734</td>\n",
              "    </tr>\n",
              "    <tr>\n",
              "      <th>27863</th>\n",
              "      <td>2020-05-03</td>\n",
              "      <td>1932</td>\n",
              "      <td>25</td>\n",
              "      <td>1441</td>\n",
              "    </tr>\n",
              "  </tbody>\n",
              "</table>\n",
              "<p>296 rows × 4 columns</p>\n",
              "</div>"
            ],
            "text/plain": [
              "            Date  confirmed  deaths  recovered\n",
              "94202 2021-01-01     219041    2670     188280\n",
              "52433 2020-08-01      32157     454      26474\n",
              "20492 2020-04-06        641       7         44\n",
              "22949 2020-04-15       1253      13        404\n",
              "97751 2021-01-14     226200    2971     213279\n",
              "...          ...        ...     ...        ...\n",
              "19400 2020-04-02        400       5         26\n",
              "28955 2020-05-07       2204      28       1551\n",
              "73727 2020-10-18      44964     626      40037\n",
              "95021 2021-01-04     220599    2761     196734\n",
              "27863 2020-05-03       1932      25       1441\n",
              "\n",
              "[296 rows x 4 columns]"
            ]
          },
          "metadata": {
            "tags": []
          },
          "execution_count": 153
        }
      ]
    },
    {
      "cell_type": "code",
      "metadata": {
        "colab": {
          "base_uri": "https://localhost:8080/",
          "height": 416
        },
        "id": "QRyd3V3O91g3",
        "outputId": "28b7e4c0-4d33-481b-f2e5-bcd4db401cde"
      },
      "source": [
        "test"
      ],
      "execution_count": 154,
      "outputs": [
        {
          "output_type": "execute_result",
          "data": {
            "text/html": [
              "<div>\n",
              "<style scoped>\n",
              "    .dataframe tbody tr th:only-of-type {\n",
              "        vertical-align: middle;\n",
              "    }\n",
              "\n",
              "    .dataframe tbody tr th {\n",
              "        vertical-align: top;\n",
              "    }\n",
              "\n",
              "    .dataframe thead th {\n",
              "        text-align: right;\n",
              "    }\n",
              "</style>\n",
              "<table border=\"1\" class=\"dataframe\">\n",
              "  <thead>\n",
              "    <tr style=\"text-align: right;\">\n",
              "      <th></th>\n",
              "      <th>Date</th>\n",
              "      <th>confirmed</th>\n",
              "      <th>deaths</th>\n",
              "      <th>recovered</th>\n",
              "    </tr>\n",
              "  </thead>\n",
              "  <tbody>\n",
              "    <tr>\n",
              "      <th>89288</th>\n",
              "      <td>2020-12-14</td>\n",
              "      <td>178986</td>\n",
              "      <td>1966</td>\n",
              "      <td>114841</td>\n",
              "    </tr>\n",
              "    <tr>\n",
              "      <th>9026</th>\n",
              "      <td>2020-02-24</td>\n",
              "      <td>0</td>\n",
              "      <td>0</td>\n",
              "      <td>0</td>\n",
              "    </tr>\n",
              "    <tr>\n",
              "      <th>4112</th>\n",
              "      <td>2020-02-06</td>\n",
              "      <td>0</td>\n",
              "      <td>0</td>\n",
              "      <td>0</td>\n",
              "    </tr>\n",
              "    <tr>\n",
              "      <th>85739</th>\n",
              "      <td>2020-12-01</td>\n",
              "      <td>125602</td>\n",
              "      <td>1433</td>\n",
              "      <td>76897</td>\n",
              "    </tr>\n",
              "    <tr>\n",
              "      <th>15578</th>\n",
              "      <td>2020-03-19</td>\n",
              "      <td>44</td>\n",
              "      <td>1</td>\n",
              "      <td>6</td>\n",
              "    </tr>\n",
              "    <tr>\n",
              "      <th>...</th>\n",
              "      <td>...</td>\n",
              "      <td>...</td>\n",
              "      <td>...</td>\n",
              "      <td>...</td>\n",
              "    </tr>\n",
              "    <tr>\n",
              "      <th>22403</th>\n",
              "      <td>2020-04-13</td>\n",
              "      <td>1148</td>\n",
              "      <td>12</td>\n",
              "      <td>289</td>\n",
              "    </tr>\n",
              "    <tr>\n",
              "      <th>25679</th>\n",
              "      <td>2020-04-25</td>\n",
              "      <td>1617</td>\n",
              "      <td>21</td>\n",
              "      <td>1080</td>\n",
              "    </tr>\n",
              "    <tr>\n",
              "      <th>53252</th>\n",
              "      <td>2020-08-04</td>\n",
              "      <td>32910</td>\n",
              "      <td>473</td>\n",
              "      <td>28348</td>\n",
              "    </tr>\n",
              "    <tr>\n",
              "      <th>84920</th>\n",
              "      <td>2020-11-28</td>\n",
              "      <td>114025</td>\n",
              "      <td>1323</td>\n",
              "      <td>71691</td>\n",
              "    </tr>\n",
              "    <tr>\n",
              "      <th>79733</th>\n",
              "      <td>2020-11-09</td>\n",
              "      <td>66046</td>\n",
              "      <td>852</td>\n",
              "      <td>49411</td>\n",
              "    </tr>\n",
              "  </tbody>\n",
              "</table>\n",
              "<p>74 rows × 4 columns</p>\n",
              "</div>"
            ],
            "text/plain": [
              "            Date  confirmed  deaths  recovered\n",
              "89288 2020-12-14     178986    1966     114841\n",
              "9026  2020-02-24          0       0          0\n",
              "4112  2020-02-06          0       0          0\n",
              "85739 2020-12-01     125602    1433      76897\n",
              "15578 2020-03-19         44       1          6\n",
              "...          ...        ...     ...        ...\n",
              "22403 2020-04-13       1148      12        289\n",
              "25679 2020-04-25       1617      21       1080\n",
              "53252 2020-08-04      32910     473      28348\n",
              "84920 2020-11-28     114025    1323      71691\n",
              "79733 2020-11-09      66046     852      49411\n",
              "\n",
              "[74 rows x 4 columns]"
            ]
          },
          "metadata": {
            "tags": []
          },
          "execution_count": 154
        }
      ]
    },
    {
      "cell_type": "code",
      "metadata": {
        "colab": {
          "base_uri": "https://localhost:8080/"
        },
        "id": "mRUOYbSp93Sp",
        "outputId": "379f13a7-0ce9-4765-c148-071f6cdf42eb"
      },
      "source": [
        "training_set = train.iloc[:, 1:2].values\r\n",
        "training_set"
      ],
      "execution_count": 155,
      "outputs": [
        {
          "output_type": "execute_result",
          "data": {
            "text/plain": [
              "array([[219041],\n",
              "       [ 32157],\n",
              "       [   641],\n",
              "       [  1253],\n",
              "       [226200],\n",
              "       [     0],\n",
              "       [   182],\n",
              "       [ 55269],\n",
              "       [     0],\n",
              "       [  2879],\n",
              "       [  3274],\n",
              "       [183259],\n",
              "       [162774],\n",
              "       [ 47418],\n",
              "       [ 19267],\n",
              "       [  2589],\n",
              "       [228975],\n",
              "       [    65],\n",
              "       [ 15890],\n",
              "       [154152],\n",
              "       [ 36435],\n",
              "       [ 37192],\n",
              "       [  8882],\n",
              "       [     0],\n",
              "       [ 39686],\n",
              "       [     0],\n",
              "       [ 33731],\n",
              "       [171423],\n",
              "       [227273],\n",
              "       [ 40931],\n",
              "       [  8530],\n",
              "       [220265],\n",
              "       [ 38172],\n",
              "       [228246],\n",
              "       [ 81397],\n",
              "       [202088],\n",
              "       [ 45295],\n",
              "       [ 24041],\n",
              "       [ 33103],\n",
              "       [     0],\n",
              "       [224651],\n",
              "       [   991],\n",
              "       [ 21374],\n",
              "       [     0],\n",
              "       [ 33376],\n",
              "       [  2060],\n",
              "       [ 57040],\n",
              "       [  3518],\n",
              "       [222200],\n",
              "       [     0],\n",
              "       [     0],\n",
              "       [ 16424],\n",
              "       [ 28980],\n",
              "       [ 21916],\n",
              "       [ 83994],\n",
              "       [  8191],\n",
              "       [208211],\n",
              "       [ 25672],\n",
              "       [    53],\n",
              "       [  2693],\n",
              "       [ 11329],\n",
              "       [     0],\n",
              "       [ 45879],\n",
              "       [ 40309],\n",
              "       [     0],\n",
              "       [ 38658],\n",
              "       [  1984],\n",
              "       [  1098],\n",
              "       [ 28633],\n",
              "       [ 42381],\n",
              "       [ 36578],\n",
              "       [ 71580],\n",
              "       [223417],\n",
              "       [142323],\n",
              "       [ 10991],\n",
              "       [ 33824],\n",
              "       [  1548],\n",
              "       [   298],\n",
              "       [218700],\n",
              "       [  1678],\n",
              "       [  9570],\n",
              "       [ 53152],\n",
              "       [  1717],\n",
              "       [133733],\n",
              "       [   273],\n",
              "       [     0],\n",
              "       [     0],\n",
              "       [  9957],\n",
              "       [  3982],\n",
              "       [   209],\n",
              "       [ 20324],\n",
              "       [224050],\n",
              "       [ 68594],\n",
              "       [ 24570],\n",
              "       [  4403],\n",
              "       [ 10662],\n",
              "       [ 34620],\n",
              "       [  1340],\n",
              "       [118195],\n",
              "       [ 28242],\n",
              "       [219462],\n",
              "       [ 26636],\n",
              "       [ 52137],\n",
              "       [228028],\n",
              "       [ 41752],\n",
              "       [ 63748],\n",
              "       [ 41519],\n",
              "       [  5246],\n",
              "       [     0],\n",
              "       [     0],\n",
              "       [ 39524],\n",
              "       [ 29633],\n",
              "       [ 89898],\n",
              "       [  2758],\n",
              "       [ 27521],\n",
              "       [ 39378],\n",
              "       [ 37874],\n",
              "       [  3387],\n",
              "       [215483],\n",
              "       [225346],\n",
              "       [ 42750],\n",
              "       [205877],\n",
              "       [ 19801],\n",
              "       [ 36732],\n",
              "       [  7239],\n",
              "       [ 14305],\n",
              "       [ 33481],\n",
              "       [ 33247],\n",
              "       [227391],\n",
              "       [     0],\n",
              "       [ 65411],\n",
              "       [  3138],\n",
              "       [ 34474],\n",
              "       [ 34759],\n",
              "       [     0],\n",
              "       [  3749],\n",
              "       [ 56444],\n",
              "       [ 43789],\n",
              "       [199127],\n",
              "       [  4759],\n",
              "       [   584],\n",
              "       [ 77083],\n",
              "       [     0],\n",
              "       [  1197],\n",
              "       [226549],\n",
              "       [  2279],\n",
              "       [ 39188],\n",
              "       [158555],\n",
              "       [  6260],\n",
              "       [ 29312],\n",
              "       [ 87163],\n",
              "       [     6],\n",
              "       [214711],\n",
              "       [   165],\n",
              "       [ 48221],\n",
              "       [  1283],\n",
              "       [ 30050],\n",
              "       [   359],\n",
              "       [ 16968],\n",
              "       [     0],\n",
              "       [     0],\n",
              "       [     0],\n",
              "       [ 22990],\n",
              "       [  9218],\n",
              "       [ 75688],\n",
              "       [ 39787],\n",
              "       [ 12238],\n",
              "       [ 37329],\n",
              "       [ 36309],\n",
              "       [  5662],\n",
              "       [ 39895],\n",
              "       [    15],\n",
              "       [ 38894],\n",
              "       [ 49959],\n",
              "       [  1645],\n",
              "       [ 54174],\n",
              "       [ 27133],\n",
              "       [ 33915],\n",
              "       [  4122],\n",
              "       [     3],\n",
              "       [  1436],\n",
              "       [ 59509],\n",
              "       [ 34107],\n",
              "       [ 40453],\n",
              "       [ 98927],\n",
              "       [     0],\n",
              "       [ 40691],\n",
              "       [195422],\n",
              "       [  1854],\n",
              "       [ 37031],\n",
              "       [138000],\n",
              "       [ 35105],\n",
              "       [ 23521],\n",
              "       [  1766],\n",
              "       [ 35426],\n",
              "       [    72],\n",
              "       [     9],\n",
              "       [     0],\n",
              "       [ 43280],\n",
              "       [ 33568],\n",
              "       [187336],\n",
              "       [     0],\n",
              "       [ 62338],\n",
              "       [ 37557],\n",
              "       [ 41304],\n",
              "       [ 18684],\n",
              "       [167155],\n",
              "       [  7876],\n",
              "       [    87],\n",
              "       [  6860],\n",
              "       [  4989],\n",
              "       [     0],\n",
              "       [   122],\n",
              "       [     0],\n",
              "       [ 15369],\n",
              "       [     3],\n",
              "       [213192],\n",
              "       [ 79158],\n",
              "       [ 35559],\n",
              "       [ 51149],\n",
              "       [149765],\n",
              "       [ 38403],\n",
              "       [ 34219],\n",
              "       [ 34921],\n",
              "       [ 70216],\n",
              "       [210061],\n",
              "       [ 40119],\n",
              "       [226951],\n",
              "       [211764],\n",
              "       [ 44317],\n",
              "       [ 33647],\n",
              "       [ 18112],\n",
              "       [     6],\n",
              "       [ 35707],\n",
              "       [ 31560],\n",
              "       [106101],\n",
              "       [ 41113],\n",
              "       [  2127],\n",
              "       [    23],\n",
              "       [     0],\n",
              "       [    11],\n",
              "       [  1058],\n",
              "       [ 34018],\n",
              "       [     0],\n",
              "       [ 41982],\n",
              "       [  1518],\n",
              "       [    15],\n",
              "       [ 42104],\n",
              "       [ 39042],\n",
              "       [     0],\n",
              "       [129544],\n",
              "       [  1398],\n",
              "       [ 46593],\n",
              "       [ 20837],\n",
              "       [227696],\n",
              "       [  6522],\n",
              "       [ 95281],\n",
              "       [224827],\n",
              "       [146679],\n",
              "       [ 39280],\n",
              "       [    28],\n",
              "       [    11],\n",
              "       [ 25113],\n",
              "       [ 31221],\n",
              "       [228688],\n",
              "       [ 30446],\n",
              "       [ 22464],\n",
              "       [    44],\n",
              "       [    11],\n",
              "       [ 38327],\n",
              "       [ 40229],\n",
              "       [     0],\n",
              "       [121176],\n",
              "       [ 17524],\n",
              "       [ 49013],\n",
              "       [ 31878],\n",
              "       [ 67392],\n",
              "       [217636],\n",
              "       [ 40788],\n",
              "       [102396],\n",
              "       [ 11767],\n",
              "       [  5494],\n",
              "       [ 12729],\n",
              "       [  1804],\n",
              "       [  1373],\n",
              "       [191460],\n",
              "       [ 35274],\n",
              "       [  3855],\n",
              "       [229032],\n",
              "       [     0],\n",
              "       [ 30858],\n",
              "       [   400],\n",
              "       [  2204],\n",
              "       [ 44964],\n",
              "       [220599],\n",
              "       [  1932]])"
            ]
          },
          "metadata": {
            "tags": []
          },
          "execution_count": 155
        }
      ]
    },
    {
      "cell_type": "code",
      "metadata": {
        "id": "lmob5hg6-UY0"
      },
      "source": [
        "# Feature Scaling\r\n",
        "from sklearn.preprocessing import MinMaxScaler\r\n",
        "sc = MinMaxScaler(feature_range = (0, 1))\r\n",
        "training_set_scaled = sc.fit_transform(training_set)"
      ],
      "execution_count": 156,
      "outputs": []
    },
    {
      "cell_type": "code",
      "metadata": {
        "id": "r8UVSzV6_MMV"
      },
      "source": [
        "# Creating a data structure\r\n",
        "X_train = []\r\n",
        "y_train = []\r\n",
        "for i in range(80, 290):\r\n",
        "    X_train.append(training_set_scaled[i-80:i, 0])\r\n",
        "    y_train.append(training_set_scaled[i, 0])\r\n",
        "X_train, y_train = np.array(X_train), np.array(y_train)"
      ],
      "execution_count": 157,
      "outputs": []
    },
    {
      "cell_type": "code",
      "metadata": {
        "id": "fdKLdqKcAY8L"
      },
      "source": [
        "# Reshaping\r\n",
        "X_train = np.reshape(X_train, (X_train.shape[0], X_train.shape[1], 1))"
      ],
      "execution_count": 158,
      "outputs": []
    },
    {
      "cell_type": "code",
      "metadata": {
        "id": "geuO9sY0Acgr"
      },
      "source": [
        "# Part 2 - Building the RNN\r\n",
        "\r\n",
        "# Importing the Keras libraries and packages\r\n",
        "from keras.models import Sequential\r\n",
        "from keras.layers import Dense\r\n",
        "from keras.layers import LSTM\r\n",
        "from keras.layers import Dropout"
      ],
      "execution_count": 159,
      "outputs": []
    },
    {
      "cell_type": "code",
      "metadata": {
        "id": "OBxj9H4mAhyB"
      },
      "source": [
        "# Initialising the RNN\r\n",
        "regressor = Sequential()"
      ],
      "execution_count": 160,
      "outputs": []
    },
    {
      "cell_type": "code",
      "metadata": {
        "id": "gYXo3lTAAk6i"
      },
      "source": [
        "# Adding the first LSTM layer and some Dropout regularisation\r\n",
        "regressor.add(LSTM(units = 45, return_sequences = True, input_shape = (X_train.shape[1], 1)))\r\n",
        "regressor.add(Dropout(0.2))"
      ],
      "execution_count": 161,
      "outputs": []
    },
    {
      "cell_type": "code",
      "metadata": {
        "id": "yWNNuF2YAoWN"
      },
      "source": [
        "# Adding a second LSTM layer nd some Dropout regularisation\r\n",
        "regressor.add(LSTM(units = 45, return_sequences = True))\r\n",
        "regressor.add(Dropout(0.2))"
      ],
      "execution_count": 162,
      "outputs": []
    },
    {
      "cell_type": "code",
      "metadata": {
        "id": "3ngaPWUqAsOo"
      },
      "source": [
        "# Adding a third LSTM layer and some Dropout regularisation\r\n",
        "regressor.add(LSTM(units = 45, return_sequences = True))\r\n",
        "regressor.add(Dropout(0.2))"
      ],
      "execution_count": 163,
      "outputs": []
    },
    {
      "cell_type": "code",
      "metadata": {
        "id": "CWHbPvyhAzPx"
      },
      "source": [
        "# Adding a fourth LSTM layer and some Dropout regularisation\r\n",
        "regressor.add(LSTM(units = 45))\r\n",
        "regressor.add(Dropout(0.2))"
      ],
      "execution_count": 164,
      "outputs": []
    },
    {
      "cell_type": "code",
      "metadata": {
        "id": "3lZPrULhA2bw"
      },
      "source": [
        "# Adding the output layer\r\n",
        "regressor.add(Dense(units = 1))"
      ],
      "execution_count": 165,
      "outputs": []
    },
    {
      "cell_type": "code",
      "metadata": {
        "id": "zS62HNA2A6Fl"
      },
      "source": [
        "# Compiling the RNN\r\n",
        "regressor.compile(optimizer = 'adam', loss = 'mean_squared_error')"
      ],
      "execution_count": 166,
      "outputs": []
    },
    {
      "cell_type": "code",
      "metadata": {
        "colab": {
          "base_uri": "https://localhost:8080/"
        },
        "id": "j2Rxn9dRA9W1",
        "outputId": "0e0284c9-fce4-45d8-f079-71b945957c47"
      },
      "source": [
        "# Fitting the RNN to the Training set\r\n",
        "regressor.fit(X_train, y_train, epochs = 80 , batch_size = 32)"
      ],
      "execution_count": 167,
      "outputs": [
        {
          "output_type": "stream",
          "text": [
            "Epoch 1/80\n",
            "7/7 [==============================] - 7s 130ms/step - loss: 0.1023\n",
            "Epoch 2/80\n",
            "7/7 [==============================] - 1s 143ms/step - loss: 0.0855\n",
            "Epoch 3/80\n",
            "7/7 [==============================] - 1s 141ms/step - loss: 0.0940\n",
            "Epoch 4/80\n",
            "7/7 [==============================] - 1s 140ms/step - loss: 0.0838\n",
            "Epoch 5/80\n",
            "7/7 [==============================] - 1s 136ms/step - loss: 0.0802\n",
            "Epoch 6/80\n",
            "7/7 [==============================] - 1s 136ms/step - loss: 0.0785\n",
            "Epoch 7/80\n",
            "7/7 [==============================] - 1s 143ms/step - loss: 0.0815\n",
            "Epoch 8/80\n",
            "7/7 [==============================] - 1s 138ms/step - loss: 0.0846\n",
            "Epoch 9/80\n",
            "7/7 [==============================] - 1s 149ms/step - loss: 0.0839\n",
            "Epoch 10/80\n",
            "7/7 [==============================] - 1s 139ms/step - loss: 0.0940\n",
            "Epoch 11/80\n",
            "7/7 [==============================] - 1s 136ms/step - loss: 0.0744\n",
            "Epoch 12/80\n",
            "7/7 [==============================] - 1s 140ms/step - loss: 0.0931\n",
            "Epoch 13/80\n",
            "7/7 [==============================] - 1s 137ms/step - loss: 0.0714\n",
            "Epoch 14/80\n",
            "7/7 [==============================] - 1s 137ms/step - loss: 0.0798\n",
            "Epoch 15/80\n",
            "7/7 [==============================] - 1s 140ms/step - loss: 0.0746\n",
            "Epoch 16/80\n",
            "7/7 [==============================] - 1s 137ms/step - loss: 0.0816\n",
            "Epoch 17/80\n",
            "7/7 [==============================] - 1s 138ms/step - loss: 0.0785\n",
            "Epoch 18/80\n",
            "7/7 [==============================] - 1s 144ms/step - loss: 0.0813\n",
            "Epoch 19/80\n",
            "7/7 [==============================] - 1s 143ms/step - loss: 0.0900\n",
            "Epoch 20/80\n",
            "7/7 [==============================] - 1s 142ms/step - loss: 0.0943\n",
            "Epoch 21/80\n",
            "7/7 [==============================] - 1s 141ms/step - loss: 0.0831\n",
            "Epoch 22/80\n",
            "7/7 [==============================] - 1s 140ms/step - loss: 0.0898\n",
            "Epoch 23/80\n",
            "7/7 [==============================] - 1s 143ms/step - loss: 0.0896\n",
            "Epoch 24/80\n",
            "7/7 [==============================] - 1s 137ms/step - loss: 0.0963\n",
            "Epoch 25/80\n",
            "7/7 [==============================] - 1s 138ms/step - loss: 0.0784\n",
            "Epoch 26/80\n",
            "7/7 [==============================] - 1s 138ms/step - loss: 0.0774\n",
            "Epoch 27/80\n",
            "7/7 [==============================] - 1s 141ms/step - loss: 0.0715\n",
            "Epoch 28/80\n",
            "7/7 [==============================] - 1s 136ms/step - loss: 0.0899\n",
            "Epoch 29/80\n",
            "7/7 [==============================] - 1s 140ms/step - loss: 0.0801\n",
            "Epoch 30/80\n",
            "7/7 [==============================] - 1s 141ms/step - loss: 0.0850\n",
            "Epoch 31/80\n",
            "7/7 [==============================] - 1s 146ms/step - loss: 0.0852\n",
            "Epoch 32/80\n",
            "7/7 [==============================] - 1s 143ms/step - loss: 0.0800\n",
            "Epoch 33/80\n",
            "7/7 [==============================] - 1s 141ms/step - loss: 0.0862\n",
            "Epoch 34/80\n",
            "7/7 [==============================] - 1s 145ms/step - loss: 0.0790\n",
            "Epoch 35/80\n",
            "7/7 [==============================] - 1s 139ms/step - loss: 0.0678\n",
            "Epoch 36/80\n",
            "7/7 [==============================] - 1s 144ms/step - loss: 0.0874\n",
            "Epoch 37/80\n",
            "7/7 [==============================] - 1s 141ms/step - loss: 0.0778\n",
            "Epoch 38/80\n",
            "7/7 [==============================] - 1s 145ms/step - loss: 0.0796\n",
            "Epoch 39/80\n",
            "7/7 [==============================] - 1s 145ms/step - loss: 0.0754\n",
            "Epoch 40/80\n",
            "7/7 [==============================] - 1s 139ms/step - loss: 0.0892\n",
            "Epoch 41/80\n",
            "7/7 [==============================] - 1s 144ms/step - loss: 0.0788\n",
            "Epoch 42/80\n",
            "7/7 [==============================] - 1s 141ms/step - loss: 0.0825\n",
            "Epoch 43/80\n",
            "7/7 [==============================] - 1s 140ms/step - loss: 0.0720\n",
            "Epoch 44/80\n",
            "7/7 [==============================] - 1s 141ms/step - loss: 0.0791\n",
            "Epoch 45/80\n",
            "7/7 [==============================] - 1s 138ms/step - loss: 0.0970\n",
            "Epoch 46/80\n",
            "7/7 [==============================] - 1s 144ms/step - loss: 0.0879\n",
            "Epoch 47/80\n",
            "7/7 [==============================] - 1s 139ms/step - loss: 0.0978\n",
            "Epoch 48/80\n",
            "7/7 [==============================] - 1s 140ms/step - loss: 0.0880\n",
            "Epoch 49/80\n",
            "7/7 [==============================] - 1s 141ms/step - loss: 0.0796\n",
            "Epoch 50/80\n",
            "7/7 [==============================] - 1s 138ms/step - loss: 0.0706\n",
            "Epoch 51/80\n",
            "7/7 [==============================] - 1s 143ms/step - loss: 0.0780\n",
            "Epoch 52/80\n",
            "7/7 [==============================] - 1s 143ms/step - loss: 0.0856\n",
            "Epoch 53/80\n",
            "7/7 [==============================] - 1s 143ms/step - loss: 0.0719\n",
            "Epoch 54/80\n",
            "7/7 [==============================] - 1s 145ms/step - loss: 0.0812\n",
            "Epoch 55/80\n",
            "7/7 [==============================] - 1s 148ms/step - loss: 0.0821\n",
            "Epoch 56/80\n",
            "7/7 [==============================] - 1s 142ms/step - loss: 0.0706\n",
            "Epoch 57/80\n",
            "7/7 [==============================] - 1s 140ms/step - loss: 0.0744\n",
            "Epoch 58/80\n",
            "7/7 [==============================] - 1s 152ms/step - loss: 0.0712\n",
            "Epoch 59/80\n",
            "7/7 [==============================] - 1s 140ms/step - loss: 0.0876\n",
            "Epoch 60/80\n",
            "7/7 [==============================] - 1s 140ms/step - loss: 0.0725\n",
            "Epoch 61/80\n",
            "7/7 [==============================] - 1s 143ms/step - loss: 0.0973\n",
            "Epoch 62/80\n",
            "7/7 [==============================] - 1s 140ms/step - loss: 0.0792\n",
            "Epoch 63/80\n",
            "7/7 [==============================] - 1s 140ms/step - loss: 0.0812\n",
            "Epoch 64/80\n",
            "7/7 [==============================] - 1s 142ms/step - loss: 0.0934\n",
            "Epoch 65/80\n",
            "7/7 [==============================] - 1s 146ms/step - loss: 0.0998\n",
            "Epoch 66/80\n",
            "7/7 [==============================] - 1s 142ms/step - loss: 0.0769\n",
            "Epoch 67/80\n",
            "7/7 [==============================] - 1s 139ms/step - loss: 0.0812\n",
            "Epoch 68/80\n",
            "7/7 [==============================] - 1s 141ms/step - loss: 0.0826\n",
            "Epoch 69/80\n",
            "7/7 [==============================] - 1s 146ms/step - loss: 0.0843\n",
            "Epoch 70/80\n",
            "7/7 [==============================] - 1s 138ms/step - loss: 0.0767\n",
            "Epoch 71/80\n",
            "7/7 [==============================] - 1s 143ms/step - loss: 0.0815\n",
            "Epoch 72/80\n",
            "7/7 [==============================] - 1s 139ms/step - loss: 0.0722\n",
            "Epoch 73/80\n",
            "7/7 [==============================] - 1s 139ms/step - loss: 0.0826\n",
            "Epoch 74/80\n",
            "7/7 [==============================] - 1s 139ms/step - loss: 0.0815\n",
            "Epoch 75/80\n",
            "7/7 [==============================] - 1s 143ms/step - loss: 0.0740\n",
            "Epoch 76/80\n",
            "7/7 [==============================] - 1s 144ms/step - loss: 0.0694\n",
            "Epoch 77/80\n",
            "7/7 [==============================] - 1s 140ms/step - loss: 0.0875\n",
            "Epoch 78/80\n",
            "7/7 [==============================] - 1s 141ms/step - loss: 0.0821\n",
            "Epoch 79/80\n",
            "7/7 [==============================] - 1s 144ms/step - loss: 0.0821\n",
            "Epoch 80/80\n",
            "7/7 [==============================] - 1s 145ms/step - loss: 0.0773\n"
          ],
          "name": "stdout"
        },
        {
          "output_type": "execute_result",
          "data": {
            "text/plain": [
              "<tensorflow.python.keras.callbacks.History at 0x7f0fb6923160>"
            ]
          },
          "metadata": {
            "tags": []
          },
          "execution_count": 167
        }
      ]
    },
    {
      "cell_type": "code",
      "metadata": {
        "id": "rSyWBFQWBAaI"
      },
      "source": [
        "# Part 3 - Making the predictions \r\n",
        "\r\n",
        "# Getting the real data\r\n",
        "real_confirmed_rate = test.iloc[:, 4:5].values"
      ],
      "execution_count": 168,
      "outputs": []
    },
    {
      "cell_type": "code",
      "metadata": {
        "id": "xFgGmMVmBmt4"
      },
      "source": [
        "# Getting the predicted data\r\n",
        "dataset_total = pd.concat((train['confirmed'], test['confirmed']), axis = 0)\r\n",
        "inputs = dataset_total[len(dataset_total) - len(test) - 80:].values\r\n",
        "inputs = inputs.reshape(-1,1)\r\n",
        "inputs = sc.transform(inputs)\r\n",
        "X_test = []\r\n",
        "for i in range(80, 154):\r\n",
        "    X_test.append(inputs[i-80:i, 0])\r\n",
        "X_test = np.array(X_test)\r\n",
        "X_test = np.reshape(X_test, (X_test.shape[0], X_test.shape[1], 1))\r\n",
        "predicted_confirmed_rate = regressor.predict(X_test)\r\n",
        "predicted_confirmed_rate = sc.inverse_transform(predicted_confirmed_rate)"
      ],
      "execution_count": 179,
      "outputs": []
    },
    {
      "cell_type": "code",
      "metadata": {
        "id": "naZcHlsvDOVi"
      },
      "source": [
        "train.to_csv(r'Az1.csv')\r\n",
        "test.to_csv(r'Az2.csv')"
      ],
      "execution_count": 180,
      "outputs": []
    },
    {
      "cell_type": "code",
      "metadata": {
        "id": "XMeOrCz4CXjW"
      },
      "source": [
        "# Part 4 - Visualising the results\r\n",
        "\r\n",
        "# Making structure for visualising\r\n",
        "\r\n",
        "df_old = pd.read_csv('Az1.csv', usecols = ['Date', 'confirmed'])\r\n",
        "df_pred = pd.read_csv('Az2.csv', usecols = ['Date'])\r\n",
        "df_pred['confirmed'] = predicted_confirmed_rate\r\n",
        "frames = [df_old, df_pred]\r\n",
        "df_result = pd.concat(frames)\r\n",
        "\r\n",
        "copy = df_result\r\n",
        "copy = copy.drop('Date', axis=1)\r\n",
        "copy_df_date = df_result\r\n",
        "copy_df_date = copy_df_date.drop('confirmed', axis=1)"
      ],
      "execution_count": 182,
      "outputs": []
    },
    {
      "cell_type": "code",
      "metadata": {
        "colab": {
          "base_uri": "https://localhost:8080/",
          "height": 296
        },
        "id": "63x-R3KBDs3Y",
        "outputId": "bc282305-e75a-4339-8143-4525d968d1b2"
      },
      "source": [
        "# Visualizing predicted Data\r\n",
        "datelist2 = list(copy_df_date.iloc[:, 0].values)\r\n",
        "copy['Date'] = datelist2 \r\n",
        "copy = copy.set_index(['Date'])\r\n",
        "copy.plot()"
      ],
      "execution_count": 183,
      "outputs": [
        {
          "output_type": "execute_result",
          "data": {
            "text/plain": [
              "<matplotlib.axes._subplots.AxesSubplot at 0x7f0fb0a20978>"
            ]
          },
          "metadata": {
            "tags": []
          },
          "execution_count": 183
        },
        {
          "output_type": "display_data",
          "data": {
            "image/png": "[encoded data removed]",
            "text/plain": [
              "<Figure size 432x288 with 1 Axes>"
            ]
          },
          "metadata": {
            "tags": [],
            "needs_background": "light"
          }
        }
      ]
    },
    {
      "cell_type": "code",
      "metadata": {
        "colab": {
          "base_uri": "https://localhost:8080/",
          "height": 296
        },
        "id": "PUZ14knqGDY2",
        "outputId": "42dfdb7e-5d4a-4678-aec2-815669c28aa6"
      },
      "source": [
        "dates = list(test.iloc[:, 0].values)\r\n",
        "df_3 = pd.DataFrame(predicted_confirmed_rate)\r\n",
        "df_4 = dates\r\n",
        "df_3['Date'] = df_4\r\n",
        "df_3 = df_3.set_index(['Date'])\r\n",
        "df_54 = copy[:111].copy(deep = True)\r\n",
        "df_54.plot()"
      ],
      "execution_count": 185,
      "outputs": [
        {
          "output_type": "execute_result",
          "data": {
            "text/plain": [
              "<matplotlib.axes._subplots.AxesSubplot at 0x7f0fb0e10dd8>"
            ]
          },
          "metadata": {
            "tags": []
          },
          "execution_count": 185
        },
        {
          "output_type": "display_data",
          "data": {
            "image/png": "[encoded data removed]",
            "text/plain": [
              "<Figure size 432x288 with 1 Axes>"
            ]
          },
          "metadata": {
            "tags": [],
            "needs_background": "light"
          }
        }
      ]
    },
    {
      "cell_type": "code",
      "metadata": {
        "colab": {
          "base_uri": "https://localhost:8080/",
          "height": 311
        },
        "id": "mtj_BoQCGNYa",
        "outputId": "537dcf59-0334-4afa-f8a2-087579ba12c4"
      },
      "source": [
        "#visualization of future forecast/prediction\r\n",
        "plt.plot(df_54, color = 'blue', label = 'Real Covid19 Confirmed Case')\r\n",
        "plt.plot(copy, color = 'red', label = 'Predicted Covid19 Confirmed Case', alpha = 0.4)\r\n",
        "plt.title('Azerbaijan Covid19 Daywise Confirm Prediction')\r\n",
        "plt.xticks(rotation=60)\r\n",
        "plt.gca().xaxis.set_major_locator(plt.MultipleLocator(3))\r\n",
        "plt.tight_layout()\r\n",
        "plt.xlabel('Days')\r\n",
        "plt.ylabel('Cases')\r\n",
        "plt.legend()\r\n",
        "plt.show()"
      ],
      "execution_count": 186,
      "outputs": [
        {
          "output_type": "display_data",
          "data": {
            "image/png": "[encoded data removed]",
            "text/plain": [
              "<Figure size 432x288 with 1 Axes>"
            ]
          },
          "metadata": {
            "tags": [],
            "needs_background": "light"
          }
        }
      ]
    },
    {
      "cell_type": "code",
      "metadata": {
        "id": "dVqwM_gNGYSz"
      },
      "source": [
        ""
      ],
      "execution_count": null,
      "outputs": []
    }
  ]
}