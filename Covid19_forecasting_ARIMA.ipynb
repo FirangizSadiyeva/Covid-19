{
 "cells": [
  {
   "cell_type": "code",
   "execution_count": null,
   "metadata": {
    "colab": {
     "base_uri": "https://localhost:8080/",
     "height": 71
    },
    "colab_type": "code",
    "id": "0-rMNlu4adiJ",
    "outputId": "1537f330-80b2-4011-f5cc-f56b685dd087"
   },
   "outputs": [],
   "source": [
    "import pandas as pd\n",
    "import numpy as np\n",
    "import itertools\n",
    "import seaborn as sns\n",
    "import matplotlib.pyplot as plt\n",
    "%matplotlib inline\n",
    "import plotly.express as px\n",
    "import statsmodels.api as sm\n",
    "import configparser\n",
    "from datetime import timedelta\n",
    "from statsmodels.tsa.api import Holt\n",
    "from statsmodels.tsa.stattools import adfuller, acf, pacf,arma_order_select_ic\n",
    "from statsmodels.graphics.tsaplots import plot_acf, plot_pacf\n",
    "from statsmodels.tsa.arima_model import ARIMA\n",
    "import warnings\n",
    "warnings.simplefilter('ignore')"
   ]
  },
  {
   "cell_type": "code",
   "execution_count": null,
   "metadata": {
    "colab": {},
    "colab_type": "code",
    "id": "-0eqp-PabO6k"
   },
   "outputs": [],
   "source": [
    "corona_confirmed_df = pd.read_csv('https://raw.githubusercontent.com/CSSEGISandData/COVID-19/master/csse_covid_19_data/csse_covid_19_time_series/time_series_covid19_confirmed_global.csv')"
   ]
  },
  {
   "cell_type": "code",
   "execution_count": null,
   "metadata": {
    "colab": {
     "base_uri": "https://localhost:8080/",
     "height": 253
    },
    "colab_type": "code",
    "id": "-2S47UGwdEHi",
    "outputId": "ae5e099c-21ac-45c7-a96c-cd271881e854"
   },
   "outputs": [],
   "source": [
    "corona_confirmed_df.head()"
   ]
  },
  {
   "cell_type": "code",
   "execution_count": null,
   "metadata": {
    "colab": {
     "base_uri": "https://localhost:8080/",
     "height": 102
    },
    "colab_type": "code",
    "id": "Yb6AW56Zdnoo",
    "outputId": "6658ace8-6392-4154-aa45-8b6e994b53e8"
   },
   "outputs": [],
   "source": [
    "corona_confirmed_df.info()"
   ]
  },
  {
   "cell_type": "code",
   "execution_count": null,
   "metadata": {
    "colab": {},
    "colab_type": "code",
    "id": "EyPLxOu0ksTe"
   },
   "outputs": [],
   "source": [
    "corona_deaths_df = pd.read_csv('https://raw.githubusercontent.com/CSSEGISandData/COVID-19/master/csse_covid_19_data/csse_covid_19_time_series/time_series_covid19_deaths_global.csv')"
   ]
  },
  {
   "cell_type": "code",
   "execution_count": null,
   "metadata": {
    "colab": {
     "base_uri": "https://localhost:8080/",
     "height": 253
    },
    "colab_type": "code",
    "id": "lJVORi5ylhu2",
    "outputId": "3ae6f10a-ce87-4d0a-fedb-0c66469e37c4"
   },
   "outputs": [],
   "source": [
    "corona_deaths_df.head()"
   ]
  },
  {
   "cell_type": "code",
   "execution_count": null,
   "metadata": {
    "colab": {
     "base_uri": "https://localhost:8080/",
     "height": 102
    },
    "colab_type": "code",
    "id": "JgvvlgNdlqwy",
    "outputId": "3df62bcf-9058-4de3-b227-8b08e4f4bd08"
   },
   "outputs": [],
   "source": [
    "corona_deaths_df.info()"
   ]
  },
  {
   "cell_type": "code",
   "execution_count": null,
   "metadata": {
    "colab": {},
    "colab_type": "code",
    "id": "PSbdujkBl-1X"
   },
   "outputs": [],
   "source": [
    "corona_recovered_df = pd.read_csv('https://raw.githubusercontent.com/CSSEGISandData/COVID-19/master/csse_covid_19_data/csse_covid_19_time_series/time_series_covid19_recovered_global.csv')"
   ]
  },
  {
   "cell_type": "code",
   "execution_count": null,
   "metadata": {
    "colab": {
     "base_uri": "https://localhost:8080/",
     "height": 253
    },
    "colab_type": "code",
    "id": "4i4lbsKImd_A",
    "outputId": "7c2bb743-f992-47c8-af03-03992314f220"
   },
   "outputs": [],
   "source": [
    "corona_recovered_df.head()"
   ]
  },
  {
   "cell_type": "code",
   "execution_count": null,
   "metadata": {
    "colab": {
     "base_uri": "https://localhost:8080/",
     "height": 102
    },
    "colab_type": "code",
    "id": "LuJq6jYImhbu",
    "outputId": "2f256d56-c1b2-4018-b0ca-b95ef29b3062"
   },
   "outputs": [],
   "source": [
    "corona_recovered_df.info()"
   ]
  },
  {
   "cell_type": "code",
   "execution_count": null,
   "metadata": {
    "colab": {},
    "colab_type": "code",
    "id": "4wBsVZ5AmkaI"
   },
   "outputs": [],
   "source": [
    "corona_confirmed_df=corona_confirmed_df.melt(id_vars=['Province/State','Country/Region','Lat','Long'])"
   ]
  },
  {
   "cell_type": "code",
   "execution_count": null,
   "metadata": {
    "colab": {
     "base_uri": "https://localhost:8080/",
     "height": 204
    },
    "colab_type": "code",
    "id": "YN2FQUA4ptYt",
    "outputId": "a01b17ed-10b8-4ada-e17e-02e7ad5474e2"
   },
   "outputs": [],
   "source": [
    "corona_confirmed_df.head()"
   ]
  },
  {
   "cell_type": "code",
   "execution_count": null,
   "metadata": {
    "colab": {},
    "colab_type": "code",
    "id": "ABs95l0Dp_2A"
   },
   "outputs": [],
   "source": [
    "corona_confirmed_df=corona_confirmed_df.rename({'variable':'Date','value':'confirmed'}, axis='columns')"
   ]
  },
  {
   "cell_type": "code",
   "execution_count": null,
   "metadata": {
    "colab": {
     "base_uri": "https://localhost:8080/",
     "height": 204
    },
    "colab_type": "code",
    "id": "Q1aP46pYqrIz",
    "outputId": "440fcefa-37a0-4df0-c677-e568817018f4"
   },
   "outputs": [],
   "source": [
    "corona_confirmed_df.head()"
   ]
  },
  {
   "cell_type": "code",
   "execution_count": null,
   "metadata": {
    "colab": {},
    "colab_type": "code",
    "id": "YnOPhun5qvo0"
   },
   "outputs": [],
   "source": [
    "corona_deaths_df=corona_deaths_df.melt(id_vars=['Province/State','Country/Region','Lat','Long'])"
   ]
  },
  {
   "cell_type": "code",
   "execution_count": null,
   "metadata": {
    "colab": {
     "base_uri": "https://localhost:8080/",
     "height": 204
    },
    "colab_type": "code",
    "id": "oeipjhxdrg-b",
    "outputId": "ce53bace-364a-465d-ea03-b69e560b995e"
   },
   "outputs": [],
   "source": [
    "corona_deaths_df.head()"
   ]
  },
  {
   "cell_type": "code",
   "execution_count": null,
   "metadata": {
    "colab": {},
    "colab_type": "code",
    "id": "W9kbRAVqrlhy"
   },
   "outputs": [],
   "source": [
    "corona_deaths_df=corona_deaths_df.rename({'variable':'Date','value':'deaths'}, axis='columns')"
   ]
  },
  {
   "cell_type": "code",
   "execution_count": null,
   "metadata": {
    "colab": {
     "base_uri": "https://localhost:8080/",
     "height": 204
    },
    "colab_type": "code",
    "id": "958NP6R5rvBm",
    "outputId": "94f57257-8f8b-4239-ee90-d13b1d55c643"
   },
   "outputs": [],
   "source": [
    "corona_deaths_df.head()"
   ]
  },
  {
   "cell_type": "code",
   "execution_count": null,
   "metadata": {
    "colab": {},
    "colab_type": "code",
    "id": "UTWSK_pOrxGY"
   },
   "outputs": [],
   "source": [
    "corona_recovered_df=corona_recovered_df.melt(id_vars=['Province/State','Country/Region','Lat','Long'])"
   ]
  },
  {
   "cell_type": "code",
   "execution_count": null,
   "metadata": {
    "colab": {
     "base_uri": "https://localhost:8080/",
     "height": 204
    },
    "colab_type": "code",
    "id": "as0R3lE9sbMT",
    "outputId": "0c454639-7b04-4969-808f-735dc800bff8"
   },
   "outputs": [],
   "source": [
    "corona_recovered_df.head()"
   ]
  },
  {
   "cell_type": "code",
   "execution_count": null,
   "metadata": {
    "colab": {},
    "colab_type": "code",
    "id": "WLlpL605sfat"
   },
   "outputs": [],
   "source": [
    "corona_recovered_df=corona_recovered_df.rename({'variable':'Date','value':'recovered'}, axis='columns')"
   ]
  },
  {
   "cell_type": "code",
   "execution_count": null,
   "metadata": {
    "colab": {
     "base_uri": "https://localhost:8080/",
     "height": 204
    },
    "colab_type": "code",
    "id": "9ODj0aHAsoQJ",
    "outputId": "c2c50933-0d04-404c-ef71-651b86cfe295"
   },
   "outputs": [],
   "source": [
    "corona_recovered_df.head()"
   ]
  },
  {
   "cell_type": "code",
   "execution_count": null,
   "metadata": {
    "colab": {},
    "colab_type": "code",
    "id": "42hMVjA7sqZj"
   },
   "outputs": [],
   "source": [
    "combined_df = [corona_confirmed_df, corona_deaths_df, corona_recovered_df]\n",
    "combined_df = [df.set_index(['Province/State','Country/Region','Lat','Long','Date']) for df in combined_df]\n",
    "combined_df=combined_df[0].join(combined_df[1:])"
   ]
  },
  {
   "cell_type": "code",
   "execution_count": null,
   "metadata": {
    "colab": {
     "base_uri": "https://localhost:8080/",
     "height": 235
    },
    "colab_type": "code",
    "id": "aWThZ9bG64hc",
    "outputId": "30ac28da-5b7e-4355-bbc1-991a62c2621e"
   },
   "outputs": [],
   "source": [
    "combined_df.head()"
   ]
  },
  {
   "cell_type": "code",
   "execution_count": null,
   "metadata": {
    "colab": {},
    "colab_type": "code",
    "id": "XVW1yFJs69a7"
   },
   "outputs": [],
   "source": [
    "combined_df=combined_df.reset_index()"
   ]
  },
  {
   "cell_type": "code",
   "execution_count": null,
   "metadata": {
    "colab": {
     "base_uri": "https://localhost:8080/",
     "height": 204
    },
    "colab_type": "code",
    "id": "wyaf5Hu-7c4g",
    "outputId": "b4e5ea7e-0fde-4278-a690-6e8887a5e7ba"
   },
   "outputs": [],
   "source": [
    "combined_df.head()"
   ]
  },
  {
   "cell_type": "code",
   "execution_count": null,
   "metadata": {
    "colab": {},
    "colab_type": "code",
    "id": "-fF_vElu7hGH"
   },
   "outputs": [],
   "source": [
    "combined_df[['Lat', 'Long', 'confirmed', 'deaths', 'recovered']] = combined_df[['Lat', 'Long', 'confirmed', 'deaths', 'recovered']].apply(pd.to_numeric)  "
   ]
  },
  {
   "cell_type": "code",
   "execution_count": null,
   "metadata": {
    "colab": {},
    "colab_type": "code",
    "id": "v6KHudIc8ZoX"
   },
   "outputs": [],
   "source": [
    "combined_df[['Date']] = combined_df[['Date']].apply(pd.to_datetime)\n",
    "combined_df[['confirmed']] = combined_df[['confirmed']].apply(np.int64)\n",
    "combined_df[['deaths']] = combined_df[['deaths']].apply(np.int64)\n",
    "combined_df[['recovered']] = combined_df[['recovered']].apply(np.int64)"
   ]
  },
  {
   "cell_type": "code",
   "execution_count": null,
   "metadata": {
    "colab": {
     "base_uri": "https://localhost:8080/",
     "height": 170
    },
    "colab_type": "code",
    "id": "BLUN65Zu9Myk",
    "outputId": "a049d29a-98cd-4754-af6f-0fbc93e6f0d7"
   },
   "outputs": [],
   "source": [
    "combined_df.dtypes"
   ]
  },
  {
   "cell_type": "code",
   "execution_count": null,
   "metadata": {
    "colab": {
     "base_uri": "https://localhost:8080/",
     "height": 204
    },
    "colab_type": "code",
    "id": "hrQamFkyCpSS",
    "outputId": "a4ac3787-2466-46ed-df13-5204ffc4d567"
   },
   "outputs": [],
   "source": [
    "combined_df.head()"
   ]
  },
  {
   "cell_type": "code",
   "execution_count": null,
   "metadata": {
    "colab": {},
    "colab_type": "code",
    "id": "yiQZniesEkQg"
   },
   "outputs": [],
   "source": [
    "combined_df=combined_df.rename({'Province/State':'State','Country/Region':'Country'}, axis ='columns')"
   ]
  },
  {
   "cell_type": "code",
   "execution_count": null,
   "metadata": {
    "colab": {
     "base_uri": "https://localhost:8080/",
     "height": 204
    },
    "colab_type": "code",
    "id": "AB9MPLuhJZW6",
    "outputId": "b24d8df9-556e-4b03-df4f-3bfc696e59e7"
   },
   "outputs": [],
   "source": [
    "combined_df.head()"
   ]
  },
  {
   "cell_type": "code",
   "execution_count": null,
   "metadata": {
    "colab": {
     "base_uri": "https://localhost:8080/",
     "height": 272
    },
    "colab_type": "code",
    "id": "OgaSs8KgNFA7",
    "outputId": "d65d4682-ba1a-4875-9269-036580e49dee"
   },
   "outputs": [],
   "source": [
    "combined_df.info()"
   ]
  },
  {
   "cell_type": "code",
   "execution_count": null,
   "metadata": {
    "colab": {},
    "colab_type": "code",
    "id": "JRCnjjTiT4QU"
   },
   "outputs": [],
   "source": [
    "combined_df.drop([\"State\"],1,inplace=True)"
   ]
  },
  {
   "cell_type": "code",
   "execution_count": null,
   "metadata": {
    "colab": {
     "base_uri": "https://localhost:8080/",
     "height": 306
    },
    "colab_type": "code",
    "id": "Hcs8NZtRToOf",
    "outputId": "3fc86657-26a9-4a28-ea37-78d087456c36"
   },
   "outputs": [],
   "source": [
    "print(\"Size/Shape of the dataset\",combined_df.shape)\n",
    "print(\"Checking for null values\",combined_df.isnull().sum())\n",
    "print(\"Checking Data-type\", combined_df.dtypes)"
   ]
  },
  {
   "cell_type": "code",
   "execution_count": null,
   "metadata": {
    "colab": {
     "base_uri": "https://localhost:8080/",
     "height": 204
    },
    "colab_type": "code",
    "id": "kqUsD61N310o",
    "outputId": "db1fd0c5-ca3b-4796-877a-52fcbe5889d0"
   },
   "outputs": [],
   "source": [
    "combined_df.head()"
   ]
  },
  {
   "cell_type": "code",
   "execution_count": null,
   "metadata": {
    "colab": {
     "base_uri": "https://localhost:8080/",
     "height": 153
    },
    "colab_type": "code",
    "id": "2SCzaTpuTwLm",
    "outputId": "cbe5a2f6-1473-4fe0-8a91-e57bf7699613"
   },
   "outputs": [],
   "source": [
    "combined_df.isnull().sum()"
   ]
  },
  {
   "cell_type": "code",
   "execution_count": null,
   "metadata": {
    "colab": {},
    "colab_type": "code",
    "id": "_XcC4SqgPrDs"
   },
   "outputs": [],
   "source": [
    "def pltCountry_cases_1(confirmed,*argv):\n",
    "    f, ax=plt.subplots(figsize=(16,5))\n",
    "    labels=argv\n",
    "    for a in argv: \n",
    "        country=combined_df.loc[(combined_df['Country']==a)]\n",
    "        plt.plot(country['Date'],country['confirmed'],linewidth=3)\n",
    "        plt.xticks(rotation=40)\n",
    "        plt.legend(labels)\n",
    "        ax.set(title='Evolution of the number of confirmed_cases' )"
   ]
  },
  {
   "cell_type": "code",
   "execution_count": null,
   "metadata": {
    "colab": {},
    "colab_type": "code",
    "id": "AkHOT0iqRU4P"
   },
   "outputs": [],
   "source": [
    "def pltCountry_cases_2(recovered,*argv):\n",
    "    f, ax=plt.subplots(figsize=(16,5))\n",
    "    labels=argv\n",
    "    for a in argv: \n",
    "        country=combined_df.loc[(combined_df['Country']==a)]\n",
    "        plt.plot(country['Date'],country['recovered'],linewidth=3)\n",
    "        plt.xticks(rotation=40)\n",
    "        plt.legend(labels)\n",
    "        ax.set(title='Evolution of the number of recovered_cases' )"
   ]
  },
  {
   "cell_type": "code",
   "execution_count": null,
   "metadata": {
    "colab": {},
    "colab_type": "code",
    "id": "uYto37VRSZSn"
   },
   "outputs": [],
   "source": [
    "def pltCountry_cases_3(deaths,*argv):\n",
    "    f, ax=plt.subplots(figsize=(16,5))\n",
    "    labels=argv\n",
    "    for a in argv: \n",
    "        country=combined_df.loc[(combined_df['Country']==a)]\n",
    "        plt.plot(country['Date'],country['deaths'],linewidth=3)\n",
    "        plt.xticks(rotation=40)\n",
    "        plt.legend(labels)\n",
    "        ax.set(title='Evolution of the number of deaths_cases' )"
   ]
  },
  {
   "cell_type": "code",
   "execution_count": null,
   "metadata": {
    "colab": {
     "base_uri": "https://localhost:8080/",
     "height": 1000
    },
    "colab_type": "code",
    "id": "51dbu85WSosc",
    "outputId": "2e84f8cc-9705-4bfa-afa5-fb9be4b359b7"
   },
   "outputs": [],
   "source": [
    "pltCountry_cases_1('confirmed','Azerbaijan')\n",
    "pltCountry_cases_2('recovered','Azerbaijan')\n",
    "pltCountry_cases_3('deaths','Azerbaijan')"
   ]
  },
  {
   "cell_type": "code",
   "execution_count": null,
   "metadata": {
    "colab": {
     "base_uri": "https://localhost:8080/",
     "height": 1000
    },
    "colab_type": "code",
    "id": "Dyyj7SPVS7xK",
    "outputId": "d54880a8-0921-4009-9c23-43f7b02a446c"
   },
   "outputs": [],
   "source": [
    "pltCountry_cases_1('confirmed', 'Germany','Spain','France','US')\n",
    "pltCountry_cases_2('recovered', 'Germany','Spain','France','US')\n",
    "pltCountry_cases_3('deaths', 'Germany','Spain','France','US')"
   ]
  },
  {
   "cell_type": "markdown",
   "metadata": {},
   "source": [
    "#Yalniz Azerbaycan ucun et!"
   ]
  },
  {
   "cell_type": "code",
   "execution_count": null,
   "metadata": {},
   "outputs": [],
   "source": [
    "combined_df= combined_df[combined_df['Country']=='Azerbaijan']\n",
    "combined_df"
   ]
  },
  {
   "cell_type": "code",
   "execution_count": null,
   "metadata": {},
   "outputs": [],
   "source": [
    "test = combined_df.drop(['Lat','Long','confirmed','recovered'], axis=1)\n",
    "test"
   ]
  },
  {
   "cell_type": "code",
   "execution_count": null,
   "metadata": {},
   "outputs": [],
   "source": [
    "df = train.fillna('NA').groupby(['Country','Date'])['confirmed'].sum() \\\n",
    "                          .groupby(['Country']).max().sort_values() \\\n",
    "                          .groupby(['Country']).sum().sort_values(ascending = False)\n",
    "\n",
    "top10 = pd.DataFrame(df).head(10)\n",
    "top10"
   ]
  },
  {
   "cell_type": "code",
   "execution_count": null,
   "metadata": {},
   "outputs": [],
   "source": [
    "fig = px.bar(top10, x=top10.index, y='confirmed', labels={'x':'Country'},\n",
    "             color=\"confirmed\", color_continuous_scale=px.colors.sequential.Brwnyl)\n",
    "fig.update_layout(title_text='Confirmed COVID-19 cases by country')\n",
    "fig.show()"
   ]
  },
  {
   "cell_type": "code",
   "execution_count": null,
   "metadata": {},
   "outputs": [],
   "source": [
    "df_by_date = pd.DataFrame(train.fillna('NA').groupby(['Country','Date'])['confirmed'].sum().sort_values().reset_index())\n",
    "\n",
    "fig = px.bar(df_by_date.loc[(df_by_date['Country'] == 'Azerbaijan') &(df_by_date.Date >= '2020-03-01')].sort_values('confirmed',ascending = False), \n",
    "             x='Date', y='confirmed', color=\"confirmed\", color_continuous_scale=px.colors.sequential.BuGn)\n",
    "fig.update_layout(title_text='Confirmed COVID-19 cases per day in Azerbaijan')\n",
    "fig.show()"
   ]
  },
  {
   "cell_type": "code",
   "execution_count": null,
   "metadata": {},
   "outputs": [],
   "source": [
    "df=train.groupby(['Date','Country']).agg('sum').reset_index()\n",
    "df.tail(5)"
   ]
  },
  {
   "cell_type": "code",
   "execution_count": null,
   "metadata": {},
   "outputs": [],
   "source": [
    "def pltCountry_cases(confirmed,*argv):\n",
    "    f, ax=plt.subplots(figsize=(16,5))\n",
    "    labels=argv\n",
    "    for a in argv: \n",
    "        country=df.loc[(df['Country']==a)]\n",
    "        plt.plot(country['Date'],country['confirmed'],linewidth=3)\n",
    "        plt.xticks(rotation=40)\n",
    "        plt.legend(labels)\n",
    "        ax.set(title='Evolution of the number of cases' )"
   ]
  },
  {
   "cell_type": "code",
   "execution_count": null,
   "metadata": {},
   "outputs": [],
   "source": [
    "pltCountry_cases('confirmed','Azerbaijan')"
   ]
  },
  {
   "cell_type": "code",
   "execution_count": null,
   "metadata": {},
   "outputs": [],
   "source": [
    "test['Date'] = pd.to_datetime(test['Date'])\n",
    "train['Date'] = pd.to_datetime(train['Date'])"
   ]
  },
  {
   "cell_type": "code",
   "execution_count": null,
   "metadata": {},
   "outputs": [],
   "source": [
    "case='confirmed'\n",
    "def timeCompare(time,*argv):\n",
    "    Coun1=argv[0]\n",
    "    Coun2=argv[1]\n",
    "    f,ax=plt.subplots(figsize=(16,5))\n",
    "    labels=argv  \n",
    "    country=df.loc[(df['Country']==Coun1)]\n",
    "    plt.plot(country['Date'],country[case],linewidth=2)\n",
    "    plt.xticks([])\n",
    "    plt.legend(labels)\n",
    "    ax.set(title=' Evolution of actual cases',ylabel='Number of cases' )\n",
    "\n",
    "    country2=df.loc[df['Country']==Coun2]\n",
    "    #country2['Date']=country2['Date']-datetime.timedelta(days=time)\n",
    "    plt.plot(country2['Date'],country2[case],linewidth=2)\n",
    "    #plt.xticks([])\n",
    "    plt.legend(labels)\n",
    "    ax.set(title=' Evolution of cases in %d days difference '%time ,ylabel='Number of %s cases'%case )\n"
   ]
  },
  {
   "cell_type": "code",
   "execution_count": null,
   "metadata": {},
   "outputs": [],
   "source": [
    "timeCompare(8,'Azerbaijan','China')"
   ]
  },
  {
   "cell_type": "code",
   "execution_count": null,
   "metadata": {},
   "outputs": [],
   "source": [
    "sns.set(palette = 'Set1',style='darkgrid')\n",
    "#Function for making a time serie on a designated country and plotting the rolled mean and standard \n",
    "def roll(country,case='confirmed'):\n",
    "    ts=df.loc[(df['Country']==country)]  \n",
    "    ts=ts[['Date',case]]\n",
    "    ts=ts.set_index('Date')\n",
    "    ts.astype('int64')\n",
    "    a=len(ts.loc[(ts['confirmed']>=10)])\n",
    "    ts=ts[-a:]\n",
    "    return (ts.rolling(window=4,center=False).mean().dropna())\n",
    "\n",
    "\n",
    "def rollPlot(country, case='confirmed'):\n",
    "    ts=df.loc[(df['Country']==country)]  \n",
    "    ts=ts[['Date',case]]\n",
    "    ts=ts.set_index('Date')\n",
    "    ts.astype('int64')\n",
    "    a=len(ts.loc[(ts['confirmed']>=10)])\n",
    "    ts=ts[-a:]\n",
    "    plt.figure(figsize=(16,6))\n",
    "    plt.plot(ts.rolling(window=7,center=False).mean().dropna(),label='Rolling Mean')\n",
    "    plt.plot(ts[case])\n",
    "    plt.plot(ts.rolling(window=7,center=False).std(),label='Rolling std')\n",
    "    plt.legend()\n",
    "    plt.plot(ts.rolling(window=7,center=False).mean().dropna(),label='Confirmed')\n",
    "    plt.plot(ts[case])\n",
    "    plt.title('Cases distribution in %s with rolling mean and standard' %country)\n",
    "    plt.xticks([])"
   ]
  },
  {
   "cell_type": "code",
   "execution_count": null,
   "metadata": {},
   "outputs": [],
   "source": [
    "tsC1=roll('Azerbaijan')\n",
    "rollPlot('Azerbaijan')"
   ]
  },
  {
   "cell_type": "code",
   "execution_count": null,
   "metadata": {},
   "outputs": [],
   "source": [
    "#Decomposing the ts to find its properties\n",
    "fig=sm.tsa.seasonal_decompose(tsC1.values,freq=7).plot()"
   ]
  },
  {
   "cell_type": "code",
   "execution_count": null,
   "metadata": {},
   "outputs": [],
   "source": [
    "#Function to check the stationarity of the time serie using Dickey fuller test\n",
    "def stationarity(ts):\n",
    "    print('Results of Dickey-Fuller Test:')\n",
    "    test = adfuller(ts, autolag='AIC')\n",
    "    results = pd.Series(test[0:4], index=['Test Statistic','p-value','#Lags Used','Number of Observations Used'])\n",
    "    for i,val in test[4].items():\n",
    "        results['Critical Value (%s)'%i] = val\n",
    "    print (results)\n",
    "\n",
    "#For China\n",
    "tsC=tsC1['confirmed'].values\n",
    "stationarity(tsC)"
   ]
  },
  {
   "cell_type": "code",
   "execution_count": null,
   "metadata": {},
   "outputs": [],
   "source": [
    "def corr(ts):\n",
    "    plot_acf(ts,lags=12,title=\"ACF\")\n",
    "    plot_pacf(ts,lags=12,title=\"PACF\")\n",
    "    \n",
    "\n",
    "#For China\n",
    "corr(tsC1)"
   ]
  },
  {
   "cell_type": "code",
   "execution_count": null,
   "metadata": {},
   "outputs": [],
   "source": [
    "#test['Date'] = pd.to_datetime(test['Date'])\n",
    "#train['Date'] = pd.to_datetime(train['Date'])\n",
    "train = train.set_index(['Date'])\n",
    "test = test.set_index(['Date'])"
   ]
  },
  {
   "cell_type": "code",
   "execution_count": null,
   "metadata": {},
   "outputs": [],
   "source": [
    "def create_features(df,label=None):\n",
    "    \"\"\"\n",
    "    Creates time series features from datetime index.\n",
    "    \"\"\"\n",
    "    df = df.copy()\n",
    "    df['Date'] = df.index\n",
    "    df['hour'] = df['Date'].dt.hour\n",
    "    df['dayofweek'] = df['Date'].dt.dayofweek\n",
    "    df['quarter'] = df['Date'].dt.quarter\n",
    "    df['month'] = df['Date'].dt.month\n",
    "    df['year'] = df['Date'].dt.year\n",
    "    df['dayofyear'] = df['Date'].dt.dayofyear\n",
    "    df['dayofmonth'] = df['Date'].dt.day\n",
    "    df['weekofyear'] = df['Date'].dt.weekofyear\n",
    "    \n",
    "    X = df[['hour','dayofweek','quarter','month','year',\n",
    "           'dayofyear','dayofmonth','weekofyear']]\n",
    "   \n",
    "    return X"
   ]
  },
  {
   "cell_type": "code",
   "execution_count": null,
   "metadata": {},
   "outputs": [],
   "source": [
    "train_features=pd.DataFrame(create_features(train))\n",
    "test_features=pd.DataFrame(create_features(test))\n",
    "features_and_target_train = pd.concat([train,train_features], axis=1)\n",
    "features_and_target_test = pd.concat([test,test_features], axis=1)\n",
    "from sklearn.preprocessing import LabelEncoder\n",
    "le = LabelEncoder()\n",
    "def FunLabelEncoder(df):\n",
    "    for c in df.columns:\n",
    "        if df.dtypes[c] == object:\n",
    "            le.fit(df[c].astype(str))\n",
    "            df[c] = le.transform(df[c].astype(str))\n",
    "    return df\n",
    "features_and_target_train= FunLabelEncoder(features_and_target_train)"
   ]
  },
  {
   "cell_type": "code",
   "execution_count": null,
   "metadata": {},
   "outputs": [],
   "source": [
    "x_train= features_and_target_train[['Country','month', 'dayofyear', 'dayofmonth' , 'weekofyear']]\n",
    "y1 = features_and_target_train[['confirmed']]\n",
    "y2 =features_and_target_train[['recovered']]\n",
    "x_test = features_and_target_test[['Country', 'month', 'dayofyear', 'dayofmonth' , 'weekofyear']]"
   ]
  },
  {
   "cell_type": "code",
   "execution_count": null,
   "metadata": {},
   "outputs": [],
   "source": [
    "#Mean absolute percentage error\n",
    "def mape(y1, y_pred): \n",
    "    y1, y_pred = np.array(y1), np.array(y_pred)\n",
    "    #return 1-(sum((y1-y_pred)**2)/sum((y_pred-np.mean(y_pred))**2))#R2\n",
    "    return np.mean((y1-y_pred)**2)#MSE\n",
    "    #return np.mean(abs(y1-y_pred))#MAE\n",
    "    #return np.sqrt(np.mean((y1-y_pred)**2))#RMSE\n",
    "    #return np.mean(np.abs((y1 - y_pred) / y1)) * 100 #MAPE \n",
    "\n",
    "\"\"\"    accuracy[j]=((abs(real[j]-result[j]))/real[j])*100\n",
    "    #mse_f = np.mean((real[j]-result[j])**2)\n",
    "    #mae_f = np.mean(abs(real[j]-result[j]))\n",
    "    #rmse_f = np.sqrt(mse_f)\n",
    "    #r2_f = 1-(sum((real[j]-result[j])**2)/sum((y-np.mean(y))**2))\"\"\"\n",
    "def split(ts):\n",
    "    #splitting 85%/15% because of little amount of data\n",
    "    size = int(len(ts) * 0.85)\n",
    "    train= ts[:size]\n",
    "    test = ts[size:]\n",
    "    return(train,test)\n",
    "\n",
    "\n",
    "#Arima modeling for ts\n",
    "def arima(ts,test):\n",
    "    p=d=q=range(0,10)\n",
    "    a=99999\n",
    "    pdq=list(itertools.product(p,d,q))\n",
    "    \n",
    "    #Determining the best parameters\n",
    "    for var in pdq:\n",
    "        try:\n",
    "            model = ARIMA(ts, order=var)\n",
    "            result = model.fit()\n",
    "\n",
    "            if (result.aic<=a) :\n",
    "                a=result.aic\n",
    "                param=var\n",
    "        except:\n",
    "            continue\n",
    "            \n",
    "    #Modeling\n",
    "    model = ARIMA(ts, order=param)\n",
    "    result = model.fit()\n",
    "    result.plot_predict(start=int(len(ts) * 0.7), end=int(len(ts) * 1.2))\n",
    "    pred=result.forecast(steps=len(test))[0]\n",
    "    #Plotting results\n",
    "    f,ax=plt.subplots()\n",
    "    plt.plot(pred,c='green', label= 'predictions')\n",
    "    plt.plot(test, c='red',label='real values')\n",
    "    plt.legend()\n",
    "    plt.title('True vs predicted values')\n",
    "    #Printing the error metrics\n",
    "    print(result.summary())        \n",
    "    \n",
    "    print('\\nMSE: %f'%mape(test,pred))\n",
    "    return (pred)"
   ]
  },
  {
   "cell_type": "code",
   "execution_count": null,
   "metadata": {},
   "outputs": [],
   "source": [
    "train,test=split(tsC)\n",
    "pred=arima(train,test)"
   ]
  },
  {
   "cell_type": "code",
   "execution_count": null,
   "metadata": {},
   "outputs": [],
   "source": []
  }
 ],
 "metadata": {
  "colab": {
   "collapsed_sections": [],
   "name": "Covid19.ipynb",
   "provenance": []
  },
  "kernelspec": {
   "display_name": "Python 3",
   "language": "python",
   "name": "python3"
  },
  "language_info": {
   "codemirror_mode": {
    "name": "ipython",
    "version": 3
   },
   "file_extension": ".py",
   "mimetype": "text/x-python",
   "name": "python",
   "nbconvert_exporter": "python",
   "pygments_lexer": "ipython3",
   "version": "3.7.4"
  }
 },
 "nbformat": 4,
 "nbformat_minor": 1
}
