{
  "nbformat": 4,
  "nbformat_minor": 0,
  "metadata": {
    "colab": {
      "name": "GAN",
      "provenance": []
    },
    "kernelspec": {
      "name": "python3",
      "display_name": "Python 3"
    },
    "language_info": {
      "name": "python"
    }
  },
  "cells": [
    {
      "cell_type": "code",
      "metadata": {
        "id": "sf6EoOtwyJ15"
      },
      "source": [
        "from keras.layers import Conv2D, BatchNormalization, Input, GlobalAveragePooling2D, Dense\n",
        "from keras.models import Model\n",
        "from keras.layers.advanced_activations import LeakyReLU\n"
      ],
      "execution_count": 1,
      "outputs": []
    },
    {
      "cell_type": "code",
      "metadata": {
        "id": "3LCaowR0I-sS"
      },
      "source": [
        "# function for building the discriminator layers\n",
        "def build_discriminator(start_filters, spatial_dim, filter_size):\n",
        "    \n",
        "    # function for building a CNN block for downsampling the image\n",
        "    def add_discriminator_block(x, filters, filter_size):\n",
        "      x = Conv2D(filters, filter_size, padding='same')(x)\n",
        "      x = BatchNormalization()(x)\n",
        "      x = Conv2D(filters, filter_size, padding='same', strides=2)(x)\n",
        "      x = BatchNormalization()(x)\n",
        "      x = LeakyReLU(0.3)(x)\n",
        "      return x\n",
        "    \n",
        "    # input is an image with shape spatial_dim x spatial_dim and 3 channels\n",
        "    inp = Input(shape=(spatial_dim, spatial_dim, 3))\n",
        "\n",
        "    # design the discrimitor to downsample the image 4x\n",
        "    x = add_discriminator_block(inp, start_filters, filter_size)\n",
        "    x = add_discriminator_block(x, start_filters * 2, filter_size)\n",
        "    x = add_discriminator_block(x, start_filters * 4, filter_size)\n",
        "    x = add_discriminator_block(x, start_filters * 8, filter_size)\n",
        "    \n",
        "    # average and return a binary output\n",
        "    x = GlobalAveragePooling2D()(x)\n",
        "    x = Dense(1, activation='sigmoid')(x)\n",
        "    \n",
        "    return Model(inputs=inp, outputs=x)"
      ],
      "execution_count": 2,
      "outputs": []
    },
    {
      "cell_type": "code",
      "metadata": {
        "colab": {
          "base_uri": "https://localhost:8080/",
          "height": 381
        },
        "id": "HiSA3enYJI9H",
        "outputId": "fa37b64e-5288-460d-8be7-6a448776585f"
      },
      "source": [
        "from keras.layers import Deconvolution2D, Reshape\n",
        "\n",
        "def build_generator(start_filters, filter_size, latent_dim):\n",
        "  \n",
        "  # function for building a CNN block for upsampling the image\n",
        "  def add_generator_block(x, filters, filter_size):\n",
        "      x = Deconvolution2D(filters, filter_size, strides=2, padding='same')(x)\n",
        "      x = BatchNormalization()(x)\n",
        "      x = LeakyReLU(0.3)(x)\n",
        "      return x\n",
        "\n",
        "  # input is a noise vector \n",
        "  inp = Input(shape=(latent_dim,))\n",
        "\n",
        "  # projection of the noise vector into a tensor with \n",
        "  # same shape as last conv layer in discriminator\n",
        "  x = Dense(4 * 4 * (start_filters * 8), input_dim=latent_dim)(inp)\n",
        "  x = BatchNormalization()(x)\n",
        "  x = Reshape(target_shape=(4, 4, start_filters * 8))(x)\n",
        "\n",
        "  # design the generator to upsample the image 4x\n",
        "  x = add_generator_block(x, start_filters * 4, filter_size)\n",
        "  x = add_generator_block(x, start_filters * 2, filter_size)\n",
        "  x = add_generator_block(x, start_filters, filter_size)\n",
        "  x = add_generator_block(x, start_filters, filter_size)    \n",
        "\n",
        "  # turn the output into a 3D tensor, an image with 3 channels \n",
        "  x = Conv2D(3, kernel_size=5, padding='same', activation='tanh')(x)\n",
        "  \n",
        "  return Model(inputs=inp, outputs=x)"
      ],
      "execution_count": 3,
      "outputs": [
        {
          "output_type": "error",
          "ename": "ImportError",
          "evalue": "ignored",
          "traceback": [
            "\u001b[0;31m---------------------------------------------------------------------------\u001b[0m",
            "\u001b[0;31mImportError\u001b[0m                               Traceback (most recent call last)",
            "\u001b[0;32m<ipython-input-3-b00e5fec1c03>\u001b[0m in \u001b[0;36m<module>\u001b[0;34m()\u001b[0m\n\u001b[0;32m----> 1\u001b[0;31m \u001b[0;32mfrom\u001b[0m \u001b[0mkeras\u001b[0m\u001b[0;34m.\u001b[0m\u001b[0mlayers\u001b[0m \u001b[0;32mimport\u001b[0m \u001b[0mDeconvolution2D\u001b[0m\u001b[0;34m,\u001b[0m \u001b[0mReshape\u001b[0m\u001b[0;34m\u001b[0m\u001b[0;34m\u001b[0m\u001b[0m\n\u001b[0m\u001b[1;32m      2\u001b[0m \u001b[0;34m\u001b[0m\u001b[0m\n\u001b[1;32m      3\u001b[0m \u001b[0;32mdef\u001b[0m \u001b[0mbuild_generator\u001b[0m\u001b[0;34m(\u001b[0m\u001b[0mstart_filters\u001b[0m\u001b[0;34m,\u001b[0m \u001b[0mfilter_size\u001b[0m\u001b[0;34m,\u001b[0m \u001b[0mlatent_dim\u001b[0m\u001b[0;34m)\u001b[0m\u001b[0;34m:\u001b[0m\u001b[0;34m\u001b[0m\u001b[0;34m\u001b[0m\u001b[0m\n\u001b[1;32m      4\u001b[0m \u001b[0;34m\u001b[0m\u001b[0m\n\u001b[1;32m      5\u001b[0m   \u001b[0;31m# function for building a CNN block for upsampling the image\u001b[0m\u001b[0;34m\u001b[0m\u001b[0;34m\u001b[0m\u001b[0;34m\u001b[0m\u001b[0m\n",
            "\u001b[0;31mImportError\u001b[0m: cannot import name 'Deconvolution2D' from 'keras.layers' (/usr/local/lib/python3.7/dist-packages/keras/layers/__init__.py)",
            "",
            "\u001b[0;31m---------------------------------------------------------------------------\u001b[0;32m\nNOTE: If your import is failing due to a missing package, you can\nmanually install dependencies using either !pip or !apt.\n\nTo view examples of installing some common dependencies, click the\n\"Open Examples\" button below.\n\u001b[0;31m---------------------------------------------------------------------------\u001b[0m\n"
          ],
          "errorDetails": {
            "actions": [
              {
                "action": "open_url",
                "actionText": "Open Examples",
                "url": "/notebooks/snippets/importing_libraries.ipynb"
              }
            ]
          }
        }
      ]
    },
    {
      "cell_type": "code",
      "metadata": {
        "id": "5A_o5SEuJaIf"
      },
      "source": [
        ""
      ],
      "execution_count": null,
      "outputs": []
    }
  ]
}